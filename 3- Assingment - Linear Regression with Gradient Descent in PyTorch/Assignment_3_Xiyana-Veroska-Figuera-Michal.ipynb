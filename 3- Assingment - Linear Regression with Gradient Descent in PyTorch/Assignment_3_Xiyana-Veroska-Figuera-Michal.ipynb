{
  "nbformat": 4,
  "nbformat_minor": 0,
  "metadata": {
    "colab": {
      "provenance": []
    },
    "kernelspec": {
      "name": "python3",
      "display_name": "Python 3"
    },
    "language_info": {
      "name": "python"
    },
    "widgets": {
      "application/vnd.jupyter.widget-state+json": {
        "ad2b653758844ba9aff731f8d1b96a18": {
          "model_module": "@jupyter-widgets/controls",
          "model_name": "HBoxModel",
          "model_module_version": "1.5.0",
          "state": {
            "_dom_classes": [],
            "_model_module": "@jupyter-widgets/controls",
            "_model_module_version": "1.5.0",
            "_model_name": "HBoxModel",
            "_view_count": null,
            "_view_module": "@jupyter-widgets/controls",
            "_view_module_version": "1.5.0",
            "_view_name": "HBoxView",
            "box_style": "",
            "children": [
              "IPY_MODEL_63f498e168b6459d934fae817223f6ef",
              "IPY_MODEL_02dd7f6334a74181a75d020591d7ebb3",
              "IPY_MODEL_d8e7ef350e834651ad88ac076450510a"
            ],
            "layout": "IPY_MODEL_7ee33b7e13a740fc8df09b2d9db75ced"
          }
        },
        "63f498e168b6459d934fae817223f6ef": {
          "model_module": "@jupyter-widgets/controls",
          "model_name": "HTMLModel",
          "model_module_version": "1.5.0",
          "state": {
            "_dom_classes": [],
            "_model_module": "@jupyter-widgets/controls",
            "_model_module_version": "1.5.0",
            "_model_name": "HTMLModel",
            "_view_count": null,
            "_view_module": "@jupyter-widgets/controls",
            "_view_module_version": "1.5.0",
            "_view_name": "HTMLView",
            "description": "",
            "description_tooltip": null,
            "layout": "IPY_MODEL_53ad158b6de84e27aab7b43b5e25048c",
            "placeholder": "​",
            "style": "IPY_MODEL_5320e8a7a6494631824635237c6c40ea",
            "value": "100%"
          }
        },
        "02dd7f6334a74181a75d020591d7ebb3": {
          "model_module": "@jupyter-widgets/controls",
          "model_name": "FloatProgressModel",
          "model_module_version": "1.5.0",
          "state": {
            "_dom_classes": [],
            "_model_module": "@jupyter-widgets/controls",
            "_model_module_version": "1.5.0",
            "_model_name": "FloatProgressModel",
            "_view_count": null,
            "_view_module": "@jupyter-widgets/controls",
            "_view_module_version": "1.5.0",
            "_view_name": "ProgressView",
            "bar_style": "success",
            "description": "",
            "description_tooltip": null,
            "layout": "IPY_MODEL_0a0140b9e876462ea5eb0d3f56d8b2e0",
            "max": 50,
            "min": 0,
            "orientation": "horizontal",
            "style": "IPY_MODEL_2a77f2b0d5d042dfb6cd81b54b45acdb",
            "value": 50
          }
        },
        "d8e7ef350e834651ad88ac076450510a": {
          "model_module": "@jupyter-widgets/controls",
          "model_name": "HTMLModel",
          "model_module_version": "1.5.0",
          "state": {
            "_dom_classes": [],
            "_model_module": "@jupyter-widgets/controls",
            "_model_module_version": "1.5.0",
            "_model_name": "HTMLModel",
            "_view_count": null,
            "_view_module": "@jupyter-widgets/controls",
            "_view_module_version": "1.5.0",
            "_view_name": "HTMLView",
            "description": "",
            "description_tooltip": null,
            "layout": "IPY_MODEL_916653728925467d9abe0526c133812c",
            "placeholder": "​",
            "style": "IPY_MODEL_9dd2e03a7ee2434cb3da53f07e01638b",
            "value": " 50/50 [05:25&lt;00:00,  6.45s/it]"
          }
        },
        "7ee33b7e13a740fc8df09b2d9db75ced": {
          "model_module": "@jupyter-widgets/base",
          "model_name": "LayoutModel",
          "model_module_version": "1.2.0",
          "state": {
            "_model_module": "@jupyter-widgets/base",
            "_model_module_version": "1.2.0",
            "_model_name": "LayoutModel",
            "_view_count": null,
            "_view_module": "@jupyter-widgets/base",
            "_view_module_version": "1.2.0",
            "_view_name": "LayoutView",
            "align_content": null,
            "align_items": null,
            "align_self": null,
            "border": null,
            "bottom": null,
            "display": null,
            "flex": null,
            "flex_flow": null,
            "grid_area": null,
            "grid_auto_columns": null,
            "grid_auto_flow": null,
            "grid_auto_rows": null,
            "grid_column": null,
            "grid_gap": null,
            "grid_row": null,
            "grid_template_areas": null,
            "grid_template_columns": null,
            "grid_template_rows": null,
            "height": null,
            "justify_content": null,
            "justify_items": null,
            "left": null,
            "margin": null,
            "max_height": null,
            "max_width": null,
            "min_height": null,
            "min_width": null,
            "object_fit": null,
            "object_position": null,
            "order": null,
            "overflow": null,
            "overflow_x": null,
            "overflow_y": null,
            "padding": null,
            "right": null,
            "top": null,
            "visibility": null,
            "width": null
          }
        },
        "53ad158b6de84e27aab7b43b5e25048c": {
          "model_module": "@jupyter-widgets/base",
          "model_name": "LayoutModel",
          "model_module_version": "1.2.0",
          "state": {
            "_model_module": "@jupyter-widgets/base",
            "_model_module_version": "1.2.0",
            "_model_name": "LayoutModel",
            "_view_count": null,
            "_view_module": "@jupyter-widgets/base",
            "_view_module_version": "1.2.0",
            "_view_name": "LayoutView",
            "align_content": null,
            "align_items": null,
            "align_self": null,
            "border": null,
            "bottom": null,
            "display": null,
            "flex": null,
            "flex_flow": null,
            "grid_area": null,
            "grid_auto_columns": null,
            "grid_auto_flow": null,
            "grid_auto_rows": null,
            "grid_column": null,
            "grid_gap": null,
            "grid_row": null,
            "grid_template_areas": null,
            "grid_template_columns": null,
            "grid_template_rows": null,
            "height": null,
            "justify_content": null,
            "justify_items": null,
            "left": null,
            "margin": null,
            "max_height": null,
            "max_width": null,
            "min_height": null,
            "min_width": null,
            "object_fit": null,
            "object_position": null,
            "order": null,
            "overflow": null,
            "overflow_x": null,
            "overflow_y": null,
            "padding": null,
            "right": null,
            "top": null,
            "visibility": null,
            "width": null
          }
        },
        "5320e8a7a6494631824635237c6c40ea": {
          "model_module": "@jupyter-widgets/controls",
          "model_name": "DescriptionStyleModel",
          "model_module_version": "1.5.0",
          "state": {
            "_model_module": "@jupyter-widgets/controls",
            "_model_module_version": "1.5.0",
            "_model_name": "DescriptionStyleModel",
            "_view_count": null,
            "_view_module": "@jupyter-widgets/base",
            "_view_module_version": "1.2.0",
            "_view_name": "StyleView",
            "description_width": ""
          }
        },
        "0a0140b9e876462ea5eb0d3f56d8b2e0": {
          "model_module": "@jupyter-widgets/base",
          "model_name": "LayoutModel",
          "model_module_version": "1.2.0",
          "state": {
            "_model_module": "@jupyter-widgets/base",
            "_model_module_version": "1.2.0",
            "_model_name": "LayoutModel",
            "_view_count": null,
            "_view_module": "@jupyter-widgets/base",
            "_view_module_version": "1.2.0",
            "_view_name": "LayoutView",
            "align_content": null,
            "align_items": null,
            "align_self": null,
            "border": null,
            "bottom": null,
            "display": null,
            "flex": null,
            "flex_flow": null,
            "grid_area": null,
            "grid_auto_columns": null,
            "grid_auto_flow": null,
            "grid_auto_rows": null,
            "grid_column": null,
            "grid_gap": null,
            "grid_row": null,
            "grid_template_areas": null,
            "grid_template_columns": null,
            "grid_template_rows": null,
            "height": null,
            "justify_content": null,
            "justify_items": null,
            "left": null,
            "margin": null,
            "max_height": null,
            "max_width": null,
            "min_height": null,
            "min_width": null,
            "object_fit": null,
            "object_position": null,
            "order": null,
            "overflow": null,
            "overflow_x": null,
            "overflow_y": null,
            "padding": null,
            "right": null,
            "top": null,
            "visibility": null,
            "width": null
          }
        },
        "2a77f2b0d5d042dfb6cd81b54b45acdb": {
          "model_module": "@jupyter-widgets/controls",
          "model_name": "ProgressStyleModel",
          "model_module_version": "1.5.0",
          "state": {
            "_model_module": "@jupyter-widgets/controls",
            "_model_module_version": "1.5.0",
            "_model_name": "ProgressStyleModel",
            "_view_count": null,
            "_view_module": "@jupyter-widgets/base",
            "_view_module_version": "1.2.0",
            "_view_name": "StyleView",
            "bar_color": null,
            "description_width": ""
          }
        },
        "916653728925467d9abe0526c133812c": {
          "model_module": "@jupyter-widgets/base",
          "model_name": "LayoutModel",
          "model_module_version": "1.2.0",
          "state": {
            "_model_module": "@jupyter-widgets/base",
            "_model_module_version": "1.2.0",
            "_model_name": "LayoutModel",
            "_view_count": null,
            "_view_module": "@jupyter-widgets/base",
            "_view_module_version": "1.2.0",
            "_view_name": "LayoutView",
            "align_content": null,
            "align_items": null,
            "align_self": null,
            "border": null,
            "bottom": null,
            "display": null,
            "flex": null,
            "flex_flow": null,
            "grid_area": null,
            "grid_auto_columns": null,
            "grid_auto_flow": null,
            "grid_auto_rows": null,
            "grid_column": null,
            "grid_gap": null,
            "grid_row": null,
            "grid_template_areas": null,
            "grid_template_columns": null,
            "grid_template_rows": null,
            "height": null,
            "justify_content": null,
            "justify_items": null,
            "left": null,
            "margin": null,
            "max_height": null,
            "max_width": null,
            "min_height": null,
            "min_width": null,
            "object_fit": null,
            "object_position": null,
            "order": null,
            "overflow": null,
            "overflow_x": null,
            "overflow_y": null,
            "padding": null,
            "right": null,
            "top": null,
            "visibility": null,
            "width": null
          }
        },
        "9dd2e03a7ee2434cb3da53f07e01638b": {
          "model_module": "@jupyter-widgets/controls",
          "model_name": "DescriptionStyleModel",
          "model_module_version": "1.5.0",
          "state": {
            "_model_module": "@jupyter-widgets/controls",
            "_model_module_version": "1.5.0",
            "_model_name": "DescriptionStyleModel",
            "_view_count": null,
            "_view_module": "@jupyter-widgets/base",
            "_view_module_version": "1.2.0",
            "_view_name": "StyleView",
            "description_width": ""
          }
        }
      }
    }
  },
  "cells": [
    {
      "cell_type": "markdown",
      "source": [
        "## [DO NOT CHANGE THIS CELL] Import Dependencies\n",
        "#### Do not use additional Packages! USE ONLY BELOW IMPORTED ONES"
      ],
      "metadata": {
        "id": "laiP5-IZF3bd"
      }
    },
    {
      "cell_type": "code",
      "execution_count": 1,
      "metadata": {
        "id": "7ZfJu47o49R5"
      },
      "outputs": [],
      "source": [
        "import os\n",
        "import csv\n",
        "import random\n",
        "import numpy as np\n",
        "\n",
        "import torch\n",
        "import torch.nn as nn\n",
        "from tqdm.notebook import tqdm"
      ]
    },
    {
      "cell_type": "markdown",
      "source": [
        "## [DO NOT CHANGE THIS CELL] Define file path (We use default data from colab)"
      ],
      "metadata": {
        "id": "XtjVD6zSGC5e"
      }
    },
    {
      "cell_type": "code",
      "source": [
        "train_csv_fp = './sample_data/california_housing_train.csv'\n",
        "test_csv_fp = './sample_data/california_housing_test.csv'"
      ],
      "metadata": {
        "id": "5KeujrN4517J"
      },
      "execution_count": 2,
      "outputs": []
    },
    {
      "cell_type": "markdown",
      "source": [
        "## [DO NOT CHANGE THIS CELL] Define function for read CSV files"
      ],
      "metadata": {
        "id": "xZsKSbGUGMUS"
      }
    },
    {
      "cell_type": "code",
      "source": [
        "def read_csv(csv_fp):\n",
        "    data = dict()\n",
        "    all_names = []\n",
        "    with open(csv_fp) as f:\n",
        "        reader = csv.reader(f)\n",
        "        for i, row in enumerate(reader):\n",
        "            if i == 0:\n",
        "                for name in row:\n",
        "                    data[name] = list()\n",
        "                    all_names.append(name)\n",
        "            else:\n",
        "                for ii, val in enumerate(row):\n",
        "                    data[all_names[ii]].append(float(val))\n",
        "    \n",
        "    return data, all_names"
      ],
      "metadata": {
        "id": "7fbRTlL66EeA"
      },
      "execution_count": 3,
      "outputs": []
    },
    {
      "cell_type": "markdown",
      "source": [
        "## [DO NOT CHANGE THIS CELL] Read CSV files as a DICTIONARY"
      ],
      "metadata": {
        "id": "wgb50yc8GW1i"
      }
    },
    {
      "cell_type": "code",
      "source": [
        "train_data, names = read_csv(train_csv_fp)\n",
        "test_data, _ = read_csv(test_csv_fp)\n",
        "print('Attributes are: ', names)"
      ],
      "metadata": {
        "colab": {
          "base_uri": "https://localhost:8080/"
        },
        "id": "XFTIbcvX6LiY",
        "outputId": "89362dac-dcd5-455e-89c2-d880d984dc02"
      },
      "execution_count": 4,
      "outputs": [
        {
          "output_type": "stream",
          "name": "stdout",
          "text": [
            "Attributes are:  ['longitude', 'latitude', 'housing_median_age', 'total_rooms', 'total_bedrooms', 'population', 'households', 'median_income', 'median_house_value']\n"
          ]
        }
      ]
    },
    {
      "cell_type": "markdown",
      "source": [
        "## [DO NOT CHANGE THIS CELL] Names of INPUT/OUTPUT"
      ],
      "metadata": {
        "id": "4pjZOLbKGb09"
      }
    },
    {
      "cell_type": "code",
      "source": [
        "input_name = names[:-1]\n",
        "output_name = names[-1]\n",
        "print('Inputs are: ', input_name)\n",
        "print('Outputs are: ', output_name)"
      ],
      "metadata": {
        "colab": {
          "base_uri": "https://localhost:8080/"
        },
        "id": "0kIB36op6TfO",
        "outputId": "f1de5f0f-38a1-494d-84ae-de70cc1323d9"
      },
      "execution_count": 5,
      "outputs": [
        {
          "output_type": "stream",
          "name": "stdout",
          "text": [
            "Inputs are:  ['longitude', 'latitude', 'housing_median_age', 'total_rooms', 'total_bedrooms', 'population', 'households', 'median_income']\n",
            "Outputs are:  median_house_value\n"
          ]
        }
      ]
    },
    {
      "cell_type": "markdown",
      "source": [
        "## [DO NOT CHANGE THIS CELL] Normalize the data"
      ],
      "metadata": {
        "id": "PRLvy4QsGfFS"
      }
    },
    {
      "cell_type": "code",
      "source": [
        "def normalize(data, mean=None, std=None):\n",
        "    stat_flag = False\n",
        "    if mean is None and std is None:\n",
        "        mean = dict()\n",
        "        std = dict()\n",
        "        stat_flag = True\n",
        "    \n",
        "    for k, v in data.items():\n",
        "        if stat_flag:\n",
        "            mean[k] = np.mean(v)\n",
        "            std[k] = np.std(v)\n",
        "        data[k] = (np.array(v) - mean[k] ) / std[k]\n",
        "    return data, mean, std\n",
        "\n",
        "train_data, mean, std = normalize(train_data)\n",
        "test_data, _, _ = normalize(test_data, mean, std)"
      ],
      "metadata": {
        "id": "_kpqMBhx8ot2"
      },
      "execution_count": 6,
      "outputs": []
    },
    {
      "cell_type": "markdown",
      "source": [
        "## **[CHANGE ONLY BELOW CELL]** Code for Training"
      ],
      "metadata": {
        "id": "b4qb0pvWG2F_"
      }
    },
    {
      "cell_type": "code",
      "source": [
        "def train(data, seed):\n",
        "    random.seed(seed)\n",
        "    np.random.seed(seed)\n",
        "    torch.manual_seed(seed)\n",
        "    torch.cuda.manual_seed_all(seed)\n",
        "    torch.backends.cudnn.deterministic = True\n",
        "\n",
        "    weight = np.random.rand(len(input_name), 1)\n",
        "    bias = np.random.rand(1)\n",
        "\n",
        "    ##### write your code to optimize weight and bias #####\n",
        "\n",
        "\n",
        "    # YOUR CODE HERE #\n",
        "    num_data = len(data[output_name])\n",
        "    learning_rate = 0.0005\n",
        "\n",
        "    weight = nn.Parameter(torch.tensor(weight),requires_grad=True)\n",
        "    bias = nn.Parameter(torch.tensor(bias), requires_grad=True)\n",
        "\n",
        "    for i in range(num_data):\n",
        "        curr_input = np.asarray([data[name][i] for name in input_name])\n",
        "        \n",
        "        curr_input = torch.tensor(curr_input)\n",
        "\n",
        "        pred_y = (curr_input.T @ weight) + bias\n",
        "\n",
        "        curr_y = torch.tensor(data[output_name][i])\n",
        "\n",
        "        criteria = nn.MSELoss()\n",
        "        \n",
        "        pred_loss = criteria(pred_y, curr_y)\n",
        "\n",
        "        pred_loss.backward()\n",
        "        #print(pred_loss)\n",
        "\n",
        "        \n",
        "        with torch.no_grad():\n",
        "            weight -= learning_rate * weight.grad   \n",
        "            bias -= learning_rate * bias.grad\n",
        "            \n",
        "        \n",
        "        weight.grad.zero_()\n",
        "        bias.grad.zero_()\n",
        "    \n",
        "    weight = weight.data.numpy()\n",
        "    bias = bias.data.numpy()\n",
        "    \n",
        "\n",
        "\n",
        "\n",
        "    #######################################################\n",
        "\n",
        "    # do not modify this return part.\n",
        "    return weight, bias"
      ],
      "metadata": {
        "id": "UGBy0upW7Ugg"
      },
      "execution_count": 7,
      "outputs": []
    },
    {
      "cell_type": "markdown",
      "source": [
        "##[DO NOT CHANGE THIS CELL] Code for testing"
      ],
      "metadata": {
        "id": "PzmTTE-MHBfS"
      }
    },
    {
      "cell_type": "code",
      "source": [
        "def test(test_data, weight, bias):\n",
        "    num_data = len(test_data[output_name])\n",
        "\n",
        "    avg_loss = 0.0\n",
        "    for i in range(num_data):\n",
        "        curr_input = np.asarray([test_data[name][i] for name in input_name])\n",
        "        curr_answer = test_data[output_name][i]\n",
        "\n",
        "        curr_pred = (curr_input.T @ weight) + bias\n",
        "\n",
        "        curr_loss = np.linalg.norm(curr_answer - curr_pred)\n",
        "\n",
        "        avg_loss += curr_loss / num_data\n",
        "\n",
        "    return avg_loss"
      ],
      "metadata": {
        "id": "i3mENGIg8URE"
      },
      "execution_count": 8,
      "outputs": []
    },
    {
      "cell_type": "markdown",
      "source": [
        "##[DO NOT CHANGE THIS CELL] Code for testing"
      ],
      "metadata": {
        "id": "P6my2aBTHL_V"
      }
    },
    {
      "cell_type": "code",
      "source": [
        "max_iter = 50\n",
        "total_loss = 0.0\n",
        "for seed in tqdm(range(max_iter)):\n",
        "    weight, bias = train(train_data, seed)\n",
        "\n",
        "    test_loss = test(test_data, weight, bias)\n",
        "\n",
        "    print('[SEED {}] TEST LOSS : {}'.format(seed, test_loss.item()))\n",
        "\n",
        "    total_loss += test_loss / max_iter\n",
        "\n",
        "print('TOTAL TEST LOSS: {}'.format(total_loss))"
      ],
      "metadata": {
        "id": "144IsacI9snU",
        "colab": {
          "base_uri": "https://localhost:8080/",
          "height": 1000,
          "referenced_widgets": [
            "ad2b653758844ba9aff731f8d1b96a18",
            "63f498e168b6459d934fae817223f6ef",
            "02dd7f6334a74181a75d020591d7ebb3",
            "d8e7ef350e834651ad88ac076450510a",
            "7ee33b7e13a740fc8df09b2d9db75ced",
            "53ad158b6de84e27aab7b43b5e25048c",
            "5320e8a7a6494631824635237c6c40ea",
            "0a0140b9e876462ea5eb0d3f56d8b2e0",
            "2a77f2b0d5d042dfb6cd81b54b45acdb",
            "916653728925467d9abe0526c133812c",
            "9dd2e03a7ee2434cb3da53f07e01638b"
          ]
        },
        "outputId": "7d89dc85-a102-4f30-94db-216b8cc12b20"
      },
      "execution_count": 9,
      "outputs": [
        {
          "output_type": "display_data",
          "data": {
            "text/plain": [
              "  0%|          | 0/50 [00:00<?, ?it/s]"
            ],
            "application/vnd.jupyter.widget-view+json": {
              "version_major": 2,
              "version_minor": 0,
              "model_id": "ad2b653758844ba9aff731f8d1b96a18"
            }
          },
          "metadata": {}
        },
        {
          "output_type": "stream",
          "name": "stderr",
          "text": [
            "/usr/local/lib/python3.7/dist-packages/ipykernel_launcher.py:26: UserWarning: The use of `x.T` on tensors of dimension other than 2 to reverse their shape is deprecated and it will throw an error in a future release. Consider `x.mT` to transpose batches of matricesor `x.permute(*torch.arange(x.ndim - 1, -1, -1))` to reverse the dimensions of a tensor. (Triggered internally at  ../aten/src/ATen/native/TensorShape.cpp:2981.)\n",
            "/usr/local/lib/python3.7/dist-packages/torch/nn/modules/loss.py:530: UserWarning: Using a target size (torch.Size([])) that is different to the input size (torch.Size([1])). This will likely lead to incorrect results due to broadcasting. Please ensure they have the same size.\n",
            "  return F.mse_loss(input, target, reduction=self.reduction)\n"
          ]
        },
        {
          "output_type": "stream",
          "name": "stdout",
          "text": [
            "[SEED 0] TEST LOSS : 0.5225703664850061\n",
            "[SEED 1] TEST LOSS : 0.565486710530779\n",
            "[SEED 2] TEST LOSS : 0.5492934184079863\n",
            "[SEED 3] TEST LOSS : 0.6459874003663844\n",
            "[SEED 4] TEST LOSS : 0.6596598288944044\n",
            "[SEED 5] TEST LOSS : 0.5736857021532871\n",
            "[SEED 6] TEST LOSS : 0.6215402460792067\n",
            "[SEED 7] TEST LOSS : 0.5521964774483433\n",
            "[SEED 8] TEST LOSS : 0.6367710253521576\n",
            "[SEED 9] TEST LOSS : 0.549699554210568\n",
            "[SEED 10] TEST LOSS : 0.6153529259173802\n",
            "[SEED 11] TEST LOSS : 0.46827476783978256\n",
            "[SEED 12] TEST LOSS : 0.4847978414178089\n",
            "[SEED 13] TEST LOSS : 0.5616645571360886\n",
            "[SEED 14] TEST LOSS : 0.5734340429302736\n",
            "[SEED 15] TEST LOSS : 0.6318031620414392\n",
            "[SEED 16] TEST LOSS : 0.576336272745666\n",
            "[SEED 17] TEST LOSS : 0.5932975935406475\n",
            "[SEED 18] TEST LOSS : 0.620969065257252\n",
            "[SEED 19] TEST LOSS : 0.476057158630443\n",
            "[SEED 20] TEST LOSS : 0.5821091580048319\n",
            "[SEED 21] TEST LOSS : 0.5181989854207378\n",
            "[SEED 22] TEST LOSS : 0.5641266323366495\n",
            "[SEED 23] TEST LOSS : 0.5761001929821654\n",
            "[SEED 24] TEST LOSS : 0.6956977474486342\n",
            "[SEED 25] TEST LOSS : 0.5907856043156775\n",
            "[SEED 26] TEST LOSS : 0.5117769950559067\n",
            "[SEED 27] TEST LOSS : 0.5401498723709162\n",
            "[SEED 28] TEST LOSS : 0.5275911441818024\n",
            "[SEED 29] TEST LOSS : 0.5482743608531576\n",
            "[SEED 30] TEST LOSS : 0.5479529317192837\n",
            "[SEED 31] TEST LOSS : 0.6230218876770227\n",
            "[SEED 32] TEST LOSS : 0.5904112443623262\n",
            "[SEED 33] TEST LOSS : 0.507646266233634\n",
            "[SEED 34] TEST LOSS : 0.5603521810312407\n",
            "[SEED 35] TEST LOSS : 0.508469687048851\n",
            "[SEED 36] TEST LOSS : 0.5750600463393534\n",
            "[SEED 37] TEST LOSS : 0.6494050012437518\n",
            "[SEED 38] TEST LOSS : 0.6106149508323413\n",
            "[SEED 39] TEST LOSS : 0.5646021709318194\n",
            "[SEED 40] TEST LOSS : 0.49199935261358596\n",
            "[SEED 41] TEST LOSS : 0.4712469541650348\n",
            "[SEED 42] TEST LOSS : 0.5647932096513002\n",
            "[SEED 43] TEST LOSS : 0.5783490785279114\n",
            "[SEED 44] TEST LOSS : 0.5733439437527814\n",
            "[SEED 45] TEST LOSS : 0.6810767380887575\n",
            "[SEED 46] TEST LOSS : 0.5485324840592021\n",
            "[SEED 47] TEST LOSS : 0.5183591401216866\n",
            "[SEED 48] TEST LOSS : 0.5131253385544297\n",
            "[SEED 49] TEST LOSS : 0.4960615771502564\n",
            "TOTAL TEST LOSS: 0.5661622598891992\n"
          ]
        }
      ]
    },
    {
      "cell_type": "markdown",
      "source": [
        "##[DO NOT CHANGE THIS CELL] Code for Grading"
      ],
      "metadata": {
        "id": "VxgelllyHNDW"
      }
    },
    {
      "cell_type": "code",
      "source": [
        "######## DO NOT CHANGE THIS GRADING PART ########\n",
        "THRESHOLD = 0.5\n",
        "max_point = 40\n",
        "\n",
        "if total_loss < THRESHOLD:\n",
        "    your_point = max_point\n",
        "else:\n",
        "    your_point = np.exp( -0.5* (total_loss - THRESHOLD) ) * max_point\n",
        "\n",
        "print('YOUR POINT : {}/{}'.format(your_point, max_point))\n",
        "####################################################"
      ],
      "metadata": {
        "id": "6GCEnHBJ-0Zu",
        "colab": {
          "base_uri": "https://localhost:8080/"
        },
        "outputId": "360a31d2-7f13-46ce-ed8e-2c9bb5c32418"
      },
      "execution_count": 10,
      "outputs": [
        {
          "output_type": "stream",
          "name": "stdout",
          "text": [
            "YOUR POINT : 38.69840265693643/40\n"
          ]
        }
      ]
    },
    {
      "cell_type": "code",
      "source": [],
      "metadata": {
        "id": "0cprdT-lAR1V"
      },
      "execution_count": 10,
      "outputs": []
    }
  ]
}
