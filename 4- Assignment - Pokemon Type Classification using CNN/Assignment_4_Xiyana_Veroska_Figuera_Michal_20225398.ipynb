{
  "cells": [
    {
      "cell_type": "markdown",
      "metadata": {
        "id": "vnFvUsHEH7P_"
      },
      "source": [
        "## Download data and source folder (**Do not Modify**)\n"
      ]
    },
    {
      "cell_type": "code",
      "execution_count": null,
      "metadata": {
        "colab": {
          "base_uri": "https://localhost:8080/"
        },
        "id": "1ExnLFOzGrz8",
        "outputId": "1084975d-abc7-4423-a33c-612ddc8aee26"
      },
      "outputs": [
        {
          "name": "stdout",
          "output_type": "stream",
          "text": [
            "Looking in indexes: https://pypi.org/simple, https://us-python.pkg.dev/colab-wheels/public/simple/\n",
            "Requirement already satisfied: gdown in /usr/local/lib/python3.8/dist-packages (4.4.0)\n",
            "Requirement already satisfied: tqdm in /usr/local/lib/python3.8/dist-packages (from gdown) (4.64.1)\n",
            "Requirement already satisfied: beautifulsoup4 in /usr/local/lib/python3.8/dist-packages (from gdown) (4.6.3)\n",
            "Requirement already satisfied: filelock in /usr/local/lib/python3.8/dist-packages (from gdown) (3.8.0)\n",
            "Requirement already satisfied: six in /usr/local/lib/python3.8/dist-packages (from gdown) (1.15.0)\n",
            "Requirement already satisfied: requests[socks] in /usr/local/lib/python3.8/dist-packages (from gdown) (2.23.0)\n",
            "Requirement already satisfied: idna<3,>=2.5 in /usr/local/lib/python3.8/dist-packages (from requests[socks]->gdown) (2.10)\n",
            "Requirement already satisfied: certifi>=2017.4.17 in /usr/local/lib/python3.8/dist-packages (from requests[socks]->gdown) (2022.9.24)\n",
            "Requirement already satisfied: urllib3!=1.25.0,!=1.25.1,<1.26,>=1.21.1 in /usr/local/lib/python3.8/dist-packages (from requests[socks]->gdown) (1.24.3)\n",
            "Requirement already satisfied: chardet<4,>=3.0.2 in /usr/local/lib/python3.8/dist-packages (from requests[socks]->gdown) (3.0.4)\n",
            "Requirement already satisfied: PySocks!=1.5.7,>=1.5.6 in /usr/local/lib/python3.8/dist-packages (from requests[socks]->gdown) (1.7.1)\n"
          ]
        },
        {
          "name": "stderr",
          "output_type": "stream",
          "text": [
            "Downloading...\n",
            "From: https://drive.google.com/uc?id=1CQdgTOUlY-TUoWZyxtVZxRthBhSuhDVi\n",
            "To: /content/source.zip\n",
            "100%|██████████| 11.8M/11.8M [00:00<00:00, 155MB/s]\n"
          ]
        }
      ],
      "source": [
        "!pip install gdown\n",
        "import gdown\n",
        "import zipfile\n",
        "url = 'https://drive.google.com/uc?id=1CQdgTOUlY-TUoWZyxtVZxRthBhSuhDVi'\n",
        "output = 'source.zip'\n",
        "gdown.download(url, output, quiet=False)\n",
        "with zipfile.ZipFile(output, \"r\") as zip_ref:\n",
        "    zip_ref.extractall('.')"
      ]
    },
    {
      "cell_type": "markdown",
      "metadata": {
        "id": "h0SUiITHIODO"
      },
      "source": [
        "## Install package for calculating FLOPS (**Do not Modify**)\n"
      ]
    },
    {
      "cell_type": "code",
      "execution_count": null,
      "metadata": {
        "colab": {
          "base_uri": "https://localhost:8080/"
        },
        "id": "3bYv2QizG2Uf",
        "outputId": "22589cca-8e9e-4384-99bd-a26b762463cc"
      },
      "outputs": [
        {
          "name": "stdout",
          "output_type": "stream",
          "text": [
            "Looking in indexes: https://pypi.org/simple, https://us-python.pkg.dev/colab-wheels/public/simple/\n",
            "Collecting pthflops\n",
            "  Downloading pthflops-0.4.2-py3-none-any.whl (11 kB)\n",
            "Requirement already satisfied: torch in /usr/local/lib/python3.8/dist-packages (from pthflops) (1.12.1+cu113)\n",
            "Requirement already satisfied: typing-extensions in /usr/local/lib/python3.8/dist-packages (from torch->pthflops) (4.1.1)\n",
            "Installing collected packages: pthflops\n",
            "Successfully installed pthflops-0.4.2\n"
          ]
        }
      ],
      "source": [
        "!pip install pthflops"
      ]
    },
    {
      "cell_type": "markdown",
      "metadata": {
        "id": "MxutNkHbIVDy"
      },
      "source": [
        "## Import Necessary Dependencies\n",
        "- You may import other packages if you want.\n"
      ]
    },
    {
      "cell_type": "code",
      "execution_count": null,
      "metadata": {
        "id": "iO9f0-7-HJT2"
      },
      "outputs": [],
      "source": [
        "import os\n",
        "import sys\n",
        "import os.path as osp\n",
        "\n",
        "from PIL import Image\n",
        "\n",
        "import random\n",
        "import numpy as np\n",
        "\n",
        "import torch\n",
        "import torch.nn as nn\n",
        "import torch.nn.functional as F\n",
        "import torch.optim as optim\n",
        "from torch.utils.data import Dataset, DataLoader\n",
        "\n",
        "import torchvision\n",
        "import torchvision.transforms as T\n",
        "\n",
        "import glob\n",
        "import matplotlib.pyplot as plt\n",
        "\n",
        "from pthflops import count_ops\n",
        "\n",
        "# functions that you downloaded from the first code cell.\n",
        "# please use this code for seed reset, dataloaders, and test function  \n",
        "from src.util import reset\n",
        "# if data.py is changed, please submit that also.\n",
        "from src.data import get_dataloader\n",
        "from src.test import test"
      ]
    },
    {
      "cell_type": "markdown",
      "metadata": {
        "id": "DwrUU3z-IuJb"
      },
      "source": [
        "## Define label names, data directory, device name.\n"
      ]
    },
    {
      "cell_type": "code",
      "execution_count": null,
      "metadata": {
        "id": "5cYoZDUKHxHy"
      },
      "outputs": [],
      "source": [
        "## DO NOT MODIFY FROM HERE\n",
        "label_names = ['bug', 'electric', 'fighting', 'fire', 'flying', 'grass', 'ground', 'phychic', 'poison', 'water']\n",
        "data_dir = 'data'\n",
        "## DO NOT MODIFY UNTIL HERE\n",
        "\n",
        "## You may modify device name depending on your workspace spec.\n",
        "device = 'cuda' if torch.cuda.is_available() else 'cpu'\n",
        "\n",
        "## Specify the batch size as you want.\n",
        "batch_size = 64"
      ]
    },
    {
      "cell_type": "markdown",
      "metadata": {
        "id": "zc8zxrr7JBep"
      },
      "source": [
        "## **(TO-DO)** DEFINE YOUR `MyModel`\n",
        "- Please do not change the class name. Let `MyModel` be your classifier class name. \n",
        "- Below is just simple example using ResNet18."
      ]
    },
    {
      "cell_type": "code",
      "execution_count": null,
      "metadata": {
        "id": "UBeaeUcsH0P2"
      },
      "outputs": [],
      "source": [
        "######## Define your classification model.  #######\n",
        "# below model is not valid anymore since it uses ResNet.\n",
        "class MyModel(nn.Module):\n",
        "    def __init__(self, in_channels, num_classes):\n",
        "        super().__init__()        \n",
        "        self.convolution_1 = nn.Conv2d(in_channels=in_channels, out_channels=16, kernel_size=2,\n",
        "                               stride=1, padding=1)\n",
        "        self.convolution_2 = nn.Conv2d(in_channels=16, out_channels=32, kernel_size=2,\n",
        "                               stride=1, padding=1)\n",
        "        self.convolution_3 = nn.Conv2d(in_channels=32, out_channels=64, kernel_size=2,\n",
        "                               stride=1, padding=1)\n",
        "        self.convolution_4 = nn.Conv2d(in_channels=64, out_channels=128, kernel_size=2,\n",
        "                               stride=1, padding=1)\n",
        "        \n",
        "        self.avg_pool = nn.AvgPool2d(kernel_size=2, stride=2)\n",
        "      \n",
        "        self.batch_n_1 = nn.BatchNorm2d(num_features=16)\n",
        "        self.batch_n_2 = nn.BatchNorm2d(num_features=32)\n",
        "        self.batch_n_3 = nn.BatchNorm2d(num_features=64)\n",
        "        self.batch_n_4 = nn.BatchNorm2d(num_features=128)\n",
        "\n",
        "        self.activation = nn.ReLU()\n",
        "\n",
        "        self.fc_1 = nn.Linear(in_features=6272, out_features=5012) \n",
        "        self.classifier = nn.Linear(in_features=5012, out_features=num_classes)\n",
        "        \n",
        "    def forward(self, img):\n",
        "\n",
        "        B, C, H, W = img.shape\n",
        "\n",
        "        out = self.avg_pool(self.activation(self.batch_n_1(self.convolution_1(img))))\n",
        "        out = self.avg_pool(self.activation(self.batch_n_2(self.convolution_2(out))))\n",
        "        out = self.avg_pool(self.activation(self.batch_n_3(self.convolution_3(out))))\n",
        "        out = self.avg_pool(self.activation(self.batch_n_4(self.convolution_4(out))))\n",
        "        \n",
        "        out = out.view(out.size(0), -1)        \n",
        "\n",
        "        out = self.fc_1(out)\n",
        "        out = self.activation(out)\n",
        "        out = self.classifier(out)\n",
        "        \n",
        "        return out\n",
        "####################################################"
      ]
    },
    {
      "cell_type": "markdown",
      "metadata": {
        "id": "DFYTeLz1KOGS"
      },
      "source": [
        "## **(Optional)** Make your own loss function.\n",
        "- You may change `criterion` as you want. \n",
        "- But make your custom loss function work without changing below lines, which starts from `model.train()`\n"
      ]
    },
    {
      "cell_type": "code",
      "execution_count": null,
      "metadata": {
        "id": "M4ed9AWoH0yC"
      },
      "outputs": [],
      "source": [
        "def train(model, optimizer, sample):\n",
        "    ### You may define your own loss function.###\n",
        "    w= [(1-(220/3321)),(1-(253/3321)),(1-(337/3321)),(1-(328/3321)),(1-(365/3321)),(1-(377/3321)),(1-(390/3321)),(1-(196/3321)),(1-(262/3321)),(1-(593/3321))]\n",
        "    weigths = torch.Tensor(w)\n",
        "    criterion = nn.CrossEntropyLoss(weight= weigths.to(device))\n",
        "    \n",
        "    #############################################\n",
        "\n",
        "    ### make your code work without changing below lines ###\n",
        "    model.train()    \n",
        "    \n",
        "    input = sample['img'].float().to(device)\n",
        "    label = sample['label'].long().to(device)\n",
        "\n",
        "    pred = model(input)\n",
        "\n",
        "    loss = criterion(pred, label)\n",
        "\n",
        "    num_correct = torch.sum(torch.argmax(pred, dim=-1)==label)\n",
        "\n",
        "    optimizer.zero_grad()\n",
        "    loss.backward()\n",
        "    optimizer.step()\n",
        "\n",
        "    return loss.item(), num_correct.item()\n",
        "    ##########################################################"
      ]
    },
    {
      "cell_type": "markdown",
      "metadata": {
        "id": "K1Szzew1Mbfl"
      },
      "source": [
        "## **(TO-DO)** DEFINE YOUR `get_optimizer`\n",
        "- Please do not change the function name. Let `get_optimizer` be your classifier class name. \n",
        "- This function should return the optimizer for optimizing model parameters properly\n"
      ]
    },
    {
      "cell_type": "code",
      "execution_count": null,
      "metadata": {
        "id": "dxBrwyvMMXN9"
      },
      "outputs": [],
      "source": [
        "######## Define your own function for optimizer.  #######\n",
        "def get_optimizer(model, lr=1e-4, wd=1e-6):\n",
        "    return optim.RMSprop(model.parameters(), lr=lr, weight_decay=wd)\n",
        "##########################################################"
      ]
    },
    {
      "cell_type": "markdown",
      "metadata": {
        "id": "fOgJFjMSLV7X"
      },
      "source": [
        "## Repeat Training with different 10 random seeds.\n",
        "\n",
        "*   Do not change `max_epoch` and `num_seeds`.\n",
        "*   You  may change lines for `MyModel` and `get_optimizer` part if they require additional inputs.\n"
      ]
    },
    {
      "cell_type": "code",
      "execution_count": null,
      "metadata": {
        "colab": {
          "base_uri": "https://localhost:8080/"
        },
        "id": "SbowrzBxH06d",
        "outputId": "00c3c982-509b-4c0d-de4e-aa19391c29ec"
      },
      "outputs": [
        {
          "name": "stdout",
          "output_type": "stream",
          "text": [
            "<<<<<[SEED 0] BEST ACCU : 0.6771084337349398>>>>>\n",
            "<<<<<[SEED 1] BEST ACCU : 0.6096385542168674>>>>>\n",
            "<<<<<[SEED 2] BEST ACCU : 0.6409638554216869>>>>>\n",
            "<<<<<[SEED 3] BEST ACCU : 0.6265060240963856>>>>>\n",
            "<<<<<[SEED 4] BEST ACCU : 0.6578313253012048>>>>>\n",
            "<<<<<[SEED 5] BEST ACCU : 0.6457831325301205>>>>>\n",
            "<<<<<[SEED 6] BEST ACCU : 0.619277108433735>>>>>\n",
            "<<<<<[SEED 7] BEST ACCU : 0.619277108433735>>>>>\n",
            "<<<<<[SEED 8] BEST ACCU : 0.6313253012048192>>>>>\n",
            "<<<<<[SEED 9] BEST ACCU : 0.6120481927710844>>>>>\n"
          ]
        }
      ],
      "source": [
        "### Do not change below parameters ###\n",
        "max_epoch = 5\n",
        "num_seeds = 10\n",
        "### Do not change above parameters ###\n",
        "\n",
        "\n",
        "### Make your code work without changing below lines except for \"optimizer\" part ###\n",
        "total_best_accu = []\n",
        "\n",
        "for seed in range(num_seeds):\n",
        "    # do not erase this random seed initialization part\n",
        "    reset(seed)\n",
        "\n",
        "    # get dataloader by spliting train/test data randomly.\n",
        "    train_loader, test_loader, train_dataset, test_dataset = get_dataloader(data_dir, label_names, batch_size)\n",
        "\n",
        "    # you may change below line for model definition if your \"MyModel\" requires more inputs.\n",
        "    model = MyModel(3,10).to(device)\n",
        "\n",
        "    # you may change below line for optimizer if your \"get optimizer\" requires more inputs.\n",
        "    optimizer = get_optimizer(model)\n",
        "\n",
        "    ###### do not change below lines. Make your code work with below lines. ####\n",
        "    best_accu = -100\n",
        "    for epoch in range(max_epoch):\n",
        "        avg_tr_loss = 0.0\n",
        "        avg_tr_correct = 0.0\n",
        "        for sample in train_loader:\n",
        "            tr_loss, tr_correct = train(model, optimizer, sample)\n",
        "\n",
        "            avg_tr_loss += tr_loss / len(train_loader)\n",
        "            avg_tr_correct += tr_correct / len(train_dataset)\n",
        "\n",
        "        avg_te_correct = 0.0\n",
        "        for sample in test_loader:\n",
        "            te_correct = test(model, sample, device)\n",
        "            avg_te_correct += te_correct / len(test_dataset)\n",
        "    \n",
        "        best_accu = max(avg_te_correct, best_accu)\n",
        "\n",
        "    print('<<<<<[SEED {}] BEST ACCU : {}>>>>>'.format(seed, best_accu))    \n",
        "    total_best_accu.append(best_accu)\n",
        "    if seed < num_seeds-1:\n",
        "        del model, optimizer\n",
        "    ############################################################################   \n"
      ]
    },
    {
      "cell_type": "markdown",
      "metadata": {
        "id": "fAXeguQhNtLr"
      },
      "source": [
        "## Calculate your grade **(Do not Modify)**\n",
        "- Grade is calculated based on your `average best accuracy` and `FLOPS`.\n",
        "- Higher accuracy and lower flops make your grade better."
      ]
    },
    {
      "cell_type": "code",
      "execution_count": null,
      "metadata": {
        "colab": {
          "base_uri": "https://localhost:8080/"
        },
        "id": "rkYU6njOH1Dl",
        "outputId": "c0f04f3d-108e-4562-aceb-fea9c4d04d5a"
      },
      "outputs": [
        {
          "name": "stdout",
          "output_type": "stream",
          "text": [
            "Input size: (1, 3, 112, 112)\n",
            "57,199,102 FLOPs or approx. 0.06 GFLOPs\n",
            "**************************************************\n",
            "Mean Accuracy : 0.6339759036144578\n",
            "Accuracy Point: 0.7929079099564919\n",
            "**************************************************\n",
            "Flops:  57199102\n",
            "Flops Advantage:  0.7776076916473837\n",
            "**************************************************\n",
            "Total Points :  0.6165712895502192\n",
            "YOUR grade is 50 point\n"
          ]
        }
      ],
      "source": [
        "###### do not change below lines #####\n",
        "num_ops = count_ops(model, torch.rand(1, 3, 112, 112).to(device), verbose=False)\n",
        "\n",
        "mean_accu = np.mean(total_best_accu)\n",
        "accu_thres = 0.75\n",
        "accu_point = min(1, np.exp(-2*(accu_thres-mean_accu)))\n",
        "\n",
        "flops = num_ops[0]\n",
        "flops_thres = 2e8\n",
        "flop_disadvantage = flops_thres / (flops_thres + flops)\n",
        "\n",
        "print('*'*50)\n",
        "print('Mean Accuracy :', mean_accu)\n",
        "print('Accuracy Point:', accu_point)\n",
        "print('*'*50)\n",
        "print('Flops: ', flops)\n",
        "print('Flops Advantage: ', flop_disadvantage)\n",
        "print('*'*50)\n",
        "\n",
        "point = accu_point * flop_disadvantage\n",
        "print('Total Points : ', point)\n",
        "\n",
        "threshold = 0.5\n",
        "max_point = 50\n",
        "\n",
        "if point > threshold:\n",
        "    grade = max_point\n",
        "else:\n",
        "    grade = np.exp(-2*(threshold - point)) * max_point\n",
        "\n",
        "print('YOUR grade is {} point'.format(grade))"
      ]
    }
  ],
  "metadata": {
    "accelerator": "GPU",
    "colab": {
      "provenance": []
    },
    "gpuClass": "standard",
    "kernelspec": {
      "display_name": "Python 3.9.13 ('aladdin')",
      "language": "python",
      "name": "python3"
    },
    "language_info": {
      "name": "python",
      "version": "3.9.13"
    },
    "vscode": {
      "interpreter": {
        "hash": "49dac5a8e16ae6f66804be5b03d0b2b6acc63aae5a8c4a3a0705d980e4e467cc"
      }
    }
  },
  "nbformat": 4,
  "nbformat_minor": 0
}
