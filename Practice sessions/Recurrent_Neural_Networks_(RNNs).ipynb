{
  "nbformat": 4,
  "nbformat_minor": 0,
  "metadata": {
    "colab": {
      "provenance": []
    },
    "kernelspec": {
      "name": "python3",
      "display_name": "Python 3"
    },
    "accelerator": "GPU",
    "widgets": {
      "application/vnd.jupyter.widget-state+json": {
        "88d0a9493b614999bf5f37b38d5aaad7": {
          "model_module": "@jupyter-widgets/controls",
          "model_name": "HBoxModel",
          "model_module_version": "1.5.0",
          "state": {
            "_dom_classes": [],
            "_model_module": "@jupyter-widgets/controls",
            "_model_module_version": "1.5.0",
            "_model_name": "HBoxModel",
            "_view_count": null,
            "_view_module": "@jupyter-widgets/controls",
            "_view_module_version": "1.5.0",
            "_view_name": "HBoxView",
            "box_style": "",
            "children": [
              "IPY_MODEL_a29519c18a1c48fb98bcfb1e077e14ba",
              "IPY_MODEL_15db988e2b884e0892561437302f4837",
              "IPY_MODEL_0e4992c1c9684ea8b0573f725ff720a4"
            ],
            "layout": "IPY_MODEL_0045ec0b3f6d4d0ab107c612599189a9"
          }
        },
        "a29519c18a1c48fb98bcfb1e077e14ba": {
          "model_module": "@jupyter-widgets/controls",
          "model_name": "HTMLModel",
          "model_module_version": "1.5.0",
          "state": {
            "_dom_classes": [],
            "_model_module": "@jupyter-widgets/controls",
            "_model_module_version": "1.5.0",
            "_model_name": "HTMLModel",
            "_view_count": null,
            "_view_module": "@jupyter-widgets/controls",
            "_view_module_version": "1.5.0",
            "_view_name": "HTMLView",
            "description": "",
            "description_tooltip": null,
            "layout": "IPY_MODEL_480885580a3a4185b6f963bfc1641d50",
            "placeholder": "​",
            "style": "IPY_MODEL_a534e0bc5ce9476f91a1803fb11c1064",
            "value": "100%"
          }
        },
        "15db988e2b884e0892561437302f4837": {
          "model_module": "@jupyter-widgets/controls",
          "model_name": "FloatProgressModel",
          "model_module_version": "1.5.0",
          "state": {
            "_dom_classes": [],
            "_model_module": "@jupyter-widgets/controls",
            "_model_module_version": "1.5.0",
            "_model_name": "FloatProgressModel",
            "_view_count": null,
            "_view_module": "@jupyter-widgets/controls",
            "_view_module_version": "1.5.0",
            "_view_name": "ProgressView",
            "bar_style": "success",
            "description": "",
            "description_tooltip": null,
            "layout": "IPY_MODEL_9485b6fc8e494870a2720068a24ce3f9",
            "max": 200,
            "min": 0,
            "orientation": "horizontal",
            "style": "IPY_MODEL_8d93936bb7dd46d9b9cfcaefe72e84cb",
            "value": 200
          }
        },
        "0e4992c1c9684ea8b0573f725ff720a4": {
          "model_module": "@jupyter-widgets/controls",
          "model_name": "HTMLModel",
          "model_module_version": "1.5.0",
          "state": {
            "_dom_classes": [],
            "_model_module": "@jupyter-widgets/controls",
            "_model_module_version": "1.5.0",
            "_model_name": "HTMLModel",
            "_view_count": null,
            "_view_module": "@jupyter-widgets/controls",
            "_view_module_version": "1.5.0",
            "_view_name": "HTMLView",
            "description": "",
            "description_tooltip": null,
            "layout": "IPY_MODEL_48790cf67fd340a08ae283c348cbbde0",
            "placeholder": "​",
            "style": "IPY_MODEL_1a6a0f315f85479798d056c51ccb9218",
            "value": " 200/200 [01:00&lt;00:00,  3.46it/s]"
          }
        },
        "0045ec0b3f6d4d0ab107c612599189a9": {
          "model_module": "@jupyter-widgets/base",
          "model_name": "LayoutModel",
          "model_module_version": "1.2.0",
          "state": {
            "_model_module": "@jupyter-widgets/base",
            "_model_module_version": "1.2.0",
            "_model_name": "LayoutModel",
            "_view_count": null,
            "_view_module": "@jupyter-widgets/base",
            "_view_module_version": "1.2.0",
            "_view_name": "LayoutView",
            "align_content": null,
            "align_items": null,
            "align_self": null,
            "border": null,
            "bottom": null,
            "display": null,
            "flex": null,
            "flex_flow": null,
            "grid_area": null,
            "grid_auto_columns": null,
            "grid_auto_flow": null,
            "grid_auto_rows": null,
            "grid_column": null,
            "grid_gap": null,
            "grid_row": null,
            "grid_template_areas": null,
            "grid_template_columns": null,
            "grid_template_rows": null,
            "height": null,
            "justify_content": null,
            "justify_items": null,
            "left": null,
            "margin": null,
            "max_height": null,
            "max_width": null,
            "min_height": null,
            "min_width": null,
            "object_fit": null,
            "object_position": null,
            "order": null,
            "overflow": null,
            "overflow_x": null,
            "overflow_y": null,
            "padding": null,
            "right": null,
            "top": null,
            "visibility": null,
            "width": null
          }
        },
        "480885580a3a4185b6f963bfc1641d50": {
          "model_module": "@jupyter-widgets/base",
          "model_name": "LayoutModel",
          "model_module_version": "1.2.0",
          "state": {
            "_model_module": "@jupyter-widgets/base",
            "_model_module_version": "1.2.0",
            "_model_name": "LayoutModel",
            "_view_count": null,
            "_view_module": "@jupyter-widgets/base",
            "_view_module_version": "1.2.0",
            "_view_name": "LayoutView",
            "align_content": null,
            "align_items": null,
            "align_self": null,
            "border": null,
            "bottom": null,
            "display": null,
            "flex": null,
            "flex_flow": null,
            "grid_area": null,
            "grid_auto_columns": null,
            "grid_auto_flow": null,
            "grid_auto_rows": null,
            "grid_column": null,
            "grid_gap": null,
            "grid_row": null,
            "grid_template_areas": null,
            "grid_template_columns": null,
            "grid_template_rows": null,
            "height": null,
            "justify_content": null,
            "justify_items": null,
            "left": null,
            "margin": null,
            "max_height": null,
            "max_width": null,
            "min_height": null,
            "min_width": null,
            "object_fit": null,
            "object_position": null,
            "order": null,
            "overflow": null,
            "overflow_x": null,
            "overflow_y": null,
            "padding": null,
            "right": null,
            "top": null,
            "visibility": null,
            "width": null
          }
        },
        "a534e0bc5ce9476f91a1803fb11c1064": {
          "model_module": "@jupyter-widgets/controls",
          "model_name": "DescriptionStyleModel",
          "model_module_version": "1.5.0",
          "state": {
            "_model_module": "@jupyter-widgets/controls",
            "_model_module_version": "1.5.0",
            "_model_name": "DescriptionStyleModel",
            "_view_count": null,
            "_view_module": "@jupyter-widgets/base",
            "_view_module_version": "1.2.0",
            "_view_name": "StyleView",
            "description_width": ""
          }
        },
        "9485b6fc8e494870a2720068a24ce3f9": {
          "model_module": "@jupyter-widgets/base",
          "model_name": "LayoutModel",
          "model_module_version": "1.2.0",
          "state": {
            "_model_module": "@jupyter-widgets/base",
            "_model_module_version": "1.2.0",
            "_model_name": "LayoutModel",
            "_view_count": null,
            "_view_module": "@jupyter-widgets/base",
            "_view_module_version": "1.2.0",
            "_view_name": "LayoutView",
            "align_content": null,
            "align_items": null,
            "align_self": null,
            "border": null,
            "bottom": null,
            "display": null,
            "flex": null,
            "flex_flow": null,
            "grid_area": null,
            "grid_auto_columns": null,
            "grid_auto_flow": null,
            "grid_auto_rows": null,
            "grid_column": null,
            "grid_gap": null,
            "grid_row": null,
            "grid_template_areas": null,
            "grid_template_columns": null,
            "grid_template_rows": null,
            "height": null,
            "justify_content": null,
            "justify_items": null,
            "left": null,
            "margin": null,
            "max_height": null,
            "max_width": null,
            "min_height": null,
            "min_width": null,
            "object_fit": null,
            "object_position": null,
            "order": null,
            "overflow": null,
            "overflow_x": null,
            "overflow_y": null,
            "padding": null,
            "right": null,
            "top": null,
            "visibility": null,
            "width": null
          }
        },
        "8d93936bb7dd46d9b9cfcaefe72e84cb": {
          "model_module": "@jupyter-widgets/controls",
          "model_name": "ProgressStyleModel",
          "model_module_version": "1.5.0",
          "state": {
            "_model_module": "@jupyter-widgets/controls",
            "_model_module_version": "1.5.0",
            "_model_name": "ProgressStyleModel",
            "_view_count": null,
            "_view_module": "@jupyter-widgets/base",
            "_view_module_version": "1.2.0",
            "_view_name": "StyleView",
            "bar_color": null,
            "description_width": ""
          }
        },
        "48790cf67fd340a08ae283c348cbbde0": {
          "model_module": "@jupyter-widgets/base",
          "model_name": "LayoutModel",
          "model_module_version": "1.2.0",
          "state": {
            "_model_module": "@jupyter-widgets/base",
            "_model_module_version": "1.2.0",
            "_model_name": "LayoutModel",
            "_view_count": null,
            "_view_module": "@jupyter-widgets/base",
            "_view_module_version": "1.2.0",
            "_view_name": "LayoutView",
            "align_content": null,
            "align_items": null,
            "align_self": null,
            "border": null,
            "bottom": null,
            "display": null,
            "flex": null,
            "flex_flow": null,
            "grid_area": null,
            "grid_auto_columns": null,
            "grid_auto_flow": null,
            "grid_auto_rows": null,
            "grid_column": null,
            "grid_gap": null,
            "grid_row": null,
            "grid_template_areas": null,
            "grid_template_columns": null,
            "grid_template_rows": null,
            "height": null,
            "justify_content": null,
            "justify_items": null,
            "left": null,
            "margin": null,
            "max_height": null,
            "max_width": null,
            "min_height": null,
            "min_width": null,
            "object_fit": null,
            "object_position": null,
            "order": null,
            "overflow": null,
            "overflow_x": null,
            "overflow_y": null,
            "padding": null,
            "right": null,
            "top": null,
            "visibility": null,
            "width": null
          }
        },
        "1a6a0f315f85479798d056c51ccb9218": {
          "model_module": "@jupyter-widgets/controls",
          "model_name": "DescriptionStyleModel",
          "model_module_version": "1.5.0",
          "state": {
            "_model_module": "@jupyter-widgets/controls",
            "_model_module_version": "1.5.0",
            "_model_name": "DescriptionStyleModel",
            "_view_count": null,
            "_view_module": "@jupyter-widgets/base",
            "_view_module_version": "1.2.0",
            "_view_name": "StyleView",
            "description_width": ""
          }
        }
      }
    }
  },
  "cells": [
    {
      "cell_type": "code",
      "metadata": {
        "id": "rQO90yEK24X8"
      },
      "source": [
        "import numpy as np\n",
        "import torch\n",
        "import torch.nn as nn\n",
        "from torch.utils.data import Dataset, DataLoader\n",
        "\n",
        "from tqdm.notebook import tqdm"
      ],
      "execution_count": null,
      "outputs": []
    },
    {
      "cell_type": "code",
      "metadata": {
        "colab": {
          "base_uri": "https://localhost:8080/"
        },
        "id": "xcdpjvBb2psF",
        "outputId": "da032cd5-5ad1-4448-dc28-86941378ecbf"
      },
      "source": [
        "!wget http://www.cs.cmu.edu/afs/cs/project/ai-repository/ai/areas/nlp/corpora/names/female.txt"
      ],
      "execution_count": null,
      "outputs": [
        {
          "output_type": "stream",
          "name": "stdout",
          "text": [
            "--2022-11-24 07:42:29--  http://www.cs.cmu.edu/afs/cs/project/ai-repository/ai/areas/nlp/corpora/names/female.txt\n",
            "Resolving www.cs.cmu.edu (www.cs.cmu.edu)... 128.2.42.95\n",
            "Connecting to www.cs.cmu.edu (www.cs.cmu.edu)|128.2.42.95|:80... connected.\n",
            "HTTP request sent, awaiting response... 200 OK\n",
            "Length: 35751 (35K) [text/plain]\n",
            "Saving to: ‘female.txt’\n",
            "\n",
            "female.txt          100%[===================>]  34.91K  --.-KB/s    in 0.08s   \n",
            "\n",
            "2022-11-24 07:42:29 (445 KB/s) - ‘female.txt’ saved [35751/35751]\n",
            "\n"
          ]
        }
      ]
    },
    {
      "cell_type": "code",
      "metadata": {
        "id": "M494X00Js1ig"
      },
      "source": [
        "device = 'cuda'"
      ],
      "execution_count": null,
      "outputs": []
    },
    {
      "cell_type": "code",
      "source": [
        "with open('female.txt', 'r') as f:\n",
        "    lines = f.readlines()\n"
      ],
      "metadata": {
        "colab": {
          "base_uri": "https://localhost:8080/"
        },
        "id": "QOmG_b-LmG7t",
        "outputId": "ebcac5dc-ab73-4d14-f7f6-cf60d83a60a5"
      },
      "execution_count": null,
      "outputs": [
        {
          "output_type": "stream",
          "name": "stdout",
          "text": [
            "['# List of common female names.\\n', '# Copyright (c) January 1991 by Mark Kantrowitz.\\n', '# 4987 names\\n', '# Thanks to Bill.Ross for about 1000 additional names.\\n', '# Version 1.3 (29-MAR-94)\\n', '\\n', 'Abagael\\n', 'Abagail\\n', 'Abbe\\n', 'Abbey\\n', 'Abbi\\n', 'Abbie\\n', 'Abby\\n', 'Abigael\\n', 'Abigail\\n', 'Abigale\\n', 'Abra\\n', 'Acacia\\n', 'Ada\\n', 'Adah\\n', 'Adaline\\n', 'Adara\\n', 'Addie\\n', 'Addis\\n', 'Adel\\n', 'Adela\\n', 'Adelaide\\n', 'Adele\\n', 'Adelice\\n', 'Adelina\\n', 'Adelind\\n', 'Adeline\\n', 'Adella\\n', 'Adelle\\n', 'Adena\\n', 'Adey\\n', 'Adi\\n', 'Adiana\\n', 'Adina\\n', 'Adora\\n', 'Adore\\n', 'Adoree\\n', 'Adorne\\n', 'Adrea\\n', 'Adria\\n', 'Adriaens\\n', 'Adrian\\n', 'Adriana\\n', 'Adriane\\n', 'Adrianna\\n', 'Adrianne\\n', 'Adrien\\n', 'Adriena\\n', 'Adrienne\\n', 'Aeriel\\n', 'Aeriela\\n', 'Aeriell\\n', 'Ag\\n', 'Agace\\n', 'Agata\\n', 'Agatha\\n', 'Agathe\\n', 'Aggi\\n', 'Aggie\\n', 'Aggy\\n', 'Agna\\n', 'Agnella\\n', 'Agnes\\n', 'Agnese\\n', 'Agnesse\\n', 'Agneta\\n', 'Agnola\\n', 'Agretha\\n', 'Aida\\n', 'Aidan\\n', 'Aigneis\\n', 'Aila\\n', 'Aile\\n', 'Ailee\\n', 'Aileen\\n', 'Ailene\\n', 'Ailey\\n', 'Aili\\n', 'Ailina\\n', 'Ailyn\\n', 'Aime\\n', 'Aimee\\n', 'Aimil\\n', 'Aina\\n', 'Aindrea\\n', 'Ainslee\\n', 'Ainsley\\n', 'Ainslie\\n', 'Ajay\\n', 'Alaine\\n', 'Alameda\\n', 'Alana\\n', 'Alanah\\n', 'Alane\\n', 'Alanna\\n', 'Alayne\\n', 'Alberta\\n', 'Albertina\\n', 'Albertine\\n', 'Albina\\n', 'Alecia\\n', 'Aleda\\n', 'Aleece\\n', 'Aleecia\\n', 'Aleen\\n', 'Alejandra\\n', 'Alejandrina\\n', 'Alena\\n', 'Alene\\n', 'Alessandra\\n', 'Aleta\\n', 'Alethea\\n', 'Alex\\n', 'Alexa\\n', 'Alexandra\\n', 'Alexandrina\\n', 'Alexi\\n', 'Alexia\\n', 'Alexina\\n', 'Alexine\\n', 'Alexis\\n', 'Alfie\\n', 'Alfreda\\n', 'Ali\\n', 'Alia\\n', 'Alica\\n', 'Alice\\n', 'Alicea\\n', 'Alicia\\n', 'Alida\\n', 'Alidia\\n', 'Alina\\n', 'Aline\\n', 'Alis\\n', 'Alisa\\n', 'Alisha\\n', 'Alison\\n', 'Alissa\\n', 'Alisun\\n', 'Alix\\n', 'Aliza\\n', 'Alla\\n', 'Alleen\\n', 'Allegra\\n', 'Allene\\n', 'Alli\\n', 'Allianora\\n', 'Allie\\n', 'Allina\\n', 'Allis\\n', 'Allison\\n', 'Allissa\\n', 'Allsun\\n', 'Ally\\n', 'Allyce\\n', 'Allyn\\n', 'Allys\\n', 'Allyson\\n', 'Alma\\n', 'Almeda\\n', 'Almeria\\n', 'Almeta\\n', 'Almira\\n', 'Almire\\n', 'Aloise\\n', 'Aloisia\\n', 'Aloysia\\n', 'Alpa\\n', 'Alta\\n', 'Althea\\n', 'Alvera\\n', 'Alvina\\n', 'Alvinia\\n', 'Alvira\\n', 'Alyce\\n', 'Alyda\\n', 'Alys\\n', 'Alysa\\n', 'Alyse\\n', 'Alysia\\n', 'Alyson\\n', 'Alyss\\n', 'Alyssa\\n', 'Amabel\\n', 'Amabelle\\n', 'Amalea\\n', 'Amalee\\n', 'Amaleta\\n', 'Amalia\\n', 'Amalie\\n', 'Amalita\\n', 'Amalle\\n', 'Amanda\\n', 'Amandi\\n', 'Amandie\\n', 'Amandy\\n', 'Amara\\n', 'Amargo\\n', 'Amata\\n', 'Amber\\n', 'Amberly\\n', 'Ambrosia\\n', 'Ambur\\n', 'Ame\\n', 'Amelia\\n', 'Amelie\\n', 'Amelina\\n', 'Ameline\\n', 'Amelita\\n', 'Ami\\n', 'Amie\\n', 'Amity\\n', 'Ammamaria\\n', 'Amy\\n', 'Ana\\n', 'Anabel\\n', 'Anabella\\n', 'Anabelle\\n', 'Anais\\n', 'Analiese\\n', 'Analise\\n', 'Anallese\\n', 'Anallise\\n', 'Anastasia\\n', 'Anastasie\\n', 'Anastassia\\n', 'Anatola\\n', 'Andee\\n', 'Andi\\n', 'Andie\\n', 'Andra\\n', 'Andrea\\n', 'Andreana\\n', 'Andree\\n', 'Andrei\\n', 'Andria\\n', 'Andriana\\n', 'Andriette\\n', 'Andromache\\n', 'Andromeda\\n', 'Andy\\n', 'Anestassia\\n', 'Anet\\n', 'Anett\\n', 'Anetta\\n', 'Anette\\n', 'Ange\\n', 'Angel\\n', 'Angela\\n', 'Angele\\n', 'Angelia\\n', 'Angelica\\n', 'Angelika\\n', 'Angelina\\n', 'Angeline\\n', 'Angelique\\n', 'Angelita\\n', 'Angelle\\n', 'Angie\\n', 'Angil\\n', 'Angy\\n', 'Ania\\n', 'Anica\\n', 'Anissa\\n', 'Anita\\n', 'Anitra\\n', 'Anja\\n', 'Anjanette\\n', 'Anjela\\n', 'Ann\\n', 'Ann-Mari\\n', 'Ann-Marie\\n', 'Anna\\n', 'Anna-Diana\\n', 'Anna-Diane\\n', 'Anna-Maria\\n', 'Annabal\\n', 'Annabel\\n', 'Annabela\\n', 'Annabell\\n', 'Annabella\\n', 'Annabelle\\n', 'Annadiana\\n', 'Annadiane\\n', 'Annalee\\n', 'Annalena\\n', 'Annaliese\\n', 'Annalisa\\n', 'Annalise\\n', 'Annalyse\\n', 'Annamari\\n', 'Annamaria\\n', 'Annamarie\\n', 'Anne\\n', 'Anne-Corinne\\n', 'Anne-Mar\\n', 'Anne-Marie\\n', 'Annecorinne\\n', 'Anneliese\\n', 'Annelise\\n', 'Annemarie\\n', 'Annetta\\n', 'Annette\\n', 'Anni\\n', 'Annice\\n', 'Annie\\n', 'Annissa\\n', 'Annmaria\\n', 'Annmarie\\n', 'Annnora\\n', 'Annora\\n', 'Anny\\n', 'Anselma\\n', 'Ansley\\n', 'Anstice\\n', 'Anthe\\n', 'Anthea\\n', 'Anthia\\n', 'Antoinette\\n', 'Antonella\\n', 'Antonetta\\n', 'Antonia\\n', 'Antonie\\n', 'Antonietta\\n', 'Antonina\\n', 'Anya\\n', 'Aphrodite\\n', 'Appolonia\\n', 'April\\n', 'Aprilette\\n', 'Ara\\n', 'Arabel\\n', 'Arabela\\n', 'Arabele\\n', 'Arabella\\n', 'Arabelle\\n', 'Arda\\n', 'Ardath\\n', 'Ardeen\\n', 'Ardelia\\n', 'Ardelis\\n', 'Ardella\\n', 'Ardelle\\n', 'Arden\\n', 'Ardene\\n', 'Ardenia\\n', 'Ardine\\n', 'Ardis\\n', 'Ardith\\n', 'Ardra\\n', 'Ardyce\\n', 'Ardys\\n', 'Ardyth\\n', 'Aretha\\n', 'Ariadne\\n', 'Ariana\\n', 'Arianne\\n', 'Aridatha\\n', 'Ariel\\n', 'Ariela\\n', 'Ariella\\n', 'Arielle\\n', 'Arlana\\n', 'Arlee\\n', 'Arleen\\n', 'Arlen\\n', 'Arlena\\n', 'Arlene\\n', 'Arleta\\n', 'Arlette\\n', 'Arleyne\\n', 'Arlie\\n', 'Arliene\\n', 'Arlina\\n', 'Arlinda\\n', 'Arline\\n', 'Arly\\n', 'Arlyn\\n', 'Arlyne\\n', 'Aryn\\n', 'Ashely\\n', 'Ashlee\\n', 'Ashleigh\\n', 'Ashlen\\n', 'Ashley\\n', 'Ashli\\n', 'Ashlie\\n', 'Ashly\\n', 'Asia\\n', 'Astra\\n', 'Astrid\\n', 'Astrix\\n', 'Atalanta\\n', 'Athena\\n', 'Athene\\n', 'Atlanta\\n', 'Atlante\\n', 'Auberta\\n', 'Aubine\\n', 'Aubree\\n', 'Aubrette\\n', 'Aubrey\\n', 'Aubrie\\n', 'Aubry\\n', 'Audi\\n', 'Audie\\n', 'Audra\\n', 'Audre\\n', 'Audrey\\n', 'Audrie\\n', 'Audry\\n', 'Audrye\\n', 'Audy\\n', 'Augusta\\n', 'Auguste\\n', 'Augustina\\n', 'Augustine\\n', 'Aura\\n', 'Aurea\\n', 'Aurel\\n', 'Aurelea\\n', 'Aurelia\\n', 'Aurelie\\n', 'Auria\\n', 'Aurie\\n', 'Aurilia\\n', 'Aurlie\\n', 'Auroora\\n', 'Aurora\\n', 'Aurore\\n', 'Austin\\n', 'Austina\\n', 'Austine\\n', 'Ava\\n', 'Aveline\\n', 'Averil\\n', 'Averyl\\n', 'Avie\\n', 'Avis\\n', 'Aviva\\n', 'Avivah\\n', 'Avril\\n', 'Avrit\\n', 'Ayn\\n', 'Bab\\n', 'Babara\\n', 'Babette\\n', 'Babita\\n', 'Babs\\n', 'Bambi\\n', 'Bambie\\n', 'Bamby\\n', 'Barb\\n', 'Barbabra\\n', 'Barbara\\n', 'Barbara-Anne\\n', 'Barbaraanne\\n', 'Barbe\\n', 'Barbee\\n', 'Barbette\\n', 'Barbey\\n', 'Barbi\\n', 'Barbie\\n', 'Barbra\\n', 'Barby\\n', 'Bari\\n', 'Barrie\\n', 'Barry\\n', 'Basia\\n', 'Bathsheba\\n', 'Batsheva\\n', 'Bea\\n', 'Beatrice\\n', 'Beatrisa\\n', 'Beatrix\\n', 'Beatriz\\n', 'Beau\\n', 'Bebe\\n', 'Becca\\n', 'Becka\\n', 'Becki\\n', 'Beckie\\n', 'Becky\\n', 'Bee\\n', 'Beilul\\n', 'Beitris\\n', 'Bekki\\n', 'Bel\\n', 'Belia\\n', 'Belicia\\n', 'Belinda\\n', 'Belita\\n', 'Bell\\n', 'Bella\\n', 'Bellamy\\n', 'Bellanca\\n', 'Belle\\n', 'Bellina\\n', 'Belva\\n', 'Belvia\\n', 'Bendite\\n', 'Benedetta\\n', 'Benedicta\\n', 'Benedikta\\n', 'Benetta\\n', 'Benita\\n', 'Benni\\n', 'Bennie\\n', 'Benny\\n', 'Benoite\\n', 'Berenice\\n', 'Beret\\n', 'Berget\\n', 'Berna\\n', 'Bernadene\\n', 'Bernadette\\n', 'Bernadina\\n', 'Bernadine\\n', 'Bernardina\\n', 'Bernardine\\n', 'Bernelle\\n', 'Bernete\\n', 'Bernetta\\n', 'Bernette\\n', 'Berni\\n', 'Bernice\\n', 'Bernie\\n', 'Bernita\\n', 'Berny\\n', 'Berri\\n', 'Berrie\\n', 'Berry\\n', 'Bert\\n', 'Berta\\n', 'Berte\\n', 'Bertha\\n', 'Berthe\\n', 'Berti\\n', 'Bertie\\n', 'Bertina\\n', 'Bertine\\n', 'Berty\\n', 'Beryl\\n', 'Beryle\\n', 'Bess\\n', 'Bessie\\n', 'Bessy\\n', 'Beth\\n', 'Bethanne\\n', 'Bethany\\n', 'Bethena\\n', 'Bethina\\n', 'Betsey\\n', 'Betsy\\n', 'Betta\\n', 'Bette\\n', 'Bette-Ann\\n', 'Betteann\\n', 'Betteanne\\n', 'Betti\\n', 'Bettie\\n', 'Bettina\\n', 'Bettine\\n', 'Betty\\n', 'Bettye\\n', 'Beulah\\n', 'Bev\\n', 'Beverie\\n', 'Beverlee\\n', 'Beverlie\\n', 'Beverly\\n', 'Bevvy\\n', 'Bianca\\n', 'Bianka\\n', 'Biddy\\n', 'Bidget\\n', 'Bill\\n', 'Billi\\n', 'Billie\\n', 'Billy\\n', 'Binni\\n', 'Binnie\\n', 'Binny\\n', 'Bird\\n', 'Birdie\\n', 'Birgit\\n', 'Birgitta\\n', 'Blair\\n', 'Blaire\\n', 'Blake\\n', 'Blakelee\\n', 'Blakeley\\n', 'Blanca\\n', 'Blanch\\n', 'Blancha\\n', 'Blanche\\n', 'Blinni\\n', 'Blinnie\\n', 'Blinny\\n', 'Bliss\\n', 'Blisse\\n', 'Blithe\\n', 'Blondell\\n', 'Blondelle\\n', 'Blondie\\n', 'Blondy\\n', 'Blythe\\n', 'Bo\\n', 'Bobbette\\n', 'Bobbi\\n', 'Bobbie\\n', 'Bobby\\n', 'Bobette\\n', 'Bobina\\n', 'Bobine\\n', 'Bobinette\\n', 'Bonita\\n', 'Bonnee\\n', 'Bonni\\n', 'Bonnie\\n', 'Bonny\\n', 'Brana\\n', 'Brandais\\n', 'Brande\\n', 'Brandea\\n', 'Brandi\\n', 'Brandice\\n', 'Brandie\\n', 'Brandise\\n', 'Brandy\\n', 'Brea\\n', 'Breanne\\n', 'Brear\\n', 'Bree\\n', 'Breena\\n', 'Bren\\n', 'Brena\\n', 'Brenda\\n', 'Brenn\\n', 'Brenna\\n', 'Brett\\n', 'Bria\\n', 'Briana\\n', 'Brianna\\n', 'Brianne\\n', 'Bride\\n', 'Bridget\\n', 'Bridgett\\n', 'Bridgette\\n', 'Bridie\\n', 'Brier\\n', 'Brietta\\n', 'Brigid\\n', 'Brigida\\n', 'Brigit\\n', 'Brigitta\\n', 'Brigitte\\n', 'Brina\\n', 'Briney\\n', 'Briny\\n', 'Brit\\n', 'Brita\\n', 'Britaney\\n', 'Britani\\n', 'Briteny\\n', 'Britney\\n', 'Britni\\n', 'Britt\\n', 'Britta\\n', 'Brittan\\n', 'Brittany\\n', 'Britte\\n', 'Brittney\\n', 'Brook\\n', 'Brooke\\n', 'Brooks\\n', 'Brunella\\n', 'Brunhilda\\n', 'Brunhilde\\n', 'Bryana\\n', 'Bryn\\n', 'Bryna\\n', 'Brynn\\n', 'Brynna\\n', 'Brynne\\n', 'Buffy\\n', 'Bunni\\n', 'Bunnie\\n', 'Bunny\\n', 'Burta\\n', 'Cabrina\\n', 'Cacilia\\n', 'Cacilie\\n', 'Caitlin\\n', 'Caitrin\\n', 'Cal\\n', 'Calida\\n', 'Calla\\n', 'Calley\\n', 'Calli\\n', 'Callida\\n', 'Callie\\n', 'Cally\\n', 'Calypso\\n', 'Cam\\n', 'Camala\\n', 'Camel\\n', 'Camella\\n', 'Camellia\\n', 'Cameo\\n', 'Cami\\n', 'Camila\\n', 'Camile\\n', 'Camilla\\n', 'Camille\\n', 'Cammi\\n', 'Cammie\\n', 'Cammy\\n', 'Canada\\n', 'Candace\\n', 'Candi\\n', 'Candice\\n', 'Candida\\n', 'Candide\\n', 'Candie\\n', 'Candis\\n', 'Candra\\n', 'Candy\\n', 'Cappella\\n', 'Caprice\\n', 'Cara\\n', 'Caralie\\n', 'Caren\\n', 'Carena\\n', 'Caresa\\n', 'Caressa\\n', 'Caresse\\n', 'Carey\\n', 'Cari\\n', 'Caria\\n', 'Carie\\n', 'Caril\\n', 'Carilyn\\n', 'Carin\\n', 'Carina\\n', 'Carine\\n', 'Cariotta\\n', 'Carissa\\n', 'Carita\\n', 'Caritta\\n', 'Carla\\n', 'Carlee\\n', 'Carleen\\n', 'Carlen\\n', 'Carlena\\n', 'Carlene\\n', 'Carley\\n', 'Carli\\n', 'Carlie\\n', 'Carlin\\n', 'Carlina\\n', 'Carline\\n', 'Carlisle\\n', 'Carlita\\n', 'Carlota\\n', 'Carlotta\\n', 'Carly\\n', 'Carlye\\n', 'Carlyn\\n', 'Carlynn\\n', 'Carlynne\\n', 'Carma\\n', 'Carmel\\n', 'Carmela\\n', 'Carmelia\\n', 'Carmelina\\n', 'Carmelita\\n', 'Carmella\\n', 'Carmelle\\n', 'Carmen\\n', 'Carmina\\n', 'Carmine\\n', 'Carmita\\n', 'Carmon\\n', 'Caro\\n', 'Carol\\n', 'Carol-Jean\\n', 'Carola\\n', 'Carolan\\n', 'Carolann\\n', 'Carole\\n', 'Carolee\\n', 'Caroleen\\n', 'Carolie\\n', 'Carolin\\n', 'Carolina\\n', 'Caroline\\n', 'Caroljean\\n', 'Carolyn\\n', 'Carolyne\\n', 'Carolynn\\n', 'Caron\\n', 'Carree\\n', 'Carri\\n', 'Carrie\\n', 'Carrissa\\n', 'Carrol\\n', 'Carroll\\n', 'Carry\\n', 'Cary\\n', 'Caryl\\n', 'Caryn\\n', 'Casandra\\n', 'Casey\\n', 'Casi\\n', 'Casia\\n', 'Casie\\n', 'Cass\\n', 'Cassandra\\n', 'Cassandre\\n', 'Cassandry\\n', 'Cassaundra\\n', 'Cassey\\n', 'Cassi\\n', 'Cassie\\n', 'Cassondra\\n', 'Cassy\\n', 'Cat\\n', 'Catarina\\n', 'Cate\\n', 'Caterina\\n', 'Catha\\n', 'Catharina\\n', 'Catharine\\n', 'Cathe\\n', 'Cathee\\n', 'Catherin\\n', 'Catherina\\n', 'Catherine\\n', 'Cathi\\n', 'Cathie\\n', 'Cathleen\\n', 'Cathlene\\n', 'Cathrin\\n', 'Cathrine\\n', 'Cathryn\\n', 'Cathy\\n', 'Cathyleen\\n', 'Cati\\n', 'Catie\\n', 'Catina\\n', 'Catlaina\\n', 'Catlee\\n', 'Catlin\\n', 'Catrina\\n', 'Catriona\\n', 'Caty\\n', 'Cayla\\n', 'Cecelia\\n', 'Cecil\\n', 'Cecile\\n', 'Ceciley\\n', 'Cecilia\\n', 'Cecilla\\n', 'Cecily\\n', 'Ceil\\n', 'Cele\\n', 'Celene\\n', 'Celesta\\n', 'Celeste\\n', 'Celestia\\n', 'Celestina\\n', 'Celestine\\n', 'Celestyn\\n', 'Celestyna\\n', 'Celia\\n', 'Celie\\n', 'Celina\\n', 'Celinda\\n', 'Celine\\n', 'Celinka\\n', 'Celisse\\n', 'Celle\\n', 'Cesya\\n', 'Chad\\n', 'Chanda\\n', 'Chandal\\n', 'Chandra\\n', 'Channa\\n', 'Chantal\\n', 'Chantalle\\n', 'Charil\\n', 'Charin\\n', 'Charis\\n', 'Charissa\\n', 'Charisse\\n', 'Charita\\n', 'Charity\\n', 'Charla\\n', 'Charlean\\n', 'Charleen\\n', 'Charlena\\n', 'Charlene\\n', 'Charline\\n', 'Charlot\\n', 'Charlott\\n', 'Charlotta\\n', 'Charlotte\\n', 'Charmain\\n', 'Charmaine\\n', 'Charmane\\n', 'Charmian\\n', 'Charmine\\n', 'Charmion\\n', 'Charo\\n', 'Charyl\\n', 'Chastity\\n', 'Chelsae\\n', 'Chelsea\\n', 'Chelsey\\n', 'Chelsie\\n', 'Chelsy\\n', 'Cher\\n', 'Chere\\n', 'Cherey\\n', 'Cheri\\n', 'Cherianne\\n', 'Cherice\\n', 'Cherida\\n', 'Cherie\\n', 'Cherilyn\\n', 'Cherilynn\\n', 'Cherin\\n', 'Cherise\\n', 'Cherish\\n', 'Cherlyn\\n', 'Cherri\\n', 'Cherrita\\n', 'Cherry\\n', 'Chery\\n', 'Cherye\\n', 'Cheryl\\n', 'Cheslie\\n', 'Chiarra\\n', 'Chickie\\n', 'Chicky\\n', 'Chiquita\\n', 'Chloe\\n', 'Chloette\\n', 'Chloris\\n', 'Chris\\n', 'Chriss\\n', 'Chrissa\\n', 'Chrissie\\n', 'Chrissy\\n', 'Christa\\n', 'Christabel\\n', 'Christabella\\n', 'Christabelle\\n', 'Christal\\n', 'Christalle\\n', 'Christan\\n', 'Christean\\n', 'Christel\\n', 'Christen\\n', 'Christi\\n', 'Christian\\n', 'Christiana\\n', 'Christiane\\n', 'Christie\\n', 'Christin\\n', 'Christina\\n', 'Christine\\n', 'Christy\\n', 'Christyna\\n', 'Chrysa\\n', 'Chrysler\\n', 'Chrystal\\n', 'Chryste\\n', 'Chrystel\\n', 'Ciara\\n', 'Cicely\\n', 'Cicily\\n', 'Ciel\\n', 'Cilka\\n', 'Cinda\\n', 'Cindee\\n', 'Cindelyn\\n', 'Cinderella\\n', 'Cindi\\n', 'Cindie\\n', 'Cindra\\n', 'Cindy\\n', 'Cinnamon\\n', 'Cissie\\n', 'Cissy\\n', 'Clair\\n', 'Claire\\n', 'Clara\\n', 'Clarabelle\\n', 'Clare\\n', 'Claresta\\n', 'Clareta\\n', 'Claretta\\n', 'Clarette\\n', 'Clarey\\n', 'Clari\\n', 'Claribel\\n', 'Clarice\\n', 'Clarie\\n', 'Clarinda\\n', 'Clarine\\n', 'Clarisa\\n', 'Clarissa\\n', 'Clarisse\\n', 'Clarita\\n', 'Clary\\n', 'Claude\\n', 'Claudelle\\n', 'Claudetta\\n', 'Claudette\\n', 'Claudia\\n', 'Claudie\\n', 'Claudina\\n', 'Claudine\\n', 'Clea\\n', 'Clem\\n', 'Clemence\\n', 'Clementia\\n', 'Clementina\\n', 'Clementine\\n', 'Clemmie\\n', 'Clemmy\\n', 'Cleo\\n', 'Cleopatra\\n', 'Clerissa\\n', 'Cleva\\n', 'Clio\\n', 'Clo\\n', 'Cloe\\n', 'Cloris\\n', 'Clotilda\\n', 'Clovis\\n', 'Codee\\n', 'Codi\\n', 'Codie\\n', 'Cody\\n', 'Coleen\\n', 'Colene\\n', 'Coletta\\n', 'Colette\\n', 'Colleen\\n', 'Collete\\n', 'Collette\\n', 'Collie\\n', 'Colline\\n', 'Colly\\n', 'Con\\n', 'Concettina\\n', 'Conchita\\n', 'Concordia\\n', 'Conney\\n', 'Conni\\n', 'Connie\\n', 'Conny\\n', 'Consolata\\n', 'Constance\\n', 'Constancia\\n', 'Constancy\\n', 'Constanta\\n', 'Constantia\\n', 'Constantina\\n', 'Constantine\\n', 'Consuela\\n', 'Consuelo\\n', 'Cookie\\n', 'Cora\\n', 'Corabel\\n', 'Corabella\\n', 'Corabelle\\n', 'Coral\\n', 'Coralie\\n', 'Coraline\\n', 'Coralyn\\n', 'Cordelia\\n', 'Cordelie\\n', 'Cordey\\n', 'Cordie\\n', 'Cordula\\n', 'Cordy\\n', 'Coreen\\n', 'Corella\\n', 'Corena\\n', 'Corenda\\n', 'Corene\\n', 'Coretta\\n', 'Corette\\n', 'Corey\\n', 'Cori\\n', 'Corie\\n', 'Corilla\\n', 'Corina\\n', 'Corine\\n', 'Corinna\\n', 'Corinne\\n', 'Coriss\\n', 'Corissa\\n', 'Corliss\\n', 'Corly\\n', 'Cornela\\n', 'Cornelia\\n', 'Cornelle\\n', 'Cornie\\n', 'Corny\\n', 'Correna\\n', 'Correy\\n', 'Corri\\n', 'Corrianne\\n', 'Corrie\\n', 'Corrina\\n', 'Corrine\\n', 'Corrinne\\n', 'Corry\\n', 'Cortney\\n', 'Cory\\n', 'Cosetta\\n', 'Cosette\\n', 'Courtenay\\n', 'Courtney\\n', 'Cresa\\n', 'Cris\\n', 'Crissie\\n', 'Crissy\\n', 'Crista\\n', 'Cristabel\\n', 'Cristal\\n', 'Cristen\\n', 'Cristi\\n', 'Cristie\\n', 'Cristin\\n', 'Cristina\\n', 'Cristine\\n', 'Cristionna\\n', 'Cristy\\n', 'Crysta\\n', 'Crystal\\n', 'Crystie\\n', 'Cyb\\n', 'Cybal\\n', 'Cybel\\n', 'Cybelle\\n', 'Cybil\\n', 'Cybill\\n', 'Cyndi\\n', 'Cyndy\\n', 'Cynthea\\n', 'Cynthia\\n', 'Cynthie\\n', 'Cynthy\\n', 'Dacey\\n', 'Dacia\\n', 'Dacie\\n', 'Dacy\\n', 'Dael\\n', 'Daffi\\n', 'Daffie\\n', 'Daffy\\n', 'Dafna\\n', 'Dagmar\\n', 'Dahlia\\n', 'Daile\\n', 'Daisey\\n', 'Daisi\\n', 'Daisie\\n', 'Daisy\\n', 'Dale\\n', 'Dalenna\\n', 'Dalia\\n', 'Dalila\\n', 'Dallas\\n', 'Daloris\\n', 'Damara\\n', 'Damaris\\n', 'Damita\\n', 'Dana\\n', 'Danell\\n', 'Danella\\n', 'Danelle\\n', 'Danette\\n', 'Dani\\n', 'Dania\\n', 'Danica\\n', 'Danice\\n', 'Daniel\\n', 'Daniela\\n', 'Daniele\\n', 'Daniella\\n', 'Danielle\\n', 'Danika\\n', 'Danila\\n', 'Danit\\n', 'Danita\\n', 'Danna\\n', 'Danni\\n', 'Dannie\\n', 'Danny\\n', 'Dannye\\n', 'Danya\\n', 'Danyelle\\n', 'Danyette\\n', 'Daphene\\n', 'Daphna\\n', 'Daphne\\n', 'Dara\\n', 'Darb\\n', 'Darbie\\n', 'Darby\\n', 'Darcee\\n', 'Darcey\\n', 'Darci\\n', 'Darcie\\n', 'Darcy\\n', 'Darda\\n', 'Dareen\\n', 'Darell\\n', 'Darelle\\n', 'Dari\\n', 'Daria\\n', 'Darice\\n', 'Darla\\n', 'Darleen\\n', 'Darlene\\n', 'Darline\\n', 'Darryl\\n', 'Darsey\\n', 'Darsie\\n', 'Darya\\n', 'Daryl\\n', 'Daryn\\n', 'Dasha\\n', 'Dasi\\n', 'Dasie\\n', 'Dasya\\n', 'Datha\\n', 'Daune\\n', 'Daveen\\n', 'Daveta\\n', 'Davida\\n', 'Davina\\n', 'Davine\\n', 'Davita\\n', 'Dawn\\n', 'Dawna\\n', 'Dayle\\n', 'Dayna\\n', 'Dea\\n', 'Deana\\n', 'Deane\\n', 'Deanna\\n', 'Deanne\\n', 'Deb\\n', 'Debbi\\n', 'Debbie\\n', 'Debbra\\n', 'Debby\\n', 'Debee\\n', 'Debera\\n', 'Debi\\n', 'Debor\\n', 'Debora\\n', 'Deborah\\n', 'Debra\\n', 'Dede\\n', 'Dedie\\n', 'Dedra\\n', 'Dee\\n', 'Dee Dee\\n', 'Deeann\\n', 'Deeanne\\n', 'Deedee\\n', 'Deena\\n', 'Deerdre\\n', 'Dehlia\\n', 'Deidre\\n', 'Deina\\n', 'Deirdre\\n', 'Del\\n', 'Dela\\n', 'Delaney\\n', 'Delcina\\n', 'Delcine\\n', 'Delia\\n', 'Delila\\n', 'Delilah\\n', 'Delinda\\n', 'Dell\\n', 'Della\\n', 'Delly\\n', 'Delora\\n', 'Delores\\n', 'Deloria\\n', 'Deloris\\n', 'Delphina\\n', 'Delphine\\n', 'Delphinia\\n', 'Demeter\\n', 'Demetra\\n', 'Demetria\\n', 'Demetris\\n', 'Dena\\n', 'Deni\\n', 'Denice\\n', 'Denise\\n', 'Denna\\n', 'Denni\\n', 'Dennie\\n', 'Denny\\n', 'Deny\\n', 'Denys\\n', 'Denyse\\n', 'Deonne\\n', 'Desaree\\n', 'Desdemona\\n', 'Desirae\\n', 'Desiree\\n', 'Desiri\\n', 'Deva\\n', 'Devan\\n', 'Devi\\n', 'Devin\\n', 'Devina\\n', 'Devinne\\n', 'Devon\\n', 'Devondra\\n', 'Devonna\\n', 'Devonne\\n', 'Devora\\n', 'Dew\\n', 'Di\\n', 'Diahann\\n', 'Diamond\\n', 'Dian\\n', 'Diana\\n', 'Diandra\\n', 'Diane\\n', 'Diane-Marie\\n', 'Dianemarie\\n', 'Diann\\n', 'Dianna\\n', 'Dianne\\n', 'Diannne\\n', 'Didi\\n', 'Dido\\n', 'Diena\\n', 'Dierdre\\n', 'Dina\\n', 'Dinah\\n', 'Dinnie\\n', 'Dinny\\n', 'Dion\\n', 'Dione\\n', 'Dionis\\n', 'Dionne\\n', 'Dita\\n', 'Dix\\n', 'Dixie\\n', 'Dode\\n', 'Dodi\\n', 'Dodie\\n', 'Dody\\n', 'Doe\\n', 'Doll\\n', 'Dolley\\n', 'Dolli\\n', 'Dollie\\n', 'Dolly\\n', 'Dolora\\n', 'Dolores\\n', 'Dolorita\\n', 'Doloritas\\n', 'Dominica\\n', 'Dominique\\n', 'Dona\\n', 'Donella\\n', 'Donelle\\n', 'Donetta\\n', 'Donia\\n', 'Donica\\n', 'Donielle\\n', 'Donna\\n', 'Donnajean\\n', 'Donnamarie\\n', 'Donni\\n', 'Donnie\\n', 'Donny\\n', 'Dora\\n', 'Doralia\\n', 'Doralin\\n', 'Doralyn\\n', 'Doralynn\\n', 'Doralynne\\n', 'Dorcas\\n', 'Dore\\n', 'Doreen\\n', 'Dorelia\\n', 'Dorella\\n', 'Dorelle\\n', 'Dorena\\n', 'Dorene\\n', 'Doretta\\n', 'Dorette\\n', 'Dorey\\n', 'Dori\\n', 'Doria\\n', 'Dorian\\n', 'Dorice\\n', 'Dorie\\n', 'Dorine\\n', 'Doris\\n', 'Dorisa\\n', 'Dorise\\n', 'Dorit\\n', 'Dorita\\n', 'Doro\\n', 'Dorolice\\n', 'Dorolisa\\n', 'Dorotea\\n', 'Doroteya\\n', 'Dorothea\\n', 'Dorothee\\n', 'Dorothy\\n', 'Dorree\\n', 'Dorri\\n', 'Dorrie\\n', 'Dorris\\n', 'Dorry\\n', 'Dorthea\\n', 'Dorthy\\n', 'Dory\\n', 'Dosi\\n', 'Dot\\n', 'Doti\\n', 'Dotti\\n', 'Dottie\\n', 'Dotty\\n', 'Dove\\n', 'Drea\\n', 'Drew\\n', 'Dulce\\n', 'Dulcea\\n', 'Dulci\\n', 'Dulcia\\n', 'Dulciana\\n', 'Dulcie\\n', 'Dulcine\\n', 'Dulcinea\\n', 'Dulcy\\n', 'Dulsea\\n', 'Dusty\\n', 'Dyan\\n', 'Dyana\\n', 'Dyane\\n', 'Dyann\\n', 'Dyanna\\n', 'Dyanne\\n', 'Dyna\\n', 'Dynah\\n', \"E'Lane\\n\", 'Eada\\n', 'Eadie\\n', 'Eadith\\n', 'Ealasaid\\n', 'Eartha\\n', 'Easter\\n', 'Eba\\n', 'Ebba\\n', 'Ebonee\\n', 'Ebony\\n', 'Eda\\n', 'Eddi\\n', 'Eddie\\n', 'Eddy\\n', 'Ede\\n', 'Edee\\n', 'Edeline\\n', 'Eden\\n', 'Edi\\n', 'Edie\\n', 'Edin\\n', 'Edita\\n', 'Edith\\n', 'Editha\\n', 'Edithe\\n', 'Ediva\\n', 'Edna\\n', 'Edwina\\n', 'Edy\\n', 'Edyth\\n', 'Edythe\\n', 'Effie\\n', 'Eileen\\n', 'Eilis\\n', 'Eimile\\n', 'Eirena\\n', 'Ekaterina\\n', 'Elaina\\n', 'Elaine\\n', 'Elana\\n', 'Elane\\n', 'Elayne\\n', 'Elberta\\n', 'Elbertina\\n', 'Elbertine\\n', 'Eleanor\\n', 'Eleanora\\n', 'Eleanore\\n', 'Electra\\n', 'Elena\\n', 'Elene\\n', 'Eleni\\n', 'Elenore\\n', 'Eleonora\\n', 'Eleonore\\n', 'Elfie\\n', 'Elfreda\\n', 'Elfrida\\n', 'Elfrieda\\n', 'Elga\\n', 'Elianora\\n', 'Elianore\\n', 'Elicia\\n', 'Elie\\n', 'Elinor\\n', 'Elinore\\n', 'Elisa\\n', 'Elisabet\\n', 'Elisabeth\\n', 'Elisabetta\\n', 'Elise\\n', 'Elisha\\n', 'Elissa\\n', 'Elita\\n', 'Eliza\\n', 'Elizabet\\n', 'Elizabeth\\n', 'Elka\\n', 'Elke\\n', 'Ella\\n', 'Elladine\\n', 'Elle\\n', 'Ellen\\n', 'Ellene\\n', 'Ellette\\n', 'Elli\\n', 'Ellie\\n', 'Ellissa\\n', 'Elly\\n', 'Ellyn\\n', 'Ellynn\\n', 'Elmira\\n', 'Elna\\n', 'Elnora\\n', 'Elnore\\n', 'Eloisa\\n', 'Eloise\\n', 'Elonore\\n', 'Elora\\n', 'Elsa\\n', 'Elsbeth\\n', 'Else\\n', 'Elsey\\n', 'Elsi\\n', 'Elsie\\n', 'Elsinore\\n', 'Elspeth\\n', 'Elsy\\n', 'Elva\\n', 'Elvera\\n', 'Elvina\\n', 'Elvira\\n', 'Elwina\\n', 'Elwira\\n', 'Elyn\\n', 'Elyse\\n', 'Elysee\\n', 'Elysha\\n', 'Elysia\\n', 'Elyssa\\n', 'Em\\n', 'Ema\\n', 'Emalee\\n', 'Emalia\\n', 'Emanuela\\n', 'Emelda\\n', 'Emelia\\n', 'Emelina\\n', 'Emeline\\n', 'Emelita\\n', 'Emelyne\\n', 'Emera\\n', 'Emilee\\n', 'Emili\\n', 'Emilia\\n', 'Emilie\\n', 'Emiline\\n', 'Emily\\n', 'Emlyn\\n', 'Emlynn\\n', 'Emlynne\\n', 'Emma\\n', 'Emmalee\\n', 'Emmaline\\n', 'Emmalyn\\n', 'Emmalynn\\n', 'Emmalynne\\n', 'Emmeline\\n', 'Emmey\\n', 'Emmi\\n', 'Emmie\\n', 'Emmy\\n', 'Emmye\\n', 'Emogene\\n', 'Emyle\\n', 'Emylee\\n', 'Endora\\n', 'Engracia\\n', 'Enid\\n', 'Enrica\\n', 'Enrichetta\\n', 'Enrika\\n', 'Enriqueta\\n', 'Enya\\n', 'Eolanda\\n', 'Eolande\\n', 'Eran\\n', 'Erda\\n', 'Erena\\n', 'Erica\\n', 'Ericha\\n', 'Ericka\\n', 'Erika\\n', 'Erin\\n', 'Erina\\n', 'Erinn\\n', 'Erinna\\n', 'Erma\\n', 'Ermengarde\\n', 'Ermentrude\\n', 'Ermina\\n', 'Erminia\\n', 'Erminie\\n', 'Erna\\n', 'Ernaline\\n', 'Ernesta\\n', 'Ernestine\\n', 'Ertha\\n', 'Eryn\\n', 'Esma\\n', 'Esmaria\\n', 'Esme\\n', 'Esmeralda\\n', 'Esmerelda\\n', 'Essa\\n', 'Essie\\n', 'Essy\\n', 'Esta\\n', 'Estel\\n', 'Estele\\n', 'Estell\\n', 'Estella\\n', 'Estelle\\n', 'Ester\\n', 'Esther\\n', 'Estrella\\n', 'Estrellita\\n', 'Ethel\\n', 'Ethelda\\n', 'Ethelin\\n', 'Ethelind\\n', 'Etheline\\n', 'Ethelyn\\n', 'Ethyl\\n', 'Etta\\n', 'Etti\\n', 'Ettie\\n', 'Etty\\n', 'Eudora\\n', 'Eugenia\\n', 'Eugenie\\n', 'Eugine\\n', 'Eula\\n', 'Eulalie\\n', 'Eunice\\n', 'Euphemia\\n', 'Eustacia\\n', 'Eva\\n', 'Evaleen\\n', 'Evangelia\\n', 'Evangelin\\n', 'Evangelina\\n', 'Evangeline\\n', 'Evania\\n', 'Evanne\\n', 'Eve\\n', 'Eveleen\\n', 'Evelina\\n', 'Eveline\\n', 'Evelyn\\n', 'Evette\\n', 'Evey\\n', 'Evie\\n', 'Evita\\n', 'Evonne\\n', 'Evvie\\n', 'Evvy\\n', 'Evy\\n', 'Eyde\\n', 'Eydie\\n', 'Fabrianne\\n', 'Fabrice\\n', 'Fae\\n', 'Faina\\n', 'Faith\\n', 'Fallon\\n', 'Fan\\n', 'Fanchette\\n', 'Fanchon\\n', 'Fancie\\n', 'Fancy\\n', 'Fanechka\\n', 'Fania\\n', 'Fanni\\n', 'Fannie\\n', 'Fanny\\n', 'Fanya\\n', 'Fara\\n', 'Farah\\n', 'Farand\\n', 'Farica\\n', 'Farra\\n', 'Farrah\\n', 'Farrand\\n', 'Fatima\\n', 'Faun\\n', 'Faunie\\n', 'Faustina\\n', 'Faustine\\n', 'Fawn\\n', 'Fawna\\n', 'Fawne\\n', 'Fawnia\\n', 'Fay\\n', 'Faydra\\n', 'Faye\\n', 'Fayette\\n', 'Fayina\\n', 'Fayre\\n', 'Fayth\\n', 'Faythe\\n', 'Federica\\n', 'Fedora\\n', 'Felecia\\n', 'Felicdad\\n', 'Felice\\n', 'Felicia\\n', 'Felicity\\n', 'Felicle\\n', 'Felipa\\n', 'Felisha\\n', 'Felita\\n', 'Feliza\\n', 'Fenelia\\n', 'Feodora\\n', 'Ferdinanda\\n', 'Ferdinande\\n', 'Fern\\n', 'Fernanda\\n', 'Fernande\\n', 'Fernandina\\n', 'Ferne\\n', 'Fey\\n', 'Fiann\\n', 'Fianna\\n', 'Fidela\\n', 'Fidelia\\n', 'Fidelity\\n', 'Fifi\\n', 'Fifine\\n', 'Filia\\n', 'Filide\\n', 'Filippa\\n', 'Fina\\n', 'Fiona\\n', 'Fionna\\n', 'Fionnula\\n', 'Fiorenze\\n', 'Fleur\\n', 'Fleurette\\n', 'Flo\\n', 'Flor\\n', 'Flora\\n', 'Florance\\n', 'Flore\\n', 'Florella\\n', 'Florence\\n', 'Florencia\\n', 'Florentia\\n', 'Florenza\\n', 'Florette\\n', 'Flori\\n', 'Floria\\n', 'Florice\\n', 'Florida\\n', 'Florie\\n', 'Florina\\n', 'Florinda\\n', 'Floris\\n', 'Florri\\n', 'Florrie\\n', 'Florry\\n', 'Flory\\n', 'Flossi\\n', 'Flossie\\n', 'Flossy\\n', 'Flower\\n', 'Fortuna\\n', 'Fortune\\n', 'Fran\\n', 'France\\n', 'Francene\\n', 'Frances\\n', 'Francesca\\n', 'Francesmary\\n', 'Francine\\n', 'Francis\\n', 'Francisca\\n', 'Franciska\\n', 'Francoise\\n', 'Francyne\\n', 'Frank\\n', 'Frankie\\n', 'Franky\\n', 'Franni\\n', 'Frannie\\n', 'Franny\\n', 'Frayda\\n', 'Fred\\n', 'Freda\\n', 'Freddi\\n', 'Freddie\\n', 'Freddy\\n', 'Fredelia\\n', 'Frederica\\n', 'Fredericka\\n', 'Fredi\\n', 'Fredia\\n', 'Fredra\\n', 'Fredrika\\n', 'Freida\\n', 'Frieda\\n', 'Friederike\\n', 'Fulvia\\n', 'Gabbey\\n', 'Gabbi\\n', 'Gabbie\\n', 'Gabey\\n', 'Gabi\\n', 'Gabie\\n', 'Gabriel\\n', 'Gabriela\\n', 'Gabriell\\n', 'Gabriella\\n', 'Gabrielle\\n', 'Gabriellia\\n', 'Gabrila\\n', 'Gaby\\n', 'Gae\\n', 'Gael\\n', 'Gail\\n', 'Gale\\n', 'Gale \\n', 'Galina\\n', 'Garland\\n', 'Garnet\\n', 'Garnette\\n', 'Gates\\n', 'Gavra\\n', 'Gavrielle\\n', 'Gay\\n', 'Gayla\\n', 'Gayle\\n', 'Gayleen\\n', 'Gaylene\\n', 'Gaynor\\n', 'Gelya\\n', 'Gen\\n', 'Gena\\n', 'Gene\\n', 'Geneva\\n', 'Genevieve\\n', 'Genevra\\n', 'Genia\\n', 'Genna\\n', 'Genni\\n', 'Gennie\\n', 'Gennifer\\n', 'Genny\\n', 'Genovera\\n', 'Genvieve\\n', 'George\\n', 'Georgeanna\\n', 'Georgeanne\\n', 'Georgena\\n', 'Georgeta\\n', 'Georgetta\\n', 'Georgette\\n', 'Georgia\\n', 'Georgiamay\\n', 'Georgiana\\n', 'Georgianna\\n', 'Georgianne\\n', 'Georgie\\n', 'Georgina\\n', 'Georgine\\n', 'Gera\\n', 'Geralda\\n', 'Geraldina\\n', 'Geraldine\\n', 'Gerda\\n', 'Gerhardine\\n', 'Geri\\n', 'Gerianna\\n', 'Gerianne\\n', 'Gerladina\\n', 'Germain\\n', 'Germaine\\n', 'Germana\\n', 'Gerri\\n', 'Gerrie\\n', 'Gerrilee\\n', 'Gerry\\n', 'Gert\\n', 'Gerta\\n', 'Gerti\\n', 'Gertie\\n', 'Gertrud\\n', 'Gertruda\\n', 'Gertrude\\n', 'Gertrudis\\n', 'Gerty\\n', 'Giacinta\\n', 'Giana\\n', 'Gianina\\n', 'Gianna\\n', 'Gigi\\n', 'Gilberta\\n', 'Gilberte\\n', 'Gilbertina\\n', 'Gilbertine\\n', 'Gilda\\n', 'Gill\\n', 'Gillan\\n', 'Gilli\\n', 'Gillian\\n', 'Gillie\\n', 'Gilligan\\n', 'Gilly\\n', 'Gina\\n', 'Ginelle\\n', 'Ginevra\\n', 'Ginger\\n', 'Ginni\\n', 'Ginnie\\n', 'Ginnifer\\n', 'Ginny\\n', 'Giorgia\\n', 'Giovanna\\n', 'Gipsy\\n', 'Giralda\\n', 'Gisela\\n', 'Gisele\\n', 'Gisella\\n', 'Giselle\\n', 'Gizela\\n', 'Glad\\n', 'Gladi\\n', 'Gladis\\n', 'Gladys\\n', 'Gleda\\n', 'Glen\\n', 'Glenda\\n', 'Glenine\\n', 'Glenn\\n', 'Glenna\\n', 'Glennie\\n', 'Glennis\\n', 'Glori\\n', 'Gloria\\n', 'Gloriana\\n', 'Gloriane\\n', 'Glorianna\\n', 'Glory\\n', 'Glyn\\n', 'Glynda\\n', 'Glynis\\n', 'Glynnis\\n', 'Godiva\\n', 'Golda\\n', 'Goldarina\\n', 'Goldi\\n', 'Goldia\\n', 'Goldie\\n', 'Goldina\\n', 'Goldy\\n', 'Grace\\n', 'Gracia\\n', 'Gracie\\n', 'Grata\\n', 'Gratia\\n', 'Gratiana\\n', 'Gray\\n', 'Grayce\\n', 'Grazia\\n', 'Gredel\\n', 'Greer\\n', 'Greta\\n', 'Gretal\\n', 'Gretchen\\n', 'Grete\\n', 'Gretel\\n', 'Grethel\\n', 'Gretna\\n', 'Gretta\\n', 'Grier\\n', 'Griselda\\n', 'Grissel\\n', 'Guendolen\\n', 'Guenevere\\n', 'Guenna\\n', 'Guglielma\\n', 'Gui\\n', 'Guillema\\n', 'Guillemette\\n', 'Guinevere\\n', 'Guinna\\n', 'Gunilla\\n', 'Gunvor\\n', 'Gus\\n', 'Gusella\\n', 'Gussi\\n', 'Gussie\\n', 'Gussy\\n', 'Gusta\\n', 'Gusti\\n', 'Gustie\\n', 'Gusty\\n', 'Gwen\\n', 'Gwendolen\\n', 'Gwendolin\\n', 'Gwendolyn\\n', 'Gweneth\\n', 'Gwenette\\n', 'Gwenn\\n', 'Gwenneth\\n', 'Gwenni\\n', 'Gwennie\\n', 'Gwenny\\n', 'Gwenora\\n', 'Gwenore\\n', 'Gwyn\\n', 'Gwyneth\\n', 'Gwynne\\n', 'Gypsy\\n', 'Hadria\\n', 'Hailee\\n', 'Haily\\n', 'Haleigh\\n', 'Halette\\n', 'Haley\\n', 'Hali\\n', 'Halie\\n', 'Halimeda\\n', 'Halley\\n', 'Halli\\n', 'Hallie\\n', 'Hally\\n', 'Hana\\n', 'Hanna\\n', 'Hannah\\n', 'Hanni\\n', 'Hannibal\\n', 'Hannie\\n', 'Hannis\\n', 'Hanny\\n', 'Happy\\n', 'Harlene\\n', 'Harley\\n', 'Harli\\n', 'Harlie\\n', 'Harmonia\\n', 'Harmonie\\n', 'Harmony\\n', 'Harri\\n', 'Harrie\\n', 'Harriet\\n', 'Harriett\\n', 'Harrietta\\n', 'Harriette\\n', 'Harriot\\n', 'Harriott\\n', 'Hatti\\n', 'Hattie\\n', 'Hatty\\n', 'Havivah\\n', 'Hayley\\n', 'Hazel\\n', 'Heath\\n', 'Heather\\n', 'Heda\\n', 'Hedda\\n', 'Heddi\\n', 'Heddie\\n', 'Hedi\\n', 'Hedvig\\n', 'Hedwig\\n', 'Hedy\\n', 'Heida\\n', 'Heide\\n', 'Heidi\\n', 'Heidie\\n', 'Helaina\\n', 'Helaine\\n', 'Helen\\n', 'Helen-Elizabeth\\n', 'Helena\\n', 'Helene\\n', 'Helga\\n', 'Helge\\n', 'Helise\\n', 'Hellene\\n', 'Helli\\n', 'Heloise\\n', 'Helsa\\n', 'Helyn\\n', 'Hendrika\\n', 'Henka\\n', 'Henrie\\n', 'Henrieta\\n', 'Henrietta\\n', 'Henriette\\n', 'Henryetta\\n', 'Hephzibah\\n', 'Hermia\\n', 'Hermina\\n', 'Hermine\\n', 'Herminia\\n', 'Hermione\\n', 'Herta\\n', 'Hertha\\n', 'Hester\\n', 'Hesther\\n', 'Hestia\\n', 'Hetti\\n', 'Hettie\\n', 'Hetty\\n', 'Hilarie\\n', 'Hilary\\n', 'Hilda\\n', 'Hildagard\\n', 'Hildagarde\\n', 'Hilde\\n', 'Hildegaard\\n', 'Hildegarde\\n', 'Hildy\\n', 'Hillary\\n', 'Hilliary\\n', 'Hinda\\n', 'Holley\\n', 'Holli\\n', 'Hollie\\n', 'Holly\\n', 'Holly-Anne\\n', 'Hollyanne\\n', 'Honey\\n', 'Honor\\n', 'Honoria\\n', 'Hope\\n', 'Horatia\\n', 'Hortense\\n', 'Hortensia\\n', 'Hulda\\n', 'Hyacinth\\n', 'Hyacintha\\n', 'Hyacinthe\\n', 'Hyacinthia\\n', 'Hyacinthie\\n', 'Hynda\\n', 'Ianthe\\n', 'Ibbie\\n', 'Ibby\\n', 'Ida\\n', 'Idalia\\n', 'Idalina\\n', 'Idaline\\n', 'Idell\\n', 'Idelle\\n', 'Idette\\n', 'Ike\\n', 'Ikey\\n', 'Ilana\\n', 'Ileana\\n', 'Ileane\\n', 'Ilene\\n', 'Ilise\\n', 'Ilka\\n', 'Illa\\n', 'Ilona\\n', 'Ilsa\\n', 'Ilse\\n', 'Ilysa\\n', 'Ilyse\\n', 'Ilyssa\\n', 'Imelda\\n', 'Imogen\\n', 'Imogene\\n', 'Imojean\\n', 'Ina\\n', 'Inci\\n', 'Indira\\n', 'Ines\\n', 'Inesita\\n', 'Inessa\\n', 'Inez\\n', 'Inga\\n', 'Ingaberg\\n', 'Ingaborg\\n', 'Inge\\n', 'Ingeberg\\n', 'Ingeborg\\n', 'Inger\\n', 'Ingrid\\n', 'Ingunna\\n', 'Inna\\n', 'Ioana\\n', 'Iolande\\n', 'Iolanthe\\n', 'Iona\\n', 'Iormina\\n', 'Ira\\n', 'Irena\\n', 'Irene\\n', 'Irina\\n', 'Iris\\n', 'Irita\\n', 'Irma\\n', 'Isa\\n', 'Isabeau\\n', 'Isabel\\n', 'Isabelita\\n', 'Isabella\\n', 'Isabelle\\n', 'Isador\\n', 'Isadora\\n', 'Isadore\\n', 'Isahella\\n', 'Iseabal\\n', 'Isidora\\n', 'Isis\\n', 'Isobel\\n', 'Issi\\n', 'Issie\\n', 'Issy\\n', 'Ivett\\n', 'Ivette\\n', 'Ivie\\n', 'Ivonne\\n', 'Ivory\\n', 'Ivy\\n', 'Izabel\\n', 'Izzi\\n', 'Jacenta\\n', 'Jacinda\\n', 'Jacinta\\n', 'Jacintha\\n', 'Jacinthe\\n', 'Jackelyn\\n', 'Jacki\\n', 'Jackie\\n', 'Jacklin\\n', 'Jacklyn\\n', 'Jackquelin\\n', 'Jackqueline\\n', 'Jacky\\n', 'Jaclin\\n', 'Jaclyn\\n', 'Jacquelin\\n', 'Jacqueline\\n', 'Jacquelyn\\n', 'Jacquelynn\\n', 'Jacquenetta\\n', 'Jacquenette\\n', 'Jacquetta\\n', 'Jacquette\\n', 'Jacqui\\n', 'Jacquie\\n', 'Jacynth\\n', 'Jada\\n', 'Jade\\n', 'Jaime\\n', 'Jaimie\\n', 'Jaine\\n', 'Jaleh\\n', 'Jami\\n', 'Jamie\\n', 'Jamima\\n', 'Jammie\\n', 'Jan\\n', 'Jana\\n', 'Janaya\\n', 'Janaye\\n', 'Jandy\\n', 'Jane\\n', 'Janean\\n', 'Janeczka\\n', 'Janeen\\n', 'Janel\\n', 'Janela\\n', 'Janella\\n', 'Janelle\\n', 'Janene\\n', 'Janenna\\n', 'Janessa\\n', 'Janet\\n', 'Janeta\\n', 'Janetta\\n', 'Janette\\n', 'Janeva\\n', 'Janey\\n', 'Jania\\n', 'Janice\\n', 'Janie\\n', 'Janifer\\n', 'Janina\\n', 'Janine\\n', 'Janis\\n', 'Janith\\n', 'Janka\\n', 'Janna\\n', 'Jannel\\n', 'Jannelle\\n', 'Janot\\n', 'Jany\\n', 'Jaquelin\\n', 'Jaquelyn\\n', 'Jaquenetta\\n', 'Jaquenette\\n', 'Jaquith\\n', 'Jasmin\\n', 'Jasmina\\n', 'Jasmine\\n', 'Jayme\\n', 'Jaymee\\n', 'Jayne\\n', 'Jaynell\\n', 'Jazmin\\n', 'Jean\\n', 'Jeana\\n', 'Jeane\\n', 'Jeanelle\\n', 'Jeanette\\n', 'Jeanie\\n', 'Jeanine\\n', 'Jeanna\\n', 'Jeanne\\n', 'Jeannette\\n', 'Jeannie\\n', 'Jeannine\\n', 'Jehanna\\n', 'Jelene\\n', 'Jemie\\n', 'Jemima\\n', 'Jemimah\\n', 'Jemmie\\n', 'Jemmy\\n', 'Jen\\n', 'Jena\\n', 'Jenda\\n', 'Jenelle\\n', 'Jenette\\n', 'Jeni\\n', 'Jenica\\n', 'Jeniece\\n', 'Jenifer\\n', 'Jeniffer\\n', 'Jenilee\\n', 'Jenine\\n', 'Jenn\\n', 'Jenna\\n', 'Jennee\\n', 'Jennette\\n', 'Jenni\\n', 'Jennica\\n', 'Jennie\\n', 'Jennifer\\n', 'Jennilee\\n', 'Jennine\\n', 'Jenny\\n', 'Jeraldine\\n', 'Jeralee\\n', 'Jere\\n', 'Jeri\\n', 'Jermaine\\n', 'Jerrie\\n', 'Jerrilee\\n', 'Jerrilyn\\n', 'Jerrine\\n', 'Jerry\\n', 'Jerrylee\\n', 'Jess\\n', 'Jessa\\n', 'Jessalin\\n', 'Jessalyn\\n', 'Jessamine\\n', 'Jessamyn\\n', 'Jesse\\n', 'Jesselyn\\n', 'Jessi\\n', 'Jessica\\n', 'Jessie\\n', 'Jessika\\n', 'Jessy\\n', 'Jewel\\n', 'Jewell\\n', 'Jewelle\\n', 'Jill\\n', 'Jillana\\n', 'Jillane\\n', 'Jillayne\\n', 'Jilleen\\n', 'Jillene\\n', 'Jilli\\n', 'Jillian\\n', 'Jillie\\n', 'Jilly\\n', 'Jinny\\n', 'Jo\\n', 'Jo Ann\\n', 'Jo-Ann\\n', 'Jo-Anne\\n', 'JoAnn\\n', 'JoAnne\\n', 'Joan\\n', 'Joana\\n', 'Joane\\n', 'Joanie\\n', 'Joann\\n', 'Joanna\\n', 'Joanne\\n', 'Joannes\\n', 'Jobey\\n', 'Jobi\\n', 'Jobie\\n', 'Jobina\\n', 'Joby\\n', 'Jobye\\n', 'Jobyna\\n', 'Jocelin\\n', 'Joceline\\n', 'Jocelyn\\n', 'Jocelyne\\n', 'Jodee\\n', 'Jodi\\n', 'Jodie\\n', 'Jody\\n', 'Joela\\n', 'Joelie\\n', 'Joell\\n', 'Joella\\n', 'Joelle\\n', 'Joellen\\n', 'Joelly\\n', 'Joellyn\\n', 'Joelynn\\n', 'Joete\\n', 'Joey\\n', 'Johanna\\n', 'Johannah\\n', 'Johnette\\n', 'Johnna\\n', 'Joice\\n', 'Jojo\\n', 'Jolee\\n', 'Joleen\\n', 'Jolene\\n', 'Joletta\\n', 'Joli\\n', 'Jolie\\n', 'Joline\\n', 'Joly\\n', 'Jolyn\\n', 'Jolynn\\n', 'Jonell\\n', 'Joni\\n', 'Jonie\\n', 'Jonis\\n', 'Jordain\\n', 'Jordan\\n', 'Jordana\\n', 'Jordanna\\n', 'Jorey\\n', 'Jori\\n', 'Jorie\\n', 'Jorrie\\n', 'Jorry\\n', 'Joscelin\\n', 'Josee\\n', 'Josefa\\n', 'Josefina\\n', 'Joselyn\\n', 'Josepha\\n', 'Josephina\\n', 'Josephine\\n', 'Josey\\n', 'Josi\\n', 'Josie\\n', 'Joslyn\\n', 'Josselyn\\n', 'Josy\\n', 'Jourdan\\n', 'Joy\\n', 'Joya\\n', 'Joyan\\n', 'Joyann\\n', 'Joyce\\n', 'Joycelin\\n', 'Joye\\n', 'Joyous\\n', 'Juana\\n', 'Juanita\\n', 'Jude\\n', 'Judi\\n', 'Judie\\n', 'Judith\\n', 'Juditha\\n', 'Judy\\n', 'Judye\\n', 'Julee\\n', 'Juli\\n', 'Julia\\n', 'Juliana\\n', 'Juliane\\n', 'Juliann\\n', 'Julianna\\n', 'Julianne\\n', 'Julie\\n', 'Julienne\\n', 'Juliet\\n', 'Julieta\\n', 'Julietta\\n', 'Juliette\\n', 'Julina\\n', 'Juline\\n', 'Julissa\\n', 'Julita\\n', 'June\\n', 'Junette\\n', 'Junia\\n', 'Junie\\n', 'Junina\\n', 'Justin\\n', 'Justina\\n', 'Justine\\n', 'Jyoti\\n', 'Kacey\\n', 'Kacie\\n', 'Kacy\\n', 'Kai\\n', 'Kaia\\n', 'Kaila\\n', 'Kaile\\n', 'Kailey\\n', 'Kaitlin\\n', 'Kaitlyn\\n', 'Kaitlynn\\n', 'Kaja\\n', 'Kakalina\\n', 'Kala\\n', 'Kaleena\\n', 'Kali\\n', 'Kalie\\n', 'Kalila\\n', 'Kalina\\n', 'Kalinda\\n', 'Kalindi\\n', 'Kalli\\n', 'Kally\\n', 'Kameko\\n', 'Kamila\\n', 'Kamilah\\n', 'Kamillah\\n', 'Kandace\\n', 'Kandy\\n', 'Kania\\n', 'Kanya\\n', 'Kara\\n', 'Kara-Lynn\\n', 'Karalee\\n', 'Karalynn\\n', 'Kare\\n', 'Karee\\n', 'Karel\\n', 'Karen\\n', 'Karena\\n', 'Kari\\n', 'Karia\\n', 'Karie\\n', 'Karil\\n', 'Karilynn\\n', 'Karin\\n', 'Karina\\n', 'Karine\\n', 'Kariotta\\n', 'Karisa\\n', 'Karissa\\n', 'Karita\\n', 'Karla\\n', 'Karlee\\n', 'Karleen\\n', 'Karlen\\n', 'Karlene\\n', 'Karlie\\n', 'Karlotta\\n', 'Karlotte\\n', 'Karly\\n', 'Karlyn\\n', 'Karmen\\n', 'Karna\\n', 'Karol\\n', 'Karola\\n', 'Karole\\n', 'Karolina\\n', 'Karoline\\n', 'Karoly\\n', 'Karon\\n', 'Karrah\\n', 'Karrie\\n', 'Karry\\n', 'Kary\\n', 'Karyl\\n', 'Karylin\\n', 'Karyn\\n', 'Kasey\\n', 'Kass\\n', 'Kassandra\\n', 'Kassey\\n', 'Kassi\\n', 'Kassia\\n', 'Kassie\\n', 'Kaster\\n', 'Kat\\n', 'Kata\\n', 'Katalin\\n', 'Kate\\n', 'Katee\\n', 'Katerina\\n', 'Katerine\\n', 'Katey\\n', 'Kath\\n', 'Katha\\n', 'Katharina\\n', 'Katharine\\n', 'Katharyn\\n', 'Kathe\\n', 'Katheleen\\n', 'Katherina\\n', 'Katherine\\n', 'Katheryn\\n', 'Kathi\\n', 'Kathie\\n', 'Kathleen\\n', 'Kathlene\\n', 'Kathlin\\n', 'Kathrine\\n', 'Kathryn\\n', 'Kathryne\\n', 'Kathy\\n', 'Kathye\\n', 'Kati\\n', 'Katie\\n', 'Katina\\n', 'Katine\\n', 'Katinka\\n', 'Katleen\\n', 'Katlin\\n', 'Katrina\\n', 'Katrine\\n', 'Katrinka\\n', 'Katti\\n', 'Kattie\\n', 'Katuscha\\n', 'Katusha\\n', 'Katy\\n', 'Katya\\n', 'Kay\\n', 'Kaycee\\n', 'Kaye\\n', 'Kayla\\n', 'Kayle\\n', 'Kaylee\\n', 'Kayley\\n', 'Kaylil\\n', 'Kaylyn\\n', 'Kee\\n', 'Keeley\\n', 'Keelia\\n', 'Keely\\n', 'Kelcey\\n', 'Kelci\\n', 'Kelcie\\n', 'Kelcy\\n', 'Kelila\\n', 'Kellen\\n', 'Kelley\\n', 'Kelli\\n', 'Kellia\\n', 'Kellie\\n', 'Kellina\\n', 'Kellsie\\n', 'Kelly\\n', 'Kellyann\\n', 'Kelsey\\n', 'Kelsi\\n', 'Kelsy\\n', 'Kendra\\n', 'Kendre\\n', 'Kenna\\n', 'Keren\\n', 'Keri\\n', 'Keriann\\n', 'Kerianne\\n', 'Kerri\\n', 'Kerrie\\n', 'Kerrill\\n', 'Kerrin\\n', 'Kerry\\n', 'Kerstin\\n', 'Kesley\\n', 'Keslie\\n', 'Kessia\\n', 'Kessiah\\n', 'Ketti\\n', 'Kettie\\n', 'Ketty\\n', 'Kevina\\n', 'Kevyn\\n', 'Ki\\n', 'Kia\\n', 'Kiah\\n', 'Kial\\n', 'Kiele\\n', 'Kiersten\\n', 'Kikelia\\n', 'Kiley\\n', 'Kim\\n', 'Kimberlee\\n', 'Kimberley\\n', 'Kimberli\\n', 'Kimberly\\n', 'Kimberlyn\\n', 'Kimbra\\n', 'Kimmi\\n', 'Kimmie\\n', 'Kimmy\\n', 'Kinna\\n', 'Kip\\n', 'Kipp\\n', 'Kippie\\n', 'Kippy\\n', 'Kira\\n', 'Kirbee\\n', 'Kirbie\\n', 'Kirby\\n', 'Kiri\\n', 'Kirsten\\n', 'Kirsteni\\n', 'Kirsti\\n', 'Kirstie\\n', 'Kirstin\\n', 'Kirstyn\\n', 'Kissee\\n', 'Kissiah\\n', 'Kissie\\n', 'Kit\\n', 'Kitti\\n', 'Kittie\\n', 'Kitty\\n', 'Kizzee\\n', 'Kizzie\\n', 'Klara\\n', 'Klarika\\n', 'Klarrisa\\n', 'Konstance\\n', 'Konstanze\\n', 'Koo\\n', 'Kora\\n', 'Koral\\n', 'Koralle\\n', 'Kordula\\n', 'Kore\\n', 'Korella\\n', 'Koren\\n', 'Koressa\\n', 'Kori\\n', 'Korie\\n', 'Korney\\n', 'Korrie\\n', 'Korry\\n', 'Kourtney\\n', 'Kris\\n', 'Krissie\\n', 'Krissy\\n', 'Krista\\n', 'Kristal\\n', 'Kristan\\n', 'Kriste\\n', 'Kristel\\n', 'Kristen\\n', 'Kristi\\n', 'Kristien\\n', 'Kristin\\n', 'Kristina\\n', 'Kristine\\n', 'Kristy\\n', 'Kristyn\\n', 'Krysta\\n', 'Krystal\\n', 'Krystalle\\n', 'Krystle\\n', 'Krystyna\\n', 'Kyla\\n', 'Kyle\\n', 'Kylen\\n', 'Kylie\\n', 'Kylila\\n', 'Kylynn\\n', 'Kym\\n', 'Kynthia\\n', 'Kyrstin\\n', 'La\\n', 'Lacee\\n', 'Lacey\\n', 'Lacie\\n', 'Lacy\\n', 'Ladonna\\n', 'Laetitia\\n', 'Laila\\n', 'Laina\\n', 'Lainey\\n', 'Lamb\\n', 'Lana\\n', 'Lane\\n', 'Lanette\\n', 'Laney\\n', 'Lani\\n', 'Lanie\\n', 'Lanita\\n', 'Lanna\\n', 'Lanni\\n', 'Lanny\\n', 'Lara\\n', 'Laraine\\n', 'Lari\\n', 'Larina\\n', 'Larine\\n', 'Larisa\\n', 'Larissa\\n', 'Lark\\n', 'Laryssa\\n', 'Latashia\\n', 'Latia\\n', 'Latisha\\n', 'Latrena\\n', 'Latrina\\n', 'Laura\\n', 'Lauraine\\n', 'Laural\\n', 'Lauralee\\n', 'Laure\\n', 'Lauree\\n', 'Laureen\\n', 'Laurel\\n', 'Laurella\\n', 'Lauren\\n', 'Laurena\\n', 'Laurene\\n', 'Lauretta\\n', 'Laurette\\n', 'Lauri\\n', 'Laurianne\\n', 'Laurice\\n', 'Laurie\\n', 'Lauryn\\n', 'Lavena\\n', 'Laverna\\n', 'Laverne\\n', 'Lavina\\n', 'Lavinia\\n', 'Lavinie\\n', 'Layla\\n', 'Layne\\n', 'Layney\\n', 'Lea\\n', 'Leah\\n', 'Leandra\\n', 'Leann\\n', 'Leanna\\n', 'Leanne\\n', 'Leanor\\n', 'Leanora\\n', 'Lebbie\\n', 'Leda\\n', 'Lee\\n', 'LeeAnn\\n', 'Leeann\\n', 'Leeanne\\n', 'Leela\\n', 'Leelah\\n', 'Leena\\n', 'Leesa\\n', 'Leese\\n', 'Legra\\n', 'Leia\\n', 'Leiah\\n', 'Leigh\\n', 'Leigha\\n', 'Leila\\n', 'Leilah\\n', 'Leisha\\n', 'Lela\\n', 'Lelah\\n', 'Leland\\n', 'Lelia\\n', 'Lena\\n', 'Lenee\\n', 'Lenette\\n', 'Lenka\\n', 'Lenna\\n', 'Lenora\\n', 'Lenore\\n', 'Leodora\\n', 'Leoine\\n', 'Leola\\n', 'Leoline\\n', 'Leona\\n', 'Leonanie\\n', 'Leone\\n', 'Leonelle\\n', 'Leonie\\n', 'Leonora\\n', 'Leonore\\n', 'Leontine\\n', 'Leontyne\\n', 'Leora\\n', 'Leorah\\n', 'Leshia\\n', 'Lesley\\n', 'Lesli\\n', 'Leslie\\n', 'Lesly\\n', 'Lesya\\n', 'Leta\\n', 'Lethia\\n', 'Leticia\\n', 'Letisha\\n', 'Letitia\\n', 'Letta\\n', 'Letti\\n', 'Lettie\\n', 'Letty\\n', 'Leyla\\n', 'Lezlie\\n', 'Lia\\n', 'Lian\\n', 'Liana\\n', 'Liane\\n', 'Lianna\\n', 'Lianne\\n', 'Lib\\n', 'Libbey\\n', 'Libbi\\n', 'Libbie\\n', 'Libby\\n', 'Licha\\n', 'Lida\\n', 'Lidia\\n', 'Lil\\n', 'Lila\\n', 'Lilah\\n', 'Lilas\\n', 'Lilia\\n', 'Lilian\\n', 'Liliane\\n', 'Lilias\\n', 'Lilith\\n', 'Lilla\\n', 'Lilli\\n', 'Lillian\\n', 'Lillis\\n', 'Lilllie\\n', 'Lilly\\n', 'Lily\\n', 'Lilyan\\n', 'Lin\\n', 'Lina\\n', 'Lind\\n', 'Linda\\n', 'Lindi\\n', 'Lindie\\n', 'Lindsay\\n', 'Lindsey\\n', 'Lindsy\\n', 'Lindy\\n', 'Linea\\n', 'Linell\\n', 'Linet\\n', 'Linette\\n', 'Linn\\n', 'Linnea\\n', 'Linnell\\n', 'Linnet\\n', 'Linnie\\n', 'Linzy\\n', 'Liora\\n', 'Liorah\\n', 'Lira\\n', 'Lisa\\n', 'Lisabeth\\n', 'Lisandra\\n', 'Lisbeth\\n', 'Lise\\n', 'Lisetta\\n', 'Lisette\\n', 'Lisha\\n', 'Lishe\\n', 'Lissa\\n', 'Lissi\\n', 'Lissie\\n', 'Lissy\\n', 'Lita\\n', 'Liuka\\n', 'Livia\\n', 'Liz\\n', 'Liza\\n', 'Lizabeth\\n', 'Lizbeth\\n', 'Lizette\\n', 'Lizzie\\n', 'Lizzy\\n', 'Loella\\n', 'Lois\\n', 'Loise\\n', 'Lola\\n', 'Lolande\\n', 'Loleta\\n', 'Lolita\\n', 'Lolly\\n', 'Lona\\n', 'Lonee\\n', 'Loni\\n', 'Lonna\\n', 'Lonni\\n', 'Lonnie\\n', 'Lora\\n', 'Lorain\\n', 'Loraine\\n', 'Loralee\\n', 'Loralie\\n', 'Loralyn\\n', 'Loree\\n', 'Loreen\\n', 'Lorelei\\n', 'Lorelle\\n', 'Loren\\n', 'Lorena\\n', 'Lorene\\n', 'Lorenza\\n', 'Loretta\\n', 'Lorettalorna\\n', 'Lorette\\n', 'Lori\\n', 'Loria\\n', 'Lorianna\\n', 'Lorianne\\n', 'Lorie\\n', 'Lorilee\\n', 'Lorilyn\\n', 'Lorinda\\n', 'Lorine\\n', 'Lorita\\n', 'Lorna\\n', 'Lorne\\n', 'Lorraine\\n', 'Lorrayne\\n', 'Lorri\\n', 'Lorrie\\n', 'Lorrin\\n', 'Lorry\\n', 'Lory\\n', 'Lotta\\n', 'Lotte\\n', 'Lotti\\n', 'Lottie\\n', 'Lotty\\n', 'Lou\\n', 'Louella\\n', 'Louisa\\n', 'Louise\\n', 'Louisette\\n', 'Love\\n', 'Luana\\n', 'Luanna\\n', 'Luce\\n', 'Luci\\n', 'Lucia\\n', 'Luciana\\n', 'Lucie\\n', 'Lucienne\\n', 'Lucila\\n', 'Lucilia\\n', 'Lucille\\n', 'Lucina\\n', 'Lucinda\\n', 'Lucine\\n', 'Lucita\\n', 'Lucky\\n', 'Lucretia\\n', 'Lucy\\n', 'Luella\\n', 'Luelle\\n', 'Luisa\\n', 'Luise\\n', 'Lula\\n', 'Lulita\\n', 'Lulu\\n', 'Luna\\n', 'Lura\\n', 'Lurette\\n', 'Lurleen\\n', 'Lurlene\\n', 'Lurline\\n', 'Lusa\\n', 'Lust\\n', 'Lyda\\n', 'Lydia\\n', 'Lydie\\n', 'Lyn\\n', 'Lynda\\n', 'Lynde\\n', 'Lyndel\\n', 'Lyndell\\n', 'Lyndsay\\n', 'Lyndsey\\n', 'Lyndsie\\n', 'Lyndy\\n', 'Lynea\\n', 'Lynelle\\n', 'Lynett\\n', 'Lynette\\n', 'Lynn\\n', 'Lynna\\n', 'Lynne\\n', 'Lynnea\\n', 'Lynnell\\n', 'Lynnelle\\n', 'Lynnet\\n', 'Lynnett\\n', 'Lynnette\\n', 'Lynsey\\n', 'Lysandra\\n', 'Lyssa\\n', 'Mab\\n', 'Mabel\\n', 'Mabelle\\n', 'Mable\\n', 'Mada\\n', 'Madalena\\n', 'Madalyn\\n', 'Maddalena\\n', 'Maddi\\n', 'Maddie\\n', 'Maddy\\n', 'Madel\\n', 'Madelaine\\n', 'Madeleine\\n', 'Madelena\\n', 'Madelene\\n', 'Madelin\\n', 'Madelina\\n', 'Madeline\\n', 'Madella\\n', 'Madelle\\n', 'Madelon\\n', 'Madelyn\\n', 'Madge\\n', 'Madlen\\n', 'Madlin\\n', 'Madona\\n', 'Madonna\\n', 'Mady\\n', 'Mae\\n', 'Maegan\\n', 'Mag\\n', 'Magda\\n', 'Magdaia\\n', 'Magdalen\\n', 'Magdalena\\n', 'Magdalene\\n', 'Maggee\\n', 'Maggi\\n', 'Maggie\\n', 'Maggy\\n', 'Magna\\n', 'Mahala\\n', 'Mahalia\\n', 'Maia\\n', 'Maible\\n', 'Maiga\\n', 'Mair\\n', 'Maire\\n', 'Mairead\\n', 'Maisey\\n', 'Maisie\\n', 'Mala\\n', 'Malanie\\n', 'Malcah\\n', 'Malena\\n', 'Malia\\n', 'Malina\\n', 'Malinda\\n', 'Malinde\\n', 'Malissa\\n', 'Malissia\\n', 'Malka\\n', 'Malkah\\n', 'Mallissa\\n', 'Mallorie\\n', 'Mallory\\n', 'Malorie\\n', 'Malory\\n', 'Malva\\n', 'Malvina\\n', 'Malynda\\n', 'Mame\\n', 'Mamie\\n', 'Manda\\n', 'Mandi\\n', 'Mandie\\n', 'Mandy\\n', 'Manon\\n', 'Manya\\n', 'Mara\\n', 'Marabel\\n', 'Marcela\\n', 'Marcelia\\n', 'Marcella\\n', 'Marcelle\\n', 'Marcellina\\n', 'Marcelline\\n', 'Marchelle\\n', 'Marci\\n', 'Marcia\\n', 'Marcie\\n', 'Marcile\\n', 'Marcille\\n', 'Marcy\\n', 'Mareah\\n', 'Maren\\n', 'Marena\\n', 'Maressa\\n', 'Marga\\n', 'Margalit\\n', 'Margalo\\n', 'Margaret\\n', 'Margareta\\n', 'Margarete\\n', 'Margaretha\\n', 'Margarethe\\n', 'Margaretta\\n', 'Margarette\\n', 'Margarita\\n', 'Margaux\\n', 'Marge\\n', 'Margeaux\\n', 'Margery\\n', 'Marget\\n', 'Margette\\n', 'Margi\\n', 'Margie\\n', 'Margit\\n', 'Marglerite\\n', 'Margo\\n', 'Margot\\n', 'Margret\\n', 'Marguerite\\n', 'Margurite\\n', 'Margy\\n', 'Mari\\n', 'Maria\\n', 'Mariam\\n', 'Marian\\n', 'Mariana\\n', 'Mariann\\n', 'Marianna\\n', 'Marianne\\n', 'Maribel\\n', 'Maribelle\\n', 'Maribeth\\n', 'Marice\\n', 'Maridel\\n', 'Marie\\n', 'Marie-Ann\\n', 'Marie-Jeanne\\n', 'Marieann\\n', 'Mariejeanne\\n', 'Mariel\\n', 'Mariele\\n', 'Marielle\\n', 'Mariellen\\n', 'Marietta\\n', 'Mariette\\n', 'Marigold\\n', 'Marijo\\n', 'Marika\\n', 'Marilee\\n', 'Marilin\\n', 'Marillin\\n', 'Marilyn\\n', 'Marin\\n', 'Marina\\n', 'Marinna\\n', 'Marion\\n', 'Mariquilla\\n', 'Maris\\n', 'Marisa\\n', 'Mariska\\n', 'Marissa\\n', 'Marit\\n', 'Marita\\n', 'Maritsa\\n', 'Mariya\\n', 'Marj\\n', 'Marja\\n', 'Marje\\n', 'Marji\\n', 'Marjie\\n', 'Marjorie\\n', 'Marjory\\n', 'Marjy\\n', 'Marketa\\n', 'Marla\\n', 'Marlane\\n', 'Marleah\\n', 'Marlee\\n', 'Marleen\\n', 'Marlena\\n', 'Marlene\\n', 'Marley\\n', 'Marlie\\n', 'Marline\\n', 'Marlo\\n', 'Marlyn\\n', 'Marna\\n', 'Marne\\n', 'Marney\\n', 'Marni\\n', 'Marnia\\n', 'Marnie\\n', 'Marquita\\n', 'Marrilee\\n', 'Marris\\n', 'Marrissa\\n', 'Marry\\n', 'Marsha\\n', 'Marsiella\\n', 'Marta\\n', 'Martelle\\n', 'Martguerita\\n', 'Martha\\n', 'Marthe\\n', 'Marthena\\n', 'Marti\\n', 'Martica\\n', 'Martie\\n', 'Martina\\n', 'Martita\\n', 'Marty\\n', 'Martynne\\n', 'Mary\\n', 'Marya\\n', 'Maryangelyn\\n', 'Maryann\\n', 'Maryanna\\n', 'Maryanne\\n', 'Marybelle\\n', 'Marybeth\\n', 'Maryellen\\n', 'Maryjane\\n', 'Maryjo\\n', 'Maryl\\n', 'Marylee\\n', 'Marylin\\n', 'Marylinda\\n', 'Marylou\\n', 'Marylynne\\n', 'Maryrose\\n', 'Marys\\n', 'Marysa\\n', 'Masha\\n', 'Matelda\\n', 'Mathilda\\n', 'Mathilde\\n', 'Matilda\\n', 'Matilde\\n', 'Matti\\n', 'Mattie\\n', 'Matty\\n', 'Maud\\n', 'Maude\\n', 'Maudie\\n', 'Maura\\n', 'Maure\\n', 'Maureen\\n', 'Maureene\\n', 'Maurene\\n', 'Maurine\\n', 'Maurise\\n', 'Maurita\\n', 'Mavis\\n', 'Mavra\\n', 'Max\\n', 'Maxi\\n', 'Maxie\\n', 'Maxine\\n', 'Maxy\\n', 'May\\n', 'Maya\\n', 'Maybelle\\n', 'Mayda\\n', 'Maye\\n', 'Mead\\n', 'Meade\\n', 'Meagan\\n', 'Meaghan\\n', 'Meara\\n', 'Mechelle\\n', 'Meg\\n', 'Megan\\n', 'Megen\\n', 'Meggan\\n', 'Meggi\\n', 'Meggie\\n', 'Meggy\\n', 'Meghan\\n', 'Meghann\\n', 'Mehetabel\\n', 'Mei\\n', 'Meira\\n', 'Mel\\n', 'Mela\\n', 'Melamie\\n', 'Melania\\n', 'Melanie\\n', 'Melantha\\n', 'Melany\\n', 'Melba\\n', 'Melesa\\n', 'Melessa\\n', 'Melicent\\n', 'Melina\\n', 'Melinda\\n', 'Melinde\\n', 'Melisa\\n', 'Melisande\\n', 'Melisandra\\n', 'Melisenda\\n', 'Melisent\\n', 'Melissa\\n', 'Melisse\\n', 'Melita\\n', 'Melitta\\n', 'Mella\\n', 'Melli\\n', 'Mellicent\\n', 'Mellie\\n', 'Mellisa\\n', 'Mellisent\\n', 'Mellissa\\n', 'Melloney\\n', 'Melly\\n', 'Melodee\\n', 'Melodie\\n', 'Melody\\n', 'Melonie\\n', 'Melony\\n', 'Melosa\\n', 'Melva\\n', 'Mercedes\\n', 'Merci\\n', 'Mercie\\n', 'Mercy\\n', 'Meredith\\n', 'Meredithe\\n', 'Meridel\\n', 'Meridith\\n', 'Meriel\\n', 'Merilee\\n', 'Merilyn\\n', 'Meris\\n', 'Merissa\\n', 'Merl\\n', 'Merla\\n', 'Merle\\n', 'Merlina\\n', 'Merline\\n', 'Merna\\n', 'Merola\\n', 'Merralee\\n', 'Merridie\\n', 'Merrie\\n', 'Merrielle\\n', 'Merrile\\n', 'Merrilee\\n', 'Merrili\\n', 'Merrill\\n', 'Merrily\\n', 'Merry\\n', 'Mersey\\n', 'Meryl\\n', 'Meta\\n', 'Mia\\n', 'Micaela\\n', 'Michaela\\n', 'Michaelina\\n', 'Michaeline\\n', 'Michaella\\n', 'Michal\\n', 'Michel\\n', 'Michele\\n', 'Michelina\\n', 'Micheline\\n', 'Michell\\n', 'Michelle\\n', 'Micki\\n', 'Mickie\\n', 'Micky\\n', 'Midge\\n', 'Mignon\\n', 'Mignonne\\n', 'Miguela\\n', 'Miguelita\\n', 'Mildred\\n', 'Mildrid\\n', 'Milena\\n', 'Milicent\\n', 'Milissent\\n', 'Milka\\n', 'Milli\\n', 'Millicent\\n', 'Millie\\n', 'Millisent\\n', 'Milly\\n', 'Milzie\\n', 'Mimi\\n', 'Min\\n', 'Mina\\n', 'Minda\\n', 'Mindy\\n', 'Minerva\\n', 'Minetta\\n', 'Minette\\n', 'Minna\\n', 'Minni\\n', 'Minnie\\n', 'Minny\\n', 'Minta\\n', 'Miquela\\n', 'Mira\\n', 'Mirabel\\n', 'Mirabella\\n', 'Mirabelle\\n', 'Miran\\n', 'Miranda\\n', 'Mireielle\\n', 'Mireille\\n', 'Mirella\\n', 'Mirelle\\n', 'Miriam\\n', 'Mirilla\\n', 'Mirna\\n', 'Misha\\n', 'Missie\\n', 'Missy\\n', 'Misti\\n', 'Misty\\n', 'Mitra\\n', 'Mitzi\\n', 'Mmarianne\\n', 'Modesta\\n', 'Modestia\\n', 'Modestine\\n', 'Modesty\\n', 'Moina\\n', 'Moira\\n', 'Moll\\n', 'Mollee\\n', 'Molli\\n', 'Mollie\\n', 'Molly\\n', 'Mommy\\n', 'Mona\\n', 'Monah\\n', 'Monica\\n', 'Monika\\n', 'Monique\\n', 'Mora\\n', 'Moreen\\n', 'Morena\\n', 'Morgan\\n', 'Morgana\\n', 'Morganica\\n', 'Morganne\\n', 'Morgen\\n', 'Moria\\n', 'Morissa\\n', 'Morlee\\n', 'Morna\\n', 'Moselle\\n', 'Moya\\n', 'Moyna\\n', 'Moyra\\n', 'Mozelle\\n', 'Muffin\\n', 'Mufi\\n', 'Mufinella\\n', 'Muire\\n', 'Mureil\\n', 'Murial\\n', 'Muriel\\n', 'Murielle\\n', 'Myna\\n', 'Myra\\n', 'Myrah\\n', 'Myranda\\n', 'Myriam\\n', 'Myrilla\\n', 'Myrle\\n', 'Myrlene\\n', 'Myrna\\n', 'Myrta\\n', 'Myrtia\\n', 'Myrtice\\n', 'Myrtie\\n', 'Myrtle\\n', 'Nada\\n', 'Nadean\\n', 'Nadeen\\n', 'Nadia\\n', 'Nadine\\n', 'Nadiya\\n', 'Nady\\n', 'Nadya\\n', 'Nalani\\n', 'Nan\\n', 'Nana\\n', 'Nananne\\n', 'Nance\\n', 'Nancee\\n', 'Nancey\\n', 'Nanci\\n', 'Nancie\\n', 'Nancy\\n', 'Nanete\\n', 'Nanette\\n', 'Nani\\n', 'Nanice\\n', 'Nanine\\n', 'Nannette\\n', 'Nanni\\n', 'Nannie\\n', 'Nanny\\n', 'Nanon\\n', 'Naoma\\n', 'Naomi\\n', 'Nara\\n', 'Nari\\n', 'Nariko\\n', 'Nat\\n', 'Nata\\n', 'Natala\\n', 'Natalee\\n', 'Natalia\\n', 'Natalie\\n', 'Natalina\\n', 'Nataline\\n', 'Natalya\\n', 'Natasha\\n', 'Natassia\\n', 'Nathalia\\n', 'Nathalie\\n', 'Natka\\n', 'Natty\\n', 'Neala\\n', 'Neda\\n', 'Nedda\\n', 'Nedi\\n', 'Neely\\n', 'Neila\\n', 'Neile\\n', 'Neilla\\n', 'Neille\\n', 'Nela\\n', 'Nelia\\n', 'Nelie\\n', 'Nell\\n', 'Nelle\\n', 'Nelli\\n', 'Nellie\\n', 'Nelly\\n', 'Nena\\n', 'Nerissa\\n', 'Nerita\\n', 'Nert\\n', 'Nerta\\n', 'Nerte\\n', 'Nerti\\n', 'Nertie\\n', 'Nerty\\n', 'Nessa\\n', 'Nessi\\n', 'Nessie\\n', 'Nessy\\n', 'Nesta\\n', 'Netta\\n', 'Netti\\n', 'Nettie\\n', 'Nettle\\n', 'Netty\\n', 'Nevsa\\n', 'Neysa\\n', 'Nichol\\n', 'Nichole\\n', 'Nicholle\\n', 'Nicki\\n', 'Nickie\\n', 'Nicky\\n', 'Nicol\\n', 'Nicola\\n', 'Nicole\\n', 'Nicolea\\n', 'Nicolette\\n', 'Nicoli\\n', 'Nicolina\\n', 'Nicoline\\n', 'Nicolle\\n', 'Nidia\\n', 'Nike\\n', 'Niki\\n', 'Nikki\\n', 'Nikkie\\n', 'Nikoletta\\n', 'Nikolia\\n', 'Nil\\n', 'Nina\\n', 'Ninetta\\n', 'Ninette\\n', 'Ninnetta\\n', 'Ninnette\\n', 'Ninon\\n', 'Nisa\\n', 'Nissa\\n', 'Nisse\\n', 'Nissie\\n', 'Nissy\\n', 'Nita\\n', 'Nitin\\n', 'Nixie\\n', 'Noami\\n', 'Noel\\n', 'Noelani\\n', 'Noell\\n', 'Noella\\n', 'Noelle\\n', 'Noellyn\\n', 'Noelyn\\n', 'Noemi\\n', 'Nola\\n', 'Nolana\\n', 'Nolie\\n', 'Nollie\\n', 'Nomi\\n', 'Nona\\n', 'Nonah\\n', 'Noni\\n', 'Nonie\\n', 'Nonna\\n', 'Nonnah\\n', 'Nora\\n', 'Norah\\n', 'Norean\\n', 'Noreen\\n', 'Norene\\n', 'Norina\\n', 'Norine\\n', 'Norma\\n', 'Norri\\n', 'Norrie\\n', 'Norry\\n', 'Nova\\n', 'Novelia\\n', 'Nydia\\n', 'Nyssa\\n', 'Octavia\\n', 'Odele\\n', 'Odelia\\n', 'Odelinda\\n', 'Odella\\n', 'Odelle\\n', 'Odessa\\n', 'Odetta\\n', 'Odette\\n', 'Odilia\\n', 'Odille\\n', 'Ofelia\\n', 'Ofella\\n', 'Ofilia\\n', 'Ola\\n', 'Olenka\\n', 'Olga\\n', 'Olia\\n', 'Olimpia\\n', 'Olive\\n', 'Olivette\\n', 'Olivia\\n', 'Olivie\\n', 'Oliy\\n', 'Ollie\\n', 'Olly\\n', 'Olva\\n', 'Olwen\\n', 'Olympe\\n', 'Olympia\\n', 'Olympie\\n', 'Ondrea\\n', 'Oneida\\n', 'Onida\\n', 'Onlea\\n', 'Oona\\n', 'Opal\\n', 'Opalina\\n', 'Opaline\\n', 'Ophelia\\n', 'Ophelie\\n', 'Oprah\\n', 'Ora\\n', 'Oralee\\n', 'Oralia\\n', 'Oralie\\n', 'Oralla\\n', 'Oralle\\n', 'Orel\\n', 'Orelee\\n', 'Orelia\\n', 'Orelie\\n', 'Orella\\n', 'Orelle\\n', 'Oreste\\n', 'Oriana\\n', 'Orly\\n', 'Orsa\\n', 'Orsola\\n', 'Ortensia\\n', 'Otha\\n', 'Othelia\\n', 'Othella\\n', 'Othilia\\n', 'Othilie\\n', 'Ottilie\\n', 'Pacifica\\n', 'Page\\n', 'Paige\\n', 'Paloma\\n', 'Pam\\n', 'Pamela\\n', 'Pamelina\\n', 'Pamella\\n', 'Pammi\\n', 'Pammie\\n', 'Pammy\\n', 'Pandora\\n', 'Pansie\\n', 'Pansy\\n', 'Paola\\n', 'Paolina\\n', 'Parwane\\n', 'Pat\\n', 'Patience\\n', 'Patrica\\n', 'Patrice\\n', 'Patricia\\n', 'Patrizia\\n', 'Patsy\\n', 'Patti\\n', 'Pattie\\n', 'Patty\\n', 'Paula\\n', 'Paula-Grace\\n', 'Paule\\n', 'Pauletta\\n', 'Paulette\\n', 'Pauli\\n', 'Paulie\\n', 'Paulina\\n', 'Pauline\\n', 'Paulita\\n', 'Pauly\\n', 'Pavia\\n', 'Pavla\\n', 'Pearl\\n', 'Pearla\\n', 'Pearle\\n', 'Pearline\\n', 'Peg\\n', 'Pegeen\\n', 'Peggi\\n', 'Peggie\\n', 'Peggy\\n', 'Pen\\n', 'Penelopa\\n', 'Penelope\\n', 'Penni\\n', 'Pennie\\n', 'Penny\\n', 'Pepi\\n', 'Pepita\\n', 'Peri\\n', 'Peria\\n', 'Perl\\n', 'Perla\\n', 'Perle\\n', 'Perri\\n', 'Perrine\\n', 'Perry\\n', 'Persis\\n', 'Pet\\n', 'Peta\\n', 'Petra\\n', 'Petrina\\n', 'Petronella\\n', 'Petronia\\n', 'Petronilla\\n', 'Petronille\\n', 'Petunia\\n', 'Phaedra\\n', 'Phaidra\\n', 'Phebe\\n', 'Phedra\\n', 'Phelia\\n', 'Phil\\n', 'Philipa\\n', 'Philippa\\n', 'Philippe\\n', 'Philippine\\n', 'Philis\\n', 'Phillida\\n', 'Phillie\\n', 'Phillis\\n', 'Philly\\n', 'Philomena\\n', 'Phoebe\\n', 'Phylis\\n', 'Phyllida\\n', 'Phyllis\\n', 'Phyllys\\n', 'Phylys\\n', 'Pia\\n', 'Pier\\n', 'Pierette\\n', 'Pierrette\\n', 'Pietra\\n', 'Piper\\n', 'Pippa\\n', 'Pippy\\n', 'Polly\\n', 'Pollyanna\\n', 'Pooh\\n', 'Poppy\\n', 'Portia\\n', 'Pris\\n', 'Prisca\\n', 'Priscella\\n', 'Priscilla\\n', 'Prissie\\n', 'Pru\\n', 'Prudence\\n', 'Prudi\\n', 'Prudy\\n', 'Prue\\n', 'Prunella\\n', 'Queada\\n', 'Queenie\\n', 'Quentin\\n', 'Querida\\n', 'Quinn\\n', 'Quinta\\n', 'Quintana\\n', 'Quintilla\\n', 'Quintina\\n', 'Rachael\\n', 'Rachel\\n', 'Rachele\\n', 'Rachelle\\n', 'Rae\\n', 'Raf\\n', 'Rafa\\n', 'Rafaela\\n', 'Rafaelia\\n', 'Rafaelita\\n', 'Ragnhild\\n', 'Rahal\\n', 'Rahel\\n', 'Raina\\n', 'Raine\\n', 'Rakel\\n', 'Ralina\\n', 'Ramona\\n', 'Ramonda\\n', 'Rana\\n', 'Randa\\n', 'Randee\\n', 'Randene\\n', 'Randi\\n', 'Randie\\n', 'Randy\\n', 'Ranee\\n', 'Rani\\n', 'Rania\\n', 'Ranice\\n', 'Ranique\\n', 'Ranna\\n', 'Raphaela\\n', 'Raquel\\n', 'Raquela\\n', 'Rasia\\n', 'Rasla\\n', 'Raven\\n', 'Ray\\n', 'Raychel\\n', 'Raye\\n', 'Rayna\\n', 'Raynell\\n', 'Rayshell\\n', 'Rea\\n', 'Reba\\n', 'Rebbecca\\n', 'Rebe\\n', 'Rebeca\\n', 'Rebecca\\n', 'Rebecka\\n', 'Rebeka\\n', 'Rebekah\\n', 'Rebekkah\\n', 'Ree\\n', 'Reeba\\n', 'Reena\\n', 'Reeta\\n', 'Reeva\\n', 'Regan\\n', 'Reggi\\n', 'Reggie\\n', 'Regina\\n', 'Regine\\n', 'Reiko\\n', 'Reina\\n', 'Reine\\n', 'Remy\\n', 'Rena\\n', 'Renae\\n', 'Renata\\n', 'Renate\\n', 'Rene\\n', 'Renee\\n', 'Renel\\n', 'Renell\\n', 'Renelle\\n', 'Renie\\n', 'Rennie\\n', 'Reta\\n', 'Retha\\n', 'Revkah\\n', 'Rey\\n', 'Reyna\\n', 'Rhea\\n', 'Rheba\\n', 'Rheta\\n', 'Rhetta\\n', 'Rhiamon\\n', 'Rhianna\\n', 'Rhianon\\n', 'Rhoda\\n', 'Rhodia\\n', 'Rhodie\\n', 'Rhody\\n', 'Rhona\\n', 'Rhonda\\n', 'Riane\\n', 'Riannon\\n', 'Rianon\\n', 'Rica\\n', 'Ricca\\n', 'Rici\\n', 'Ricki\\n', 'Rickie\\n', 'Ricky\\n', 'Riki\\n', 'Rikki\\n', 'Rina\\n', 'Risa\\n', 'Rissa\\n', 'Rita\\n', 'Riva\\n', 'Rivalee\\n', 'Rivi\\n', 'Rivkah\\n', 'Rivy\\n', 'Roana\\n', 'Roanna\\n', 'Roanne\\n', 'Robbi\\n', 'Robbie\\n', 'Robbin\\n', 'Robby\\n', 'Robbyn\\n', 'Robena\\n', 'Robenia\\n', 'Roberta\\n', 'Robin\\n', 'Robina\\n', 'Robinet\\n', 'Robinett\\n', 'Robinetta\\n', 'Robinette\\n', 'Robinia\\n', 'Roby\\n', 'Robyn\\n', 'Roch\\n', 'Rochell\\n', 'Rochella\\n', 'Rochelle\\n', 'Rochette\\n', 'Roda\\n', 'Rodi\\n', 'Rodie\\n', 'Rodina\\n', 'Romola\\n', 'Romona\\n', 'Romonda\\n', 'Romy\\n', 'Rona\\n', 'Ronalda\\n', 'Ronda\\n', 'Ronica\\n', 'Ronna\\n', 'Ronni\\n', 'Ronnica\\n', 'Ronnie\\n', 'Ronny\\n', 'Roobbie\\n', 'Rora\\n', 'Rori\\n', 'Rorie\\n', 'Rory\\n', 'Ros\\n', 'Rosa\\n', 'Rosabel\\n', 'Rosabella\\n', 'Rosabelle\\n', 'Rosaleen\\n', 'Rosalia\\n', 'Rosalie\\n', 'Rosalind\\n', 'Rosalinda\\n', 'Rosalinde\\n', 'Rosaline\\n', 'Rosalyn\\n', 'Rosalynd\\n', 'Rosamond\\n', 'Rosamund\\n', 'Rosana\\n', 'Rosanna\\n', 'Rosanne\\n', 'Rosario\\n', 'Rose\\n', 'Roseann\\n', 'Roseanna\\n', 'Roseanne\\n', 'Roselia\\n', 'Roselin\\n', 'Roseline\\n', 'Rosella\\n', 'Roselle\\n', 'Roselyn\\n', 'Rosemaria\\n', 'Rosemarie\\n', 'Rosemary\\n', 'Rosemonde\\n', 'Rosene\\n', 'Rosetta\\n', 'Rosette\\n', 'Roshelle\\n', 'Rosie\\n', 'Rosina\\n', 'Rosita\\n', 'Roslyn\\n', 'Rosmunda\\n', 'Rosy\\n', 'Row\\n', 'Rowe\\n', 'Rowena\\n', 'Roxana\\n', 'Roxane\\n', 'Roxanna\\n', 'Roxanne\\n', 'Roxi\\n', 'Roxie\\n', 'Roxine\\n', 'Roxy\\n', 'Roz\\n', 'Rozalie\\n', 'Rozalin\\n', 'Rozamond\\n', 'Rozanna\\n', 'Rozanne\\n', 'Roze\\n', 'Rozele\\n', 'Rozella\\n', 'Rozelle\\n', 'Rozina\\n', 'Rubetta\\n', 'Rubi\\n', 'Rubia\\n', 'Rubie\\n', 'Rubina\\n', 'Ruby\\n', 'Ruella\\n', 'Ruperta\\n', 'Ruth\\n', 'Ruthann\\n', 'Ruthanne\\n', 'Ruthe\\n', 'Ruthi\\n', 'Ruthie\\n', 'Ruthy\\n', 'Ryann\\n', 'Rycca\\n', 'Saba\\n', 'Sabina\\n', 'Sabine\\n', 'Sabra\\n', 'Sabrina\\n', 'Sacha\\n', 'Sada\\n', 'Sadella\\n', 'Sadie\\n', 'Sal\\n', 'Sallee\\n', 'Salli\\n', 'Sallie\\n', 'Sally\\n', 'Sallyann\\n', 'Sallyanne\\n', 'Salome\\n', 'Sam\\n', 'Samantha\\n', 'Samara\\n', 'Samaria\\n', 'Sammy\\n', 'Samuela\\n', 'Samuella\\n', 'Sande\\n', 'Sandi\\n', 'Sandie\\n', 'Sandra\\n', 'Sandy\\n', 'Sandye\\n', 'Sapphira\\n', 'Sapphire\\n', 'Sara\\n', 'Sara-Ann\\n', 'Saraann\\n', 'Sarah\\n', 'Sarajane\\n', 'Saree\\n', 'Sarena\\n', 'Sarene\\n', 'Sarette\\n', 'Sari\\n', 'Sarina\\n', 'Sarine\\n', 'Sarita\\n', 'Sascha\\n', 'Sasha\\n', 'Sashenka\\n', 'Saudra\\n', 'Saundra\\n', 'Savina\\n', 'Sayre\\n', 'Scarlet\\n', 'Scarlett\\n', 'Scotty\\n', 'Sean\\n', 'Seana\\n', 'Secunda\\n', 'Seka\\n', 'Sela\\n', 'Selena\\n', 'Selene\\n', 'Selestina\\n', 'Selia\\n', 'Selie\\n', 'Selina\\n', 'Selinda\\n', 'Seline\\n', 'Sella\\n', 'Selle\\n', 'Selma\\n', 'Sena\\n', 'Sephira\\n', 'Serena\\n', 'Serene\\n', 'Shaina\\n', 'Shaine\\n', 'Shalna\\n', 'Shalne\\n', 'Shamit\\n', 'Shana\\n', 'Shanda\\n', 'Shandee\\n', 'Shandie\\n', 'Shandra\\n', 'Shandy\\n', 'Shane\\n', 'Shani\\n', 'Shanie\\n', 'Shanna\\n', 'Shannah\\n', 'Shannen\\n', 'Shannon\\n', 'Shanon\\n', 'Shanta\\n', 'Shantee\\n', 'Shara\\n', 'Sharai\\n', 'Shari\\n', 'Sharia\\n', 'Sharie\\n', 'Sharity\\n', 'Sharl\\n', 'Sharla\\n', 'Sharleen\\n', 'Sharlene\\n', 'Sharline\\n', 'Sharna\\n', 'Sharon\\n', 'Sharona\\n', 'Sharra\\n', 'Sharron\\n', 'Sharyl\\n', 'Shaun\\n', 'Shauna\\n', 'Shawn\\n', 'Shawna\\n', 'Shawnee\\n', 'Shay\\n', 'Shayla\\n', 'Shaylah\\n', 'Shaylyn\\n', 'Shaylynn\\n', 'Shayna\\n', 'Shayne\\n', 'Shea\\n', 'Sheba\\n', 'Sheela\\n', 'Sheelagh\\n', 'Sheelah\\n', 'Sheena\\n', 'Sheeree\\n', 'Sheila\\n', 'Sheila-Kathryn\\n', 'Sheilah\\n', 'Sheilakathryn\\n', 'Shel\\n', 'Shela\\n', 'Shelagh\\n', 'Shelba\\n', 'Shelbi\\n', 'Shelby\\n', 'Shelia\\n', 'Shell\\n', 'Shelley\\n', 'Shelli\\n', 'Shellie\\n', 'Shelly\\n', 'Shena\\n', 'Sher\\n', 'Sheree\\n', 'Sheri\\n', 'Sherie\\n', 'Sheril\\n', 'Sherill\\n', 'Sherilyn\\n', 'Sherline\\n', 'Sherri\\n', 'Sherrie\\n', 'Sherry\\n', 'Sherye\\n', 'Sheryl\\n', 'Shilpa\\n', 'Shina\\n', 'Shir\\n', 'Shira\\n', 'Shirah\\n', 'Shirl\\n', 'Shirlee\\n', 'Shirleen\\n', 'Shirlene\\n', 'Shirley\\n', 'Shirline\\n', 'Shoshana\\n', 'Shoshanna\\n', 'Shoshie\\n', 'Siana\\n', 'Sianna\\n', 'Sib\\n', 'Sibbie\\n', 'Sibby\\n', 'Sibeal\\n', 'Sibel\\n', 'Sibella\\n', 'Sibelle\\n', 'Sibilla\\n', 'Sibley\\n', 'Sibyl\\n', 'Sibylla\\n', 'Sibylle\\n', 'Sidoney\\n', 'Sidonia\\n', 'Sidonnie\\n', 'Sigrid\\n', 'Sile\\n', 'Sileas\\n', 'Silva\\n', 'Silvana\\n', 'Silvia\\n', 'Silvie\\n', 'Simona\\n', 'Simone\\n', 'Simonette\\n', 'Simonne\\n', 'Sindee\\n', 'Sinead\\n', 'Siobhan\\n', 'Sioux\\n', 'Siouxie\\n', 'Sisely\\n', 'Sisile\\n', 'Sissie\\n', 'Sissy\\n', 'Sofia\\n', 'Sofie\\n', 'Solange\\n', 'Sondra\\n', 'Sonia\\n', 'Sonja\\n', 'Sonni\\n', 'Sonnie\\n', 'Sonnnie\\n', 'Sonny\\n', 'Sonya\\n', 'Sophey\\n', 'Sophi\\n', 'Sophia\\n', 'Sophie\\n', 'Sophronia\\n', 'Sorcha\\n', 'Sosanna\\n', 'Stace\\n', 'Stacee\\n', 'Stacey\\n', 'Staci\\n', 'Stacia\\n', 'Stacie\\n', 'Stacy\\n', 'Stafani\\n', 'Star\\n', 'Starla\\n', 'Starlene\\n', 'Starlin\\n', 'Starr\\n', 'Stefa\\n', 'Stefania\\n', 'Stefanie\\n', 'Steffane\\n', 'Steffi\\n', 'Steffie\\n', 'Stella\\n', 'Stepha\\n', 'Stephana\\n', 'Stephani\\n', 'Stephanie\\n', 'Stephannie\\n', 'Stephenie\\n', 'Stephi\\n', 'Stephie\\n', 'Stephine\\n', 'Stesha\\n', 'Stevana\\n', 'Stevena\\n', 'Stoddard\\n', 'Storey\\n', 'Storm\\n', 'Stormi\\n', 'Stormie\\n', 'Stormy\\n', 'Sue\\n', 'Sue-elle\\n', 'Suellen\\n', 'Sukey\\n', 'Suki\\n', 'Sula\\n', 'Sunny\\n', 'Sunshine\\n', 'Susan\\n', 'Susana\\n', 'Susanetta\\n', 'Susann\\n', 'Susanna\\n', 'Susannah\\n', 'Susanne\\n', 'Susette\\n', 'Susi\\n', 'Susie\\n', 'Sussi\\n', 'Susy\\n', 'Suzan\\n', 'Suzann\\n', 'Suzanna\\n', 'Suzanne\\n', 'Suzetta\\n', 'Suzette\\n', 'Suzi\\n', 'Suzie\\n', 'Suzy\\n', 'Suzzy\\n', 'Sybil\\n', 'Sybila\\n', 'Sybilla\\n', 'Sybille\\n', 'Sybyl\\n', 'Sydel\\n', 'Sydelle\\n', 'Sydney\\n', 'Sylvia\\n', 'Sylvie\\n', 'Tabatha\\n', 'Tabbatha\\n', 'Tabbi\\n', 'Tabbie\\n', 'Tabbitha\\n', 'Tabby\\n', 'Tabina\\n', 'Tabitha\\n', 'Taffy\\n', 'Talia\\n', 'Tallia\\n', 'Tallie\\n', 'Tally\\n', 'Talya\\n', 'Talyah\\n', 'Tamar\\n', 'Tamara\\n', 'Tamarah\\n', 'Tamarra\\n', 'Tamera\\n', 'Tami\\n', 'Tamiko\\n', 'Tamma\\n', 'Tammara\\n', 'Tammi\\n', 'Tammie\\n', 'Tammy\\n', 'Tamra\\n', 'Tana\\n', 'Tandi\\n', 'Tandie\\n', 'Tandy\\n', 'Tani\\n', 'Tania\\n', 'Tansy\\n', 'Tanya\\n', 'Tara\\n', 'Tarah\\n', 'Tarra\\n', 'Tarrah\\n', 'Taryn\\n', 'Tasha\\n', 'Tasia\\n', 'Tate\\n', 'Tatiana\\n', 'Tatiania\\n', 'Tatum\\n', 'Tawnya\\n', 'Tawsha\\n', 'Teane\\n', 'Ted\\n', 'Tedda\\n', 'Teddi\\n', 'Teddie\\n', 'Teddy\\n', 'Tedi\\n', 'Tedra\\n', 'Teena\\n', 'Tella\\n', 'Teodora\\n', 'Tera\\n', 'Teresa\\n', 'TeresaAnne\\n', 'Terese\\n', 'Teresina\\n', 'Teresita\\n', 'Teressa\\n', 'Teri\\n', 'Teriann\\n', 'Terina\\n', 'Terra\\n', 'Terri\\n', 'Terri-Jo\\n', 'Terrianne\\n', 'Terrie\\n', 'Terry\\n', 'Terrye\\n', 'Tersina\\n', 'Teryl\\n', 'Terza\\n', 'Tess\\n', 'Tessa\\n', 'Tessi\\n', 'Tessie\\n', 'Tessy\\n', 'Thalia\\n', 'Thea\\n', 'Theada\\n', 'Theadora\\n', 'Theda\\n', 'Thekla\\n', 'Thelma\\n', 'Theo\\n', 'Theodora\\n', 'Theodosia\\n', 'Theresa\\n', 'Theresa-Marie\\n', 'Therese\\n', 'Theresina\\n', 'Theresita\\n', 'Theressa\\n', 'Therine\\n', 'Thia\\n', 'Thomasa\\n', 'Thomasin\\n', 'Thomasina\\n', 'Thomasine\\n', 'Tia\\n', 'Tiana\\n', 'Tiena\\n', 'Tierney\\n', 'Tiertza\\n', 'Tiff\\n', 'Tiffani\\n', 'Tiffanie\\n', 'Tiffany\\n', 'Tiffi\\n', 'Tiffie\\n', 'Tiffy\\n', 'Tilda\\n', 'Tildi\\n', 'Tildie\\n', 'Tildy\\n', 'Tillie\\n', 'Tilly\\n', 'Tim\\n', 'Timi\\n', 'Timmi\\n', 'Timmie\\n', 'Timmy\\n', 'Timothea\\n', 'Tina\\n', 'Tine\\n', 'Tiphani\\n', 'Tiphanie\\n', 'Tiphany\\n', 'Tish\\n', 'Tisha\\n', 'Tobe\\n', 'Tobey\\n', 'Tobi\\n', 'Tobie\\n', 'Toby\\n', 'Tobye\\n', 'Toinette\\n', 'Toma\\n', 'Tomasina\\n', 'Tomasine\\n', 'Tomi\\n', 'Tomiko\\n', 'Tommi\\n', 'Tommie\\n', 'Tommy\\n', 'Toni\\n', 'Tonia\\n', 'Tonie\\n', 'Tony\\n', 'Tonya\\n', 'Tootsie\\n', 'Torey\\n', 'Tori\\n', 'Torie\\n', 'Torrie\\n', 'Tory\\n', 'Tova\\n', 'Tove\\n', 'Trace\\n', 'Tracee\\n', 'Tracey\\n', 'Traci\\n', 'Tracie\\n', 'Tracy\\n', 'Trenna\\n', 'Tresa\\n', 'Trescha\\n', 'Tressa\\n', 'Tricia\\n', 'Trina\\n', 'Trish\\n', 'Trisha\\n', 'Trista\\n', 'Trix\\n', 'Trixi\\n', 'Trixie\\n', 'Trixy\\n', 'Truda\\n', 'Trude\\n', 'Trudey\\n', 'Trudi\\n', 'Trudie\\n', 'Trudy\\n', 'Trula\\n', 'Tuesday\\n', 'Twila\\n', 'Twyla\\n', 'Tybi\\n', 'Tybie\\n', 'Tyne\\n', 'Ula\\n', 'Ulla\\n', 'Ulrica\\n', 'Ulrika\\n', 'Ulrike\\n', 'Umeko\\n', 'Una\\n', 'Ursa\\n', 'Ursala\\n', 'Ursola\\n', 'Ursula\\n', 'Ursulina\\n', 'Ursuline\\n', 'Uta\\n', 'Val\\n', 'Valaree\\n', 'Valaria\\n', 'Vale\\n', 'Valeda\\n', 'Valencia\\n', 'Valene\\n', 'Valenka\\n', 'Valentia\\n', 'Valentina\\n', 'Valentine\\n', 'Valera\\n', 'Valeria\\n', 'Valerie\\n', 'Valery\\n', 'Valerye\\n', 'Valida\\n', 'Valina\\n', 'Valli\\n', 'Vallie\\n', 'Vally\\n', 'Valma\\n', 'Valry\\n', 'Van\\n', 'Vanda\\n', 'Vanessa\\n', 'Vania\\n', 'Vanna\\n', 'Vanni\\n', 'Vannie\\n', 'Vanny\\n', 'Vanya\\n', 'Veda\\n', 'Velma\\n', 'Velvet\\n', 'Vena\\n', 'Venita\\n', 'Ventura\\n', 'Venus\\n', 'Vera\\n', 'Veradis\\n', 'Vere\\n', 'Verena\\n', 'Verene\\n', 'Veriee\\n', 'Verile\\n', 'Verina\\n', 'Verine\\n', 'Verla\\n', 'Verna\\n', 'Vernice\\n', 'Veronica\\n', 'Veronika\\n', 'Veronike\\n', 'Veronique\\n', 'Vi\\n', 'Vicki\\n', 'Vickie\\n', 'Vicky\\n', 'Victoria\\n', 'Vida\\n', 'Viki\\n', 'Vikki\\n', 'Vikkie\\n', 'Vikky\\n', 'Vilhelmina\\n', 'Vilma\\n', 'Vin\\n', 'Vina\\n', 'Vinita\\n', 'Vinni\\n', 'Vinnie\\n', 'Vinny\\n', 'Viola\\n', 'Violante\\n', 'Viole\\n', 'Violet\\n', 'Violetta\\n', 'Violette\\n', 'Virgie\\n', 'Virgina\\n', 'Virginia\\n', 'Virginie\\n', 'Vita\\n', 'Vitia\\n', 'Vitoria\\n', 'Vittoria\\n', 'Viv\\n', 'Viva\\n', 'Vivi\\n', 'Vivia\\n', 'Vivian\\n', 'Viviana\\n', 'Vivianna\\n', 'Vivianne\\n', 'Vivie\\n', 'Vivien\\n', 'Viviene\\n', 'Vivienne\\n', 'Viviyan\\n', 'Vivyan\\n', 'Vivyanne\\n', 'Vonni\\n', 'Vonnie\\n', 'Vonny\\n', 'Wallie\\n', 'Wallis\\n', 'Wally\\n', 'Waly\\n', 'Wanda\\n', 'Wandie\\n', 'Wandis\\n', 'Waneta\\n', 'Wenda\\n', 'Wendeline\\n', 'Wendi\\n', 'Wendie\\n', 'Wendy\\n', 'Wenona\\n', 'Wenonah\\n', 'Whitney\\n', 'Wileen\\n', 'Wilhelmina\\n', 'Wilhelmine\\n', 'Wilie\\n', 'Willa\\n', 'Willabella\\n', 'Willamina\\n', 'Willetta\\n', 'Willette\\n', 'Willi\\n', 'Willie\\n', 'Willow\\n', 'Willy\\n', 'Willyt\\n', 'Wilma\\n', 'Wilmette\\n', 'Wilona\\n', 'Wilone\\n', 'Wilow\\n', 'Windy\\n', 'Wini\\n', 'Winifred\\n', 'Winna\\n', 'Winnah\\n', 'Winne\\n', 'Winni\\n', 'Winnie\\n', 'Winnifred\\n', 'Winny\\n', 'Winona\\n', 'Winonah\\n', 'Wren\\n', 'Wrennie\\n', 'Wylma\\n', 'Wynn\\n', 'Wynne\\n', 'Wynnie\\n', 'Wynny\\n', 'Xaviera\\n', 'Xena\\n', 'Xenia\\n', 'Xylia\\n', 'Xylina\\n', 'Yalonda\\n', 'Yehudit\\n', 'Yelena\\n', 'Yetta\\n', 'Yettie\\n', 'Yetty\\n', 'Yevette\\n', 'Yoko\\n', 'Yolanda\\n', 'Yolande\\n', 'Yolane\\n', 'Yolanthe\\n', 'Yonina\\n', 'Yoshi\\n', 'Yoshiko\\n', 'Yovonnda\\n', 'Yvette\\n', 'Yvonne\\n', 'Zabrina\\n', 'Zahara\\n', 'Zandra\\n', 'Zaneta\\n', 'Zara\\n', 'Zarah\\n', 'Zaria\\n', 'Zarla\\n', 'Zea\\n', 'Zelda\\n', 'Zelma\\n', 'Zena\\n', 'Zenia\\n', 'Zia\\n', 'Zilvia\\n', 'Zita\\n', 'Zitella\\n', 'Zoe\\n', 'Zola\\n', 'Zonda\\n', 'Zondra\\n', 'Zonnya\\n', 'Zora\\n', 'Zorah\\n', 'Zorana\\n', 'Zorina\\n', 'Zorine\\n', 'Zsa Zsa\\n', 'Zsazsa\\n', 'Zulema\\n', 'Zuzana\\n', 'Mikako\\n', 'Kaari\\n', 'Gita\\n', 'Geeta\\n']\n"
          ]
        }
      ]
    },
    {
      "cell_type": "code",
      "metadata": {
        "colab": {
          "base_uri": "https://localhost:8080/"
        },
        "id": "toeJz1ewgdmF",
        "outputId": "81d516dd-b037-468d-bb9a-6b0ead8fc2f2"
      },
      "source": [
        "# read the lines\n",
        "with open('female.txt', 'r') as f:\n",
        "    lines = f.readlines()\n",
        "\n",
        "names = []\n",
        "max_len = 0\n",
        "for l in lines[6:]:\n",
        "    # delete last line spacing and make all lower case.\n",
        "    curr_name = l[:-1].lower()\n",
        "    if curr_name.isalpha():\n",
        "        names.append(curr_name)\n",
        "        max_len = max(len(names[-1]), max_len)\n",
        "max_len += 1 # consider the 'EOS' (end of signal)\n",
        "print('Maximum Length : ' + str(max_len))"
      ],
      "execution_count": null,
      "outputs": [
        {
          "output_type": "stream",
          "name": "stdout",
          "text": [
            "Maximum Length : 14\n"
          ]
        }
      ]
    },
    {
      "cell_type": "code",
      "metadata": {
        "id": "AclIiMX9f4ta"
      },
      "source": [
        "class NameDataset(Dataset):\n",
        "    def __init__(self, names, max_len):\n",
        "        self.names = names\n",
        "        self.max_len = max_len\n",
        "        self.a_order = ord('a') \n",
        "        self.z_order = ord('z') \n",
        "        self.num_classes = 26 + 1 # a-z + include the end of signal\n",
        "\n",
        "    def __len__(self):\n",
        "        return len(self.names)\n",
        "\n",
        "    def __getitem__(self, idx):\n",
        "        padding_name = [self.num_classes-1 for _ in range(self.max_len)]\n",
        "        curr_name = [ord(n)-self.a_order for n in names[idx]]\n",
        "        padding_name[:len(curr_name)] = curr_name\n",
        "        \n",
        "        # Slide the input to make a output\n",
        "        sample = dict()\n",
        "        sample['input'] = torch.LongTensor(padding_name[:-1]) # h y e m i n  -1 -1 -1\n",
        "        sample['output'] = torch.LongTensor(padding_name[1:]) # y e m i n -1 -1 -1 -1\n",
        "        sample['length'] = len(names[idx])\n",
        "        sample['original'] = names[idx]\n",
        "\n",
        "        return sample"
      ],
      "execution_count": null,
      "outputs": []
    },
    {
      "cell_type": "code",
      "metadata": {
        "id": "6eM0TZVpiuCf"
      },
      "source": [
        "batch_size = 64\n",
        "dataset = NameDataset(names, max_len)\n",
        "dataloader = DataLoader(dataset, batch_size=64, shuffle=True)"
      ],
      "execution_count": null,
      "outputs": []
    },
    {
      "cell_type": "code",
      "metadata": {
        "colab": {
          "base_uri": "https://localhost:8080/"
        },
        "id": "6yQkTkHMk9m1",
        "outputId": "edb89226-e418-47c2-d939-55b579dc18c2"
      },
      "source": [
        "sample = next(iter(dataloader))\n",
        "print(sample['input'][0])\n",
        "print(sample['output'][0])\n",
        "print(sample['length'][0])\n",
        "print(sample['original'][0])\n",
        "print(sample['input'].shape, sample['output'].shape)"
      ],
      "execution_count": null,
      "outputs": [
        {
          "output_type": "stream",
          "name": "stdout",
          "text": [
            "tensor([ 4, 12, 12,  0, 26, 26, 26, 26, 26, 26, 26, 26, 26])\n",
            "tensor([12, 12,  0, 26, 26, 26, 26, 26, 26, 26, 26, 26, 26])\n",
            "tensor(4)\n",
            "emma\n",
            "torch.Size([64, 13]) torch.Size([64, 13])\n"
          ]
        }
      ]
    },
    {
      "cell_type": "code",
      "metadata": {
        "colab": {
          "base_uri": "https://localhost:8080/"
        },
        "id": "aw0rHh8hlJ4z",
        "outputId": "695c6fff-cf8d-4c19-a7c8-30ec8b49f2c6"
      },
      "source": [
        "# This could be useful with variable lengths\n",
        "total_lengths = sample['length']\n",
        "sort_length, sort_idx = torch.sort(total_lengths, descending=True)\n",
        "sort_input = sample['input'][sort_idx]\n",
        "sort_output = sample['output'][sort_idx]\n",
        "print(sort_length)\n",
        "print(sort_input.shape)"
      ],
      "execution_count": null,
      "outputs": [
        {
          "output_type": "stream",
          "name": "stdout",
          "text": [
            "tensor([11, 10,  9,  9,  9,  9,  9,  8,  8,  8,  8,  8,  8,  8,  8,  8,  7,  7,\n",
            "         7,  7,  7,  7,  7,  7,  7,  7,  7,  6,  6,  6,  6,  6,  6,  6,  6,  6,\n",
            "         6,  6,  6,  6,  6,  5,  5,  5,  5,  5,  5,  5,  5,  5,  5,  4,  4,  4,\n",
            "         4,  4,  4,  4,  4,  4,  4,  4,  4,  3])\n",
            "torch.Size([64, 13])\n"
          ]
        }
      ]
    },
    {
      "cell_type": "code",
      "metadata": {
        "id": "j_i2kCPlnXO7"
      },
      "source": [
        "class RNNmodel(nn.Module):\n",
        "    def __init__(self, lstm_dim=256, num_classes=dataset.num_classes, max_len=max_len):\n",
        "        super(RNNmodel, self).__init__()\n",
        "        self.lstm_dim = lstm_dim\n",
        "        self.num_classes = num_classes\n",
        "        self.max_len = max_len\n",
        "        self.char_embedding = nn.Embedding(num_embeddings=num_classes, \n",
        "                                           embedding_dim=lstm_dim)\n",
        "        self.lstm = nn.LSTM(input_size=lstm_dim, \n",
        "                            hidden_size=lstm_dim,\n",
        "                            num_layers=1, \n",
        "                            batch_first=True,\n",
        "                            )\n",
        "        \n",
        "        self.out_linear = nn.Linear(lstm_dim, num_classes)\n",
        "\n",
        "    def forward(self, sort_input, sort_output, sort_length):\n",
        "        ## originally, recommended to use torch.nn.utils.rnn.pack_padded_sequence,when we have variable lengths\n",
        "        ## but in this case, I just neglected it because beginners can be more confused with this\n",
        "        lstm_input = self.char_embedding(sort_input)\n",
        "        lstm_out, (h, c) = self.lstm(lstm_input)\n",
        "        out = self.out_linear(lstm_out)\n",
        "        \n",
        "        return out\n",
        "\n",
        "    def test(self, start_char):\n",
        "        generated_name = list()\n",
        "        generated_name.append(start_char)\n",
        "\n",
        "        start_order = torch.LongTensor([ord(start_char)]).to(device) - ord('a')\n",
        "        start_order = start_order.reshape(1, 1)\n",
        "        cnt = 0\n",
        "\n",
        "        while cnt <= self.max_len:\n",
        "            curr_embed = self.char_embedding(start_order)\n",
        "            if cnt == 0:\n",
        "                lstm_out, (h, c) = self.lstm(curr_embed)\n",
        "            else:\n",
        "                lstm_out, (h, c) = self.lstm(curr_embed, (h, c))\n",
        "            out = self.out_linear(lstm_out)\n",
        "\n",
        "            sample_next = torch.distributions.Categorical(logits = out[0, 0, :]).sample().item()\n",
        "            if sample_next == 26:\n",
        "                break\n",
        "            else:\n",
        "                generated_name.append(chr(ord('a')+sample_next))\n",
        "                sample_next = torch.LongTensor([sample_next]).to(device)\n",
        "                start_order = sample_next.reshape(1, 1)\n",
        "\n",
        "                cnt += 1\n",
        "\n",
        "        return ''.join(generated_name)\n"
      ],
      "execution_count": null,
      "outputs": []
    },
    {
      "cell_type": "code",
      "metadata": {
        "id": "XPuT8GV8pJLX"
      },
      "source": [
        "model = RNNmodel()\n",
        "model(sample['input'], sample['output'], sample['length'])\n",
        "model = model.to(device)\n",
        "optimizer = torch.optim.Adam(model.parameters(), lr=1e-4)"
      ],
      "execution_count": null,
      "outputs": []
    },
    {
      "cell_type": "code",
      "metadata": {
        "id": "0Q-ep_yepepC"
      },
      "source": [
        "def train(model, optimizer, sample):\n",
        "    optimizer.zero_grad()\n",
        "    criteria = nn.CrossEntropyLoss()\n",
        "\n",
        "    total_lengths = sample['length']\n",
        "    sort_length, sort_idx = torch.sort(total_lengths, descending=True)\n",
        "\n",
        "    sort_input = sample['input'][sort_idx].to(device)\n",
        "    sort_output = sample['output'][sort_idx].to(device)\n",
        "    sort_length = sort_length.to(device)\n",
        "\n",
        "    pred = model(sort_input, sort_output, sort_length) # B T C\n",
        "    B, T, C = pred.shape\n",
        "    \n",
        "    curr_loss = criteria(pred.reshape(B*T, C), sort_output.reshape(B*T))\n",
        "\n",
        "    curr_loss.backward()\n",
        "    optimizer.step()\n",
        "\n",
        "    return curr_loss.item()"
      ],
      "execution_count": null,
      "outputs": []
    },
    {
      "cell_type": "code",
      "metadata": {
        "colab": {
          "base_uri": "https://localhost:8080/",
          "height": 1000,
          "referenced_widgets": [
            "88d0a9493b614999bf5f37b38d5aaad7",
            "a29519c18a1c48fb98bcfb1e077e14ba",
            "15db988e2b884e0892561437302f4837",
            "0e4992c1c9684ea8b0573f725ff720a4",
            "0045ec0b3f6d4d0ab107c612599189a9",
            "480885580a3a4185b6f963bfc1641d50",
            "a534e0bc5ce9476f91a1803fb11c1064",
            "9485b6fc8e494870a2720068a24ce3f9",
            "8d93936bb7dd46d9b9cfcaefe72e84cb",
            "48790cf67fd340a08ae283c348cbbde0",
            "1a6a0f315f85479798d056c51ccb9218"
          ]
        },
        "id": "UaMHeot3wzm_",
        "outputId": "28d750fa-cdc9-4a95-9901-47f7326484dc"
      },
      "source": [
        "max_epoch = 200\n",
        "for epoch in tqdm(range(max_epoch)):\n",
        "    total_loss = 0.0\n",
        "    for sample in dataloader:\n",
        "        curr_loss = train(model, optimizer, sample)\n",
        "        total_loss += curr_loss / len(dataloader)\n",
        "\n",
        "    start_char = chr(np.random.randint(ord('a'), ord('z')))\n",
        "    print('[EPOCH {}] TRAIN LOSS: {}, SAMPLED NAME: {}'.format(epoch,\n",
        "                                                               total_loss, \n",
        "                                                               model.test(start_char)))\n",
        "\n"
      ],
      "execution_count": null,
      "outputs": [
        {
          "output_type": "display_data",
          "data": {
            "text/plain": [
              "  0%|          | 0/200 [00:00<?, ?it/s]"
            ],
            "application/vnd.jupyter.widget-view+json": {
              "version_major": 2,
              "version_minor": 0,
              "model_id": "88d0a9493b614999bf5f37b38d5aaad7"
            }
          },
          "metadata": {}
        },
        {
          "output_type": "stream",
          "name": "stdout",
          "text": [
            "[EPOCH 0] TRAIN LOSS: 1.9628541209758863, SAMPLED NAME: gkkurulmytplzi\n",
            "[EPOCH 1] TRAIN LOSS: 1.2664598715610995, SAMPLED NAME: vzjbuqzgweelfs\n",
            "[EPOCH 2] TRAIN LOSS: 1.1441614887653249, SAMPLED NAME: clrakn\n",
            "[EPOCH 3] TRAIN LOSS: 1.0811922068779278, SAMPLED NAME: quwpbmeru\n",
            "[EPOCH 4] TRAIN LOSS: 1.0372098676669295, SAMPLED NAME: ltghita\n",
            "[EPOCH 5] TRAIN LOSS: 1.003789742023517, SAMPLED NAME: folorie\n",
            "[EPOCH 6] TRAIN LOSS: 0.9764890861816892, SAMPLED NAME: f\n",
            "[EPOCH 7] TRAIN LOSS: 0.9535979674412656, SAMPLED NAME: celle\n",
            "[EPOCH 8] TRAIN LOSS: 0.9346155401987908, SAMPLED NAME: omili\n",
            "[EPOCH 9] TRAIN LOSS: 0.918441164187896, SAMPLED NAME: uuty\n",
            "[EPOCH 10] TRAIN LOSS: 0.9040813468969786, SAMPLED NAME: carline\n",
            "[EPOCH 11] TRAIN LOSS: 0.8914285661318365, SAMPLED NAME: wv\n",
            "[EPOCH 12] TRAIN LOSS: 0.8802611086613092, SAMPLED NAME: prellanine\n",
            "[EPOCH 13] TRAIN LOSS: 0.8704198018098487, SAMPLED NAME: carmya\n",
            "[EPOCH 14] TRAIN LOSS: 0.8605944965130242, SAMPLED NAME: eclane\n",
            "[EPOCH 15] TRAIN LOSS: 0.8519459687746488, SAMPLED NAME: nikk\n",
            "[EPOCH 16] TRAIN LOSS: 0.8438324851867481, SAMPLED NAME: chervetta\n",
            "[EPOCH 17] TRAIN LOSS: 0.8363699729625994, SAMPLED NAME: barbrine\n",
            "[EPOCH 18] TRAIN LOSS: 0.8288303758853521, SAMPLED NAME: aletta\n",
            "[EPOCH 19] TRAIN LOSS: 0.8223214661463711, SAMPLED NAME: perriesna\n",
            "[EPOCH 20] TRAIN LOSS: 0.8150914662923567, SAMPLED NAME: oli\n",
            "[EPOCH 21] TRAIN LOSS: 0.8090760738421712, SAMPLED NAME: dadela\n",
            "[EPOCH 22] TRAIN LOSS: 0.8025084818020843, SAMPLED NAME: wseline\n",
            "[EPOCH 23] TRAIN LOSS: 0.7966395914554596, SAMPLED NAME: nreta\n",
            "[EPOCH 24] TRAIN LOSS: 0.7913913260667751, SAMPLED NAME: ludlie\n",
            "[EPOCH 25] TRAIN LOSS: 0.7852460207083286, SAMPLED NAME: leta\n",
            "[EPOCH 26] TRAIN LOSS: 0.7797757005080199, SAMPLED NAME: danette\n",
            "[EPOCH 27] TRAIN LOSS: 0.7746626681242235, SAMPLED NAME: feobana\n",
            "[EPOCH 28] TRAIN LOSS: 0.7691683310728807, SAMPLED NAME: xarlie\n",
            "[EPOCH 29] TRAIN LOSS: 0.7646793287533983, SAMPLED NAME: norandra\n",
            "[EPOCH 30] TRAIN LOSS: 0.7598558748379731, SAMPLED NAME: omarie\n",
            "[EPOCH 31] TRAIN LOSS: 0.7550618602679324, SAMPLED NAME: mariadna\n",
            "[EPOCH 32] TRAIN LOSS: 0.7506079093003887, SAMPLED NAME: dorgy\n",
            "[EPOCH 33] TRAIN LOSS: 0.7459545074365078, SAMPLED NAME: jucinn\n",
            "[EPOCH 34] TRAIN LOSS: 0.7413361156598116, SAMPLED NAME: unally\n",
            "[EPOCH 35] TRAIN LOSS: 0.7373966215512691, SAMPLED NAME: illeva\n",
            "[EPOCH 36] TRAIN LOSS: 0.7331234805094891, SAMPLED NAME: ali\n",
            "[EPOCH 37] TRAIN LOSS: 0.7294306441759453, SAMPLED NAME: vvinnta\n",
            "[EPOCH 38] TRAIN LOSS: 0.7251600500864861, SAMPLED NAME: rathella\n",
            "[EPOCH 39] TRAIN LOSS: 0.7213615224911615, SAMPLED NAME: erlynnd\n",
            "[EPOCH 40] TRAIN LOSS: 0.7177624434996874, SAMPLED NAME: wqudine\n",
            "[EPOCH 41] TRAIN LOSS: 0.7139526261733129, SAMPLED NAME: roanna\n",
            "[EPOCH 42] TRAIN LOSS: 0.7100956348272472, SAMPLED NAME: troseva\n",
            "[EPOCH 43] TRAIN LOSS: 0.707225170655128, SAMPLED NAME: dorelle\n",
            "[EPOCH 44] TRAIN LOSS: 0.703599804486984, SAMPLED NAME: eletasa\n",
            "[EPOCH 45] TRAIN LOSS: 0.7004128961991039, SAMPLED NAME: candis\n",
            "[EPOCH 46] TRAIN LOSS: 0.6973359898114815, SAMPLED NAME: kyntha\n",
            "[EPOCH 47] TRAIN LOSS: 0.6938434900381628, SAMPLED NAME: adelina\n",
            "[EPOCH 48] TRAIN LOSS: 0.6907417697784228, SAMPLED NAME: soze\n",
            "[EPOCH 49] TRAIN LOSS: 0.6874792048564324, SAMPLED NAME: winol\n",
            "[EPOCH 50] TRAIN LOSS: 0.6848645737537973, SAMPLED NAME: kirssy\n",
            "[EPOCH 51] TRAIN LOSS: 0.681675306497476, SAMPLED NAME: gucole\n",
            "[EPOCH 52] TRAIN LOSS: 0.6787048792227721, SAMPLED NAME: tamaina\n",
            "[EPOCH 53] TRAIN LOSS: 0.6760988938502777, SAMPLED NAME: kyssa\n",
            "[EPOCH 54] TRAIN LOSS: 0.6731845125173911, SAMPLED NAME: bodgette\n",
            "[EPOCH 55] TRAIN LOSS: 0.6704401962268047, SAMPLED NAME: hilida\n",
            "[EPOCH 56] TRAIN LOSS: 0.6675762022152926, SAMPLED NAME: bawzia\n",
            "[EPOCH 57] TRAIN LOSS: 0.6653666641467656, SAMPLED NAME: frenette\n",
            "[EPOCH 58] TRAIN LOSS: 0.6630306771168343, SAMPLED NAME: leani\n",
            "[EPOCH 59] TRAIN LOSS: 0.6600595857852546, SAMPLED NAME: trunetta\n",
            "[EPOCH 60] TRAIN LOSS: 0.6578039267124274, SAMPLED NAME: nanda\n",
            "[EPOCH 61] TRAIN LOSS: 0.6551901300748191, SAMPLED NAME: unitta\n",
            "[EPOCH 62] TRAIN LOSS: 0.6528795720675054, SAMPLED NAME: ionniferh\n",
            "[EPOCH 63] TRAIN LOSS: 0.6506657562194726, SAMPLED NAME: pamoll\n",
            "[EPOCH 64] TRAIN LOSS: 0.6480037547074832, SAMPLED NAME: lyse\n",
            "[EPOCH 65] TRAIN LOSS: 0.6457144174820334, SAMPLED NAME: halli\n",
            "[EPOCH 66] TRAIN LOSS: 0.6435611813496321, SAMPLED NAME: walie\n",
            "[EPOCH 67] TRAIN LOSS: 0.6413842042287192, SAMPLED NAME: inoanhe\n",
            "[EPOCH 68] TRAIN LOSS: 0.6392291516829759, SAMPLED NAME: innelina\n",
            "[EPOCH 69] TRAIN LOSS: 0.6373045077690712, SAMPLED NAME: marysa\n",
            "[EPOCH 70] TRAIN LOSS: 0.6352323301327535, SAMPLED NAME: quitfe\n",
            "[EPOCH 71] TRAIN LOSS: 0.632666878975355, SAMPLED NAME: oralia\n",
            "[EPOCH 72] TRAIN LOSS: 0.631004445827924, SAMPLED NAME: desidah\n",
            "[EPOCH 73] TRAIN LOSS: 0.6289531985918682, SAMPLED NAME: wiloh\n",
            "[EPOCH 74] TRAIN LOSS: 0.6270571725490764, SAMPLED NAME: fren\n",
            "[EPOCH 75] TRAIN LOSS: 0.6249020787385793, SAMPLED NAME: q\n",
            "[EPOCH 76] TRAIN LOSS: 0.62281445815013, SAMPLED NAME: torie\n",
            "[EPOCH 77] TRAIN LOSS: 0.6214712667159548, SAMPLED NAME: xernie\n",
            "[EPOCH 78] TRAIN LOSS: 0.6193029651275048, SAMPLED NAME: almaria\n",
            "[EPOCH 79] TRAIN LOSS: 0.6177459351527385, SAMPLED NAME: uneita\n",
            "[EPOCH 80] TRAIN LOSS: 0.615740546049216, SAMPLED NAME: sandie\n",
            "[EPOCH 81] TRAIN LOSS: 0.6137958810879632, SAMPLED NAME: marylissa\n",
            "[EPOCH 82] TRAIN LOSS: 0.6123115198734481, SAMPLED NAME: rokoli\n",
            "[EPOCH 83] TRAIN LOSS: 0.6104913499110782, SAMPLED NAME: clemsie\n",
            "[EPOCH 84] TRAIN LOSS: 0.608302620741037, SAMPLED NAME: quenida\n",
            "[EPOCH 85] TRAIN LOSS: 0.6068993806838988, SAMPLED NAME: grey\n",
            "[EPOCH 86] TRAIN LOSS: 0.6051815885763903, SAMPLED NAME: quinnine\n",
            "[EPOCH 87] TRAIN LOSS: 0.6036793650724949, SAMPLED NAME: gilda\n",
            "[EPOCH 88] TRAIN LOSS: 0.6020398606092503, SAMPLED NAME: lilla\n",
            "[EPOCH 89] TRAIN LOSS: 0.6003689842346389, SAMPLED NAME: nicia\n",
            "[EPOCH 90] TRAIN LOSS: 0.5986275963294201, SAMPLED NAME: ila\n",
            "[EPOCH 91] TRAIN LOSS: 0.5972231786984661, SAMPLED NAME: phegia\n",
            "[EPOCH 92] TRAIN LOSS: 0.595813743579082, SAMPLED NAME: fara\n",
            "[EPOCH 93] TRAIN LOSS: 0.5941566481040075, SAMPLED NAME: maryl\n",
            "[EPOCH 94] TRAIN LOSS: 0.5925126381409471, SAMPLED NAME: ada\n",
            "[EPOCH 95] TRAIN LOSS: 0.5914791730734017, SAMPLED NAME: pernika\n",
            "[EPOCH 96] TRAIN LOSS: 0.5897788214377867, SAMPLED NAME: tammarea\n",
            "[EPOCH 97] TRAIN LOSS: 0.5884155623423747, SAMPLED NAME: wenice\n",
            "[EPOCH 98] TRAIN LOSS: 0.5869420766830447, SAMPLED NAME: davry\n",
            "[EPOCH 99] TRAIN LOSS: 0.5854136462395009, SAMPLED NAME: letcey\n",
            "[EPOCH 100] TRAIN LOSS: 0.5843293193059091, SAMPLED NAME: joice\n",
            "[EPOCH 101] TRAIN LOSS: 0.5827251917276629, SAMPLED NAME: elvina\n",
            "[EPOCH 102] TRAIN LOSS: 0.5815279881159467, SAMPLED NAME: claudina\n",
            "[EPOCH 103] TRAIN LOSS: 0.5803088347117105, SAMPLED NAME: shella\n",
            "[EPOCH 104] TRAIN LOSS: 0.5789367617704935, SAMPLED NAME: quentia\n",
            "[EPOCH 105] TRAIN LOSS: 0.5776203503975503, SAMPLED NAME: trixia\n",
            "[EPOCH 106] TRAIN LOSS: 0.576129457889459, SAMPLED NAME: meda\n",
            "[EPOCH 107] TRAIN LOSS: 0.5747147462306879, SAMPLED NAME: nanifee\n",
            "[EPOCH 108] TRAIN LOSS: 0.5738367690489841, SAMPLED NAME: lora\n",
            "[EPOCH 109] TRAIN LOSS: 0.5727363473329788, SAMPLED NAME: janenn\n",
            "[EPOCH 110] TRAIN LOSS: 0.5711565476197461, SAMPLED NAME: father\n",
            "[EPOCH 111] TRAIN LOSS: 0.5698946951291503, SAMPLED NAME: handa\n",
            "[EPOCH 112] TRAIN LOSS: 0.5688206729216454, SAMPLED NAME: yothe\n",
            "[EPOCH 113] TRAIN LOSS: 0.5677415499320398, SAMPLED NAME: helmie\n",
            "[EPOCH 114] TRAIN LOSS: 0.5667397632048677, SAMPLED NAME: prandis\n",
            "[EPOCH 115] TRAIN LOSS: 0.5652527641027404, SAMPLED NAME: hedley\n",
            "[EPOCH 116] TRAIN LOSS: 0.5641160454505532, SAMPLED NAME: idalia\n",
            "[EPOCH 117] TRAIN LOSS: 0.5631354863827045, SAMPLED NAME: xy\n",
            "[EPOCH 118] TRAIN LOSS: 0.5620410564618232, SAMPLED NAME: dottie\n",
            "[EPOCH 119] TRAIN LOSS: 0.5607661757713712, SAMPLED NAME: tiffahann\n",
            "[EPOCH 120] TRAIN LOSS: 0.5597686454271658, SAMPLED NAME: rozelle\n",
            "[EPOCH 121] TRAIN LOSS: 0.5587839514781269, SAMPLED NAME: isely\n",
            "[EPOCH 122] TRAIN LOSS: 0.5577209301483936, SAMPLED NAME: jlorie\n",
            "[EPOCH 123] TRAIN LOSS: 0.5568160070822789, SAMPLED NAME: dulce\n",
            "[EPOCH 124] TRAIN LOSS: 0.5554905717189496, SAMPLED NAME: heodeo\n",
            "[EPOCH 125] TRAIN LOSS: 0.5546080515934873, SAMPLED NAME: willabel\n",
            "[EPOCH 126] TRAIN LOSS: 0.5534148483704295, SAMPLED NAME: willy\n",
            "[EPOCH 127] TRAIN LOSS: 0.5526442520129375, SAMPLED NAME: judice\n",
            "[EPOCH 128] TRAIN LOSS: 0.5513286911524258, SAMPLED NAME: nicki\n",
            "[EPOCH 129] TRAIN LOSS: 0.5505283566621634, SAMPLED NAME: uanna\n",
            "[EPOCH 130] TRAIN LOSS: 0.5494135709909294, SAMPLED NAME: bliann\n",
            "[EPOCH 131] TRAIN LOSS: 0.548452206147023, SAMPLED NAME: blanche\n",
            "[EPOCH 132] TRAIN LOSS: 0.5475346323771354, SAMPLED NAME: ordela\n",
            "[EPOCH 133] TRAIN LOSS: 0.5469415187835694, SAMPLED NAME: winee\n",
            "[EPOCH 134] TRAIN LOSS: 0.5456685905273143, SAMPLED NAME: odolina\n",
            "[EPOCH 135] TRAIN LOSS: 0.5447593858608832, SAMPLED NAME: valrrix\n",
            "[EPOCH 136] TRAIN LOSS: 0.544170998609983, SAMPLED NAME: redna\n",
            "[EPOCH 137] TRAIN LOSS: 0.5430576258744949, SAMPLED NAME: julety\n",
            "[EPOCH 138] TRAIN LOSS: 0.5420156136537212, SAMPLED NAME: ababa\n",
            "[EPOCH 139] TRAIN LOSS: 0.5413887317364032, SAMPLED NAME: ester\n",
            "[EPOCH 140] TRAIN LOSS: 0.5404837383673741, SAMPLED NAME: georgy\n",
            "[EPOCH 141] TRAIN LOSS: 0.5394972494015325, SAMPLED NAME: hailey\n",
            "[EPOCH 142] TRAIN LOSS: 0.5387295893369577, SAMPLED NAME: barbey\n",
            "[EPOCH 143] TRAIN LOSS: 0.5377552490203807, SAMPLED NAME: fasika\n",
            "[EPOCH 144] TRAIN LOSS: 0.5369414205734547, SAMPLED NAME: vita\n",
            "[EPOCH 145] TRAIN LOSS: 0.536336635931944, SAMPLED NAME: felenda\n",
            "[EPOCH 146] TRAIN LOSS: 0.5355644806837424, SAMPLED NAME: quenille\n",
            "[EPOCH 147] TRAIN LOSS: 0.5344652502964707, SAMPLED NAME: veronica\n",
            "[EPOCH 148] TRAIN LOSS: 0.533719785702534, SAMPLED NAME: usty\n",
            "[EPOCH 149] TRAIN LOSS: 0.5328636994728676, SAMPLED NAME: xylin\n",
            "[EPOCH 150] TRAIN LOSS: 0.532230745523404, SAMPLED NAME: wendy\n",
            "[EPOCH 151] TRAIN LOSS: 0.5311463498152219, SAMPLED NAME: karlee\n",
            "[EPOCH 152] TRAIN LOSS: 0.5303128835482476, SAMPLED NAME: fanya\n",
            "[EPOCH 153] TRAIN LOSS: 0.5297094957950788, SAMPLED NAME: rubitha\n",
            "[EPOCH 154] TRAIN LOSS: 0.5292601046653892, SAMPLED NAME: susy\n",
            "[EPOCH 155] TRAIN LOSS: 0.5285087266029457, SAMPLED NAME: gwen\n",
            "[EPOCH 156] TRAIN LOSS: 0.5274641529107703, SAMPLED NAME: lorri\n",
            "[EPOCH 157] TRAIN LOSS: 0.5270798171942049, SAMPLED NAME: ingeborg\n",
            "[EPOCH 158] TRAIN LOSS: 0.525879585590118, SAMPLED NAME: ucta\n",
            "[EPOCH 159] TRAIN LOSS: 0.5254645764063567, SAMPLED NAME: shabal\n",
            "[EPOCH 160] TRAIN LOSS: 0.5250033839390826, SAMPLED NAME: ida\n",
            "[EPOCH 161] TRAIN LOSS: 0.5239946093314733, SAMPLED NAME: fawna\n",
            "[EPOCH 162] TRAIN LOSS: 0.5231328556934992, SAMPLED NAME: urana\n",
            "[EPOCH 163] TRAIN LOSS: 0.5223293262414442, SAMPLED NAME: roseline\n",
            "[EPOCH 164] TRAIN LOSS: 0.5220790551258969, SAMPLED NAME: wendi\n",
            "[EPOCH 165] TRAIN LOSS: 0.5210639165762143, SAMPLED NAME: valma\n",
            "[EPOCH 166] TRAIN LOSS: 0.5207044978936515, SAMPLED NAME: teg\n",
            "[EPOCH 167] TRAIN LOSS: 0.5200420984855064, SAMPLED NAME: uli\n",
            "[EPOCH 168] TRAIN LOSS: 0.5192686495108484, SAMPLED NAME: ever\n",
            "[EPOCH 169] TRAIN LOSS: 0.5186223746874393, SAMPLED NAME: jody\n",
            "[EPOCH 170] TRAIN LOSS: 0.517968408954449, SAMPLED NAME: gretsy\n",
            "[EPOCH 171] TRAIN LOSS: 0.5172823824179481, SAMPLED NAME: queen\n",
            "[EPOCH 172] TRAIN LOSS: 0.5165855105106645, SAMPLED NAME: shelwaryn\n",
            "[EPOCH 173] TRAIN LOSS: 0.5160048447358303, SAMPLED NAME: odelia\n",
            "[EPOCH 174] TRAIN LOSS: 0.5153752275002308, SAMPLED NAME: yshela\n",
            "[EPOCH 175] TRAIN LOSS: 0.5149927532825714, SAMPLED NAME: yolanda\n",
            "[EPOCH 176] TRAIN LOSS: 0.5141447484493257, SAMPLED NAME: ropette\n",
            "[EPOCH 177] TRAIN LOSS: 0.5137405093663777, SAMPLED NAME: tobee\n",
            "[EPOCH 178] TRAIN LOSS: 0.5130117462995726, SAMPLED NAME: ivy\n",
            "[EPOCH 179] TRAIN LOSS: 0.5126142433056465, SAMPLED NAME: querida\n",
            "[EPOCH 180] TRAIN LOSS: 0.5118819073988841, SAMPLED NAME: pam\n",
            "[EPOCH 181] TRAIN LOSS: 0.5112368754851512, SAMPLED NAME: kanna\n",
            "[EPOCH 182] TRAIN LOSS: 0.510900284617375, SAMPLED NAME: shandie\n",
            "[EPOCH 183] TRAIN LOSS: 0.5102187471512035, SAMPLED NAME: ienette\n",
            "[EPOCH 184] TRAIN LOSS: 0.5095490167538326, SAMPLED NAME: sarlen\n",
            "[EPOCH 185] TRAIN LOSS: 0.5088965415190428, SAMPLED NAME: bren\n",
            "[EPOCH 186] TRAIN LOSS: 0.5087719895900825, SAMPLED NAME: orelea\n",
            "[EPOCH 187] TRAIN LOSS: 0.5082996716866125, SAMPLED NAME: rafaelia\n",
            "[EPOCH 188] TRAIN LOSS: 0.5076283644407223, SAMPLED NAME: sibylla\n",
            "[EPOCH 189] TRAIN LOSS: 0.5065418244936527, SAMPLED NAME: tora\n",
            "[EPOCH 190] TRAIN LOSS: 0.5063752914086366, SAMPLED NAME: emylee\n",
            "[EPOCH 191] TRAIN LOSS: 0.5057699431975684, SAMPLED NAME: harroline\n",
            "[EPOCH 192] TRAIN LOSS: 0.5056639030957835, SAMPLED NAME: xela\n",
            "[EPOCH 193] TRAIN LOSS: 0.5048457395571928, SAMPLED NAME: wineva\n",
            "[EPOCH 194] TRAIN LOSS: 0.5043237174932773, SAMPLED NAME: farrand\n",
            "[EPOCH 195] TRAIN LOSS: 0.5037823032874327, SAMPLED NAME: engrace\n",
            "[EPOCH 196] TRAIN LOSS: 0.5032464449222273, SAMPLED NAME: robbin\n",
            "[EPOCH 197] TRAIN LOSS: 0.5026443772591077, SAMPLED NAME: celie\n",
            "[EPOCH 198] TRAIN LOSS: 0.5022606799999871, SAMPLED NAME: vivy\n",
            "[EPOCH 199] TRAIN LOSS: 0.5019921572544634, SAMPLED NAME: amelie\n"
          ]
        }
      ]
    },
    {
      "cell_type": "code",
      "metadata": {
        "id": "4iXvoXk-w2Gd"
      },
      "source": [],
      "execution_count": null,
      "outputs": []
    }
  ]
}