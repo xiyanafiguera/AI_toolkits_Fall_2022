{
  "nbformat": 4,
  "nbformat_minor": 0,
  "metadata": {
    "colab": {
      "provenance": []
    },
    "kernelspec": {
      "name": "python3",
      "display_name": "Python 3"
    },
    "accelerator": "GPU",
    "widgets": {
      "application/vnd.jupyter.widget-state+json": {
        "f671a163490e4d3cbb6da1bf63e4a762": {
          "model_module": "@jupyter-widgets/controls",
          "model_name": "HBoxModel",
          "model_module_version": "1.5.0",
          "state": {
            "_dom_classes": [],
            "_model_module": "@jupyter-widgets/controls",
            "_model_module_version": "1.5.0",
            "_model_name": "HBoxModel",
            "_view_count": null,
            "_view_module": "@jupyter-widgets/controls",
            "_view_module_version": "1.5.0",
            "_view_name": "HBoxView",
            "box_style": "",
            "children": [
              "IPY_MODEL_2bff845b17be4616bb78acf50fde7eaa",
              "IPY_MODEL_80c818a8f05f4255acc48ae1cd5b79f8",
              "IPY_MODEL_574edeadbf4e4428b5eddcad06561b9d"
            ],
            "layout": "IPY_MODEL_2636e5db7fb8431c91f01dac547959da"
          }
        },
        "2bff845b17be4616bb78acf50fde7eaa": {
          "model_module": "@jupyter-widgets/controls",
          "model_name": "HTMLModel",
          "model_module_version": "1.5.0",
          "state": {
            "_dom_classes": [],
            "_model_module": "@jupyter-widgets/controls",
            "_model_module_version": "1.5.0",
            "_model_name": "HTMLModel",
            "_view_count": null,
            "_view_module": "@jupyter-widgets/controls",
            "_view_module_version": "1.5.0",
            "_view_name": "HTMLView",
            "description": "",
            "description_tooltip": null,
            "layout": "IPY_MODEL_24026213362c4d4095334f841ad56645",
            "placeholder": "​",
            "style": "IPY_MODEL_c846602586c640f09cb2b561deebf99c",
            "value": ""
          }
        },
        "80c818a8f05f4255acc48ae1cd5b79f8": {
          "model_module": "@jupyter-widgets/controls",
          "model_name": "FloatProgressModel",
          "model_module_version": "1.5.0",
          "state": {
            "_dom_classes": [],
            "_model_module": "@jupyter-widgets/controls",
            "_model_module_version": "1.5.0",
            "_model_name": "FloatProgressModel",
            "_view_count": null,
            "_view_module": "@jupyter-widgets/controls",
            "_view_module_version": "1.5.0",
            "_view_name": "ProgressView",
            "bar_style": "success",
            "description": "",
            "description_tooltip": null,
            "layout": "IPY_MODEL_0ca5ac27a058487e964f18b877c37835",
            "max": 1,
            "min": 0,
            "orientation": "horizontal",
            "style": "IPY_MODEL_f6e2f221015548b7be6820b154abc5e7",
            "value": 1
          }
        },
        "574edeadbf4e4428b5eddcad06561b9d": {
          "model_module": "@jupyter-widgets/controls",
          "model_name": "HTMLModel",
          "model_module_version": "1.5.0",
          "state": {
            "_dom_classes": [],
            "_model_module": "@jupyter-widgets/controls",
            "_model_module_version": "1.5.0",
            "_model_name": "HTMLModel",
            "_view_count": null,
            "_view_module": "@jupyter-widgets/controls",
            "_view_module_version": "1.5.0",
            "_view_name": "HTMLView",
            "description": "",
            "description_tooltip": null,
            "layout": "IPY_MODEL_d8cfeabca23d4ad59a998bb7bd8701f1",
            "placeholder": "​",
            "style": "IPY_MODEL_bdcd0e86fddf4554aaed6943b0a1372a",
            "value": " 20000/? [00:02&lt;00:00, 7833.43it/s]"
          }
        },
        "2636e5db7fb8431c91f01dac547959da": {
          "model_module": "@jupyter-widgets/base",
          "model_name": "LayoutModel",
          "model_module_version": "1.2.0",
          "state": {
            "_model_module": "@jupyter-widgets/base",
            "_model_module_version": "1.2.0",
            "_model_name": "LayoutModel",
            "_view_count": null,
            "_view_module": "@jupyter-widgets/base",
            "_view_module_version": "1.2.0",
            "_view_name": "LayoutView",
            "align_content": null,
            "align_items": null,
            "align_self": null,
            "border": null,
            "bottom": null,
            "display": null,
            "flex": null,
            "flex_flow": null,
            "grid_area": null,
            "grid_auto_columns": null,
            "grid_auto_flow": null,
            "grid_auto_rows": null,
            "grid_column": null,
            "grid_gap": null,
            "grid_row": null,
            "grid_template_areas": null,
            "grid_template_columns": null,
            "grid_template_rows": null,
            "height": null,
            "justify_content": null,
            "justify_items": null,
            "left": null,
            "margin": null,
            "max_height": null,
            "max_width": null,
            "min_height": null,
            "min_width": null,
            "object_fit": null,
            "object_position": null,
            "order": null,
            "overflow": null,
            "overflow_x": null,
            "overflow_y": null,
            "padding": null,
            "right": null,
            "top": null,
            "visibility": null,
            "width": null
          }
        },
        "24026213362c4d4095334f841ad56645": {
          "model_module": "@jupyter-widgets/base",
          "model_name": "LayoutModel",
          "model_module_version": "1.2.0",
          "state": {
            "_model_module": "@jupyter-widgets/base",
            "_model_module_version": "1.2.0",
            "_model_name": "LayoutModel",
            "_view_count": null,
            "_view_module": "@jupyter-widgets/base",
            "_view_module_version": "1.2.0",
            "_view_name": "LayoutView",
            "align_content": null,
            "align_items": null,
            "align_self": null,
            "border": null,
            "bottom": null,
            "display": null,
            "flex": null,
            "flex_flow": null,
            "grid_area": null,
            "grid_auto_columns": null,
            "grid_auto_flow": null,
            "grid_auto_rows": null,
            "grid_column": null,
            "grid_gap": null,
            "grid_row": null,
            "grid_template_areas": null,
            "grid_template_columns": null,
            "grid_template_rows": null,
            "height": null,
            "justify_content": null,
            "justify_items": null,
            "left": null,
            "margin": null,
            "max_height": null,
            "max_width": null,
            "min_height": null,
            "min_width": null,
            "object_fit": null,
            "object_position": null,
            "order": null,
            "overflow": null,
            "overflow_x": null,
            "overflow_y": null,
            "padding": null,
            "right": null,
            "top": null,
            "visibility": null,
            "width": null
          }
        },
        "c846602586c640f09cb2b561deebf99c": {
          "model_module": "@jupyter-widgets/controls",
          "model_name": "DescriptionStyleModel",
          "model_module_version": "1.5.0",
          "state": {
            "_model_module": "@jupyter-widgets/controls",
            "_model_module_version": "1.5.0",
            "_model_name": "DescriptionStyleModel",
            "_view_count": null,
            "_view_module": "@jupyter-widgets/base",
            "_view_module_version": "1.2.0",
            "_view_name": "StyleView",
            "description_width": ""
          }
        },
        "0ca5ac27a058487e964f18b877c37835": {
          "model_module": "@jupyter-widgets/base",
          "model_name": "LayoutModel",
          "model_module_version": "1.2.0",
          "state": {
            "_model_module": "@jupyter-widgets/base",
            "_model_module_version": "1.2.0",
            "_model_name": "LayoutModel",
            "_view_count": null,
            "_view_module": "@jupyter-widgets/base",
            "_view_module_version": "1.2.0",
            "_view_name": "LayoutView",
            "align_content": null,
            "align_items": null,
            "align_self": null,
            "border": null,
            "bottom": null,
            "display": null,
            "flex": null,
            "flex_flow": null,
            "grid_area": null,
            "grid_auto_columns": null,
            "grid_auto_flow": null,
            "grid_auto_rows": null,
            "grid_column": null,
            "grid_gap": null,
            "grid_row": null,
            "grid_template_areas": null,
            "grid_template_columns": null,
            "grid_template_rows": null,
            "height": null,
            "justify_content": null,
            "justify_items": null,
            "left": null,
            "margin": null,
            "max_height": null,
            "max_width": null,
            "min_height": null,
            "min_width": null,
            "object_fit": null,
            "object_position": null,
            "order": null,
            "overflow": null,
            "overflow_x": null,
            "overflow_y": null,
            "padding": null,
            "right": null,
            "top": null,
            "visibility": null,
            "width": "20px"
          }
        },
        "f6e2f221015548b7be6820b154abc5e7": {
          "model_module": "@jupyter-widgets/controls",
          "model_name": "ProgressStyleModel",
          "model_module_version": "1.5.0",
          "state": {
            "_model_module": "@jupyter-widgets/controls",
            "_model_module_version": "1.5.0",
            "_model_name": "ProgressStyleModel",
            "_view_count": null,
            "_view_module": "@jupyter-widgets/base",
            "_view_module_version": "1.2.0",
            "_view_name": "StyleView",
            "bar_color": null,
            "description_width": ""
          }
        },
        "d8cfeabca23d4ad59a998bb7bd8701f1": {
          "model_module": "@jupyter-widgets/base",
          "model_name": "LayoutModel",
          "model_module_version": "1.2.0",
          "state": {
            "_model_module": "@jupyter-widgets/base",
            "_model_module_version": "1.2.0",
            "_model_name": "LayoutModel",
            "_view_count": null,
            "_view_module": "@jupyter-widgets/base",
            "_view_module_version": "1.2.0",
            "_view_name": "LayoutView",
            "align_content": null,
            "align_items": null,
            "align_self": null,
            "border": null,
            "bottom": null,
            "display": null,
            "flex": null,
            "flex_flow": null,
            "grid_area": null,
            "grid_auto_columns": null,
            "grid_auto_flow": null,
            "grid_auto_rows": null,
            "grid_column": null,
            "grid_gap": null,
            "grid_row": null,
            "grid_template_areas": null,
            "grid_template_columns": null,
            "grid_template_rows": null,
            "height": null,
            "justify_content": null,
            "justify_items": null,
            "left": null,
            "margin": null,
            "max_height": null,
            "max_width": null,
            "min_height": null,
            "min_width": null,
            "object_fit": null,
            "object_position": null,
            "order": null,
            "overflow": null,
            "overflow_x": null,
            "overflow_y": null,
            "padding": null,
            "right": null,
            "top": null,
            "visibility": null,
            "width": null
          }
        },
        "bdcd0e86fddf4554aaed6943b0a1372a": {
          "model_module": "@jupyter-widgets/controls",
          "model_name": "DescriptionStyleModel",
          "model_module_version": "1.5.0",
          "state": {
            "_model_module": "@jupyter-widgets/controls",
            "_model_module_version": "1.5.0",
            "_model_name": "DescriptionStyleModel",
            "_view_count": null,
            "_view_module": "@jupyter-widgets/base",
            "_view_module_version": "1.2.0",
            "_view_name": "StyleView",
            "description_width": ""
          }
        },
        "f1f6a7228edc4223abfa97ced5fe97da": {
          "model_module": "@jupyter-widgets/controls",
          "model_name": "HBoxModel",
          "model_module_version": "1.5.0",
          "state": {
            "_dom_classes": [],
            "_model_module": "@jupyter-widgets/controls",
            "_model_module_version": "1.5.0",
            "_model_name": "HBoxModel",
            "_view_count": null,
            "_view_module": "@jupyter-widgets/controls",
            "_view_module_version": "1.5.0",
            "_view_name": "HBoxView",
            "box_style": "",
            "children": [
              "IPY_MODEL_6b62a0df90ee4c5cb6a22cf0fd28df5b",
              "IPY_MODEL_b97f903397a749a6abf7557afe544128",
              "IPY_MODEL_8c744a41cb6748f4b0d7bdcc5e80aecf"
            ],
            "layout": "IPY_MODEL_7fd3638c7d3749b79057446936065062"
          }
        },
        "6b62a0df90ee4c5cb6a22cf0fd28df5b": {
          "model_module": "@jupyter-widgets/controls",
          "model_name": "HTMLModel",
          "model_module_version": "1.5.0",
          "state": {
            "_dom_classes": [],
            "_model_module": "@jupyter-widgets/controls",
            "_model_module_version": "1.5.0",
            "_model_name": "HTMLModel",
            "_view_count": null,
            "_view_module": "@jupyter-widgets/controls",
            "_view_module_version": "1.5.0",
            "_view_name": "HTMLView",
            "description": "",
            "description_tooltip": null,
            "layout": "IPY_MODEL_e4837b2bf1b245a89ec42cb3e8d6a4c8",
            "placeholder": "​",
            "style": "IPY_MODEL_1a14460221b34248a23009d4d67ae44a",
            "value": ""
          }
        },
        "b97f903397a749a6abf7557afe544128": {
          "model_module": "@jupyter-widgets/controls",
          "model_name": "FloatProgressModel",
          "model_module_version": "1.5.0",
          "state": {
            "_dom_classes": [],
            "_model_module": "@jupyter-widgets/controls",
            "_model_module_version": "1.5.0",
            "_model_name": "FloatProgressModel",
            "_view_count": null,
            "_view_module": "@jupyter-widgets/controls",
            "_view_module_version": "1.5.0",
            "_view_name": "ProgressView",
            "bar_style": "success",
            "description": "",
            "description_tooltip": null,
            "layout": "IPY_MODEL_812e39ff0fff48fdb9a7f76b4877ea38",
            "max": 1,
            "min": 0,
            "orientation": "horizontal",
            "style": "IPY_MODEL_c4822457921841969694ca72ddcc4ac9",
            "value": 1
          }
        },
        "8c744a41cb6748f4b0d7bdcc5e80aecf": {
          "model_module": "@jupyter-widgets/controls",
          "model_name": "HTMLModel",
          "model_module_version": "1.5.0",
          "state": {
            "_dom_classes": [],
            "_model_module": "@jupyter-widgets/controls",
            "_model_module_version": "1.5.0",
            "_model_name": "HTMLModel",
            "_view_count": null,
            "_view_module": "@jupyter-widgets/controls",
            "_view_module_version": "1.5.0",
            "_view_name": "HTMLView",
            "description": "",
            "description_tooltip": null,
            "layout": "IPY_MODEL_9fb65389d77148fe83f3af6c8dced42f",
            "placeholder": "​",
            "style": "IPY_MODEL_c9a49db68d7749268f55f7df1ee0511b",
            "value": " 10000/? [00:01&lt;00:00, 8855.84it/s]"
          }
        },
        "7fd3638c7d3749b79057446936065062": {
          "model_module": "@jupyter-widgets/base",
          "model_name": "LayoutModel",
          "model_module_version": "1.2.0",
          "state": {
            "_model_module": "@jupyter-widgets/base",
            "_model_module_version": "1.2.0",
            "_model_name": "LayoutModel",
            "_view_count": null,
            "_view_module": "@jupyter-widgets/base",
            "_view_module_version": "1.2.0",
            "_view_name": "LayoutView",
            "align_content": null,
            "align_items": null,
            "align_self": null,
            "border": null,
            "bottom": null,
            "display": null,
            "flex": null,
            "flex_flow": null,
            "grid_area": null,
            "grid_auto_columns": null,
            "grid_auto_flow": null,
            "grid_auto_rows": null,
            "grid_column": null,
            "grid_gap": null,
            "grid_row": null,
            "grid_template_areas": null,
            "grid_template_columns": null,
            "grid_template_rows": null,
            "height": null,
            "justify_content": null,
            "justify_items": null,
            "left": null,
            "margin": null,
            "max_height": null,
            "max_width": null,
            "min_height": null,
            "min_width": null,
            "object_fit": null,
            "object_position": null,
            "order": null,
            "overflow": null,
            "overflow_x": null,
            "overflow_y": null,
            "padding": null,
            "right": null,
            "top": null,
            "visibility": null,
            "width": null
          }
        },
        "e4837b2bf1b245a89ec42cb3e8d6a4c8": {
          "model_module": "@jupyter-widgets/base",
          "model_name": "LayoutModel",
          "model_module_version": "1.2.0",
          "state": {
            "_model_module": "@jupyter-widgets/base",
            "_model_module_version": "1.2.0",
            "_model_name": "LayoutModel",
            "_view_count": null,
            "_view_module": "@jupyter-widgets/base",
            "_view_module_version": "1.2.0",
            "_view_name": "LayoutView",
            "align_content": null,
            "align_items": null,
            "align_self": null,
            "border": null,
            "bottom": null,
            "display": null,
            "flex": null,
            "flex_flow": null,
            "grid_area": null,
            "grid_auto_columns": null,
            "grid_auto_flow": null,
            "grid_auto_rows": null,
            "grid_column": null,
            "grid_gap": null,
            "grid_row": null,
            "grid_template_areas": null,
            "grid_template_columns": null,
            "grid_template_rows": null,
            "height": null,
            "justify_content": null,
            "justify_items": null,
            "left": null,
            "margin": null,
            "max_height": null,
            "max_width": null,
            "min_height": null,
            "min_width": null,
            "object_fit": null,
            "object_position": null,
            "order": null,
            "overflow": null,
            "overflow_x": null,
            "overflow_y": null,
            "padding": null,
            "right": null,
            "top": null,
            "visibility": null,
            "width": null
          }
        },
        "1a14460221b34248a23009d4d67ae44a": {
          "model_module": "@jupyter-widgets/controls",
          "model_name": "DescriptionStyleModel",
          "model_module_version": "1.5.0",
          "state": {
            "_model_module": "@jupyter-widgets/controls",
            "_model_module_version": "1.5.0",
            "_model_name": "DescriptionStyleModel",
            "_view_count": null,
            "_view_module": "@jupyter-widgets/base",
            "_view_module_version": "1.2.0",
            "_view_name": "StyleView",
            "description_width": ""
          }
        },
        "812e39ff0fff48fdb9a7f76b4877ea38": {
          "model_module": "@jupyter-widgets/base",
          "model_name": "LayoutModel",
          "model_module_version": "1.2.0",
          "state": {
            "_model_module": "@jupyter-widgets/base",
            "_model_module_version": "1.2.0",
            "_model_name": "LayoutModel",
            "_view_count": null,
            "_view_module": "@jupyter-widgets/base",
            "_view_module_version": "1.2.0",
            "_view_name": "LayoutView",
            "align_content": null,
            "align_items": null,
            "align_self": null,
            "border": null,
            "bottom": null,
            "display": null,
            "flex": null,
            "flex_flow": null,
            "grid_area": null,
            "grid_auto_columns": null,
            "grid_auto_flow": null,
            "grid_auto_rows": null,
            "grid_column": null,
            "grid_gap": null,
            "grid_row": null,
            "grid_template_areas": null,
            "grid_template_columns": null,
            "grid_template_rows": null,
            "height": null,
            "justify_content": null,
            "justify_items": null,
            "left": null,
            "margin": null,
            "max_height": null,
            "max_width": null,
            "min_height": null,
            "min_width": null,
            "object_fit": null,
            "object_position": null,
            "order": null,
            "overflow": null,
            "overflow_x": null,
            "overflow_y": null,
            "padding": null,
            "right": null,
            "top": null,
            "visibility": null,
            "width": "20px"
          }
        },
        "c4822457921841969694ca72ddcc4ac9": {
          "model_module": "@jupyter-widgets/controls",
          "model_name": "ProgressStyleModel",
          "model_module_version": "1.5.0",
          "state": {
            "_model_module": "@jupyter-widgets/controls",
            "_model_module_version": "1.5.0",
            "_model_name": "ProgressStyleModel",
            "_view_count": null,
            "_view_module": "@jupyter-widgets/base",
            "_view_module_version": "1.2.0",
            "_view_name": "StyleView",
            "bar_color": null,
            "description_width": ""
          }
        },
        "9fb65389d77148fe83f3af6c8dced42f": {
          "model_module": "@jupyter-widgets/base",
          "model_name": "LayoutModel",
          "model_module_version": "1.2.0",
          "state": {
            "_model_module": "@jupyter-widgets/base",
            "_model_module_version": "1.2.0",
            "_model_name": "LayoutModel",
            "_view_count": null,
            "_view_module": "@jupyter-widgets/base",
            "_view_module_version": "1.2.0",
            "_view_name": "LayoutView",
            "align_content": null,
            "align_items": null,
            "align_self": null,
            "border": null,
            "bottom": null,
            "display": null,
            "flex": null,
            "flex_flow": null,
            "grid_area": null,
            "grid_auto_columns": null,
            "grid_auto_flow": null,
            "grid_auto_rows": null,
            "grid_column": null,
            "grid_gap": null,
            "grid_row": null,
            "grid_template_areas": null,
            "grid_template_columns": null,
            "grid_template_rows": null,
            "height": null,
            "justify_content": null,
            "justify_items": null,
            "left": null,
            "margin": null,
            "max_height": null,
            "max_width": null,
            "min_height": null,
            "min_width": null,
            "object_fit": null,
            "object_position": null,
            "order": null,
            "overflow": null,
            "overflow_x": null,
            "overflow_y": null,
            "padding": null,
            "right": null,
            "top": null,
            "visibility": null,
            "width": null
          }
        },
        "c9a49db68d7749268f55f7df1ee0511b": {
          "model_module": "@jupyter-widgets/controls",
          "model_name": "DescriptionStyleModel",
          "model_module_version": "1.5.0",
          "state": {
            "_model_module": "@jupyter-widgets/controls",
            "_model_module_version": "1.5.0",
            "_model_name": "DescriptionStyleModel",
            "_view_count": null,
            "_view_module": "@jupyter-widgets/base",
            "_view_module_version": "1.2.0",
            "_view_name": "StyleView",
            "description_width": ""
          }
        },
        "19873672b6f0474d9f6f639ad477e519": {
          "model_module": "@jupyter-widgets/controls",
          "model_name": "HBoxModel",
          "model_module_version": "1.5.0",
          "state": {
            "_dom_classes": [],
            "_model_module": "@jupyter-widgets/controls",
            "_model_module_version": "1.5.0",
            "_model_name": "HBoxModel",
            "_view_count": null,
            "_view_module": "@jupyter-widgets/controls",
            "_view_module_version": "1.5.0",
            "_view_name": "HBoxView",
            "box_style": "",
            "children": [
              "IPY_MODEL_90ce54bfec1a4fc8b0facd00ef2eb8fa",
              "IPY_MODEL_5cf96d302c7b4cc18c6f376be2c28914",
              "IPY_MODEL_e5bea60194be482fb70b51006048d98e"
            ],
            "layout": "IPY_MODEL_4ee0b30393454861ae2834013b41162d"
          }
        },
        "90ce54bfec1a4fc8b0facd00ef2eb8fa": {
          "model_module": "@jupyter-widgets/controls",
          "model_name": "HTMLModel",
          "model_module_version": "1.5.0",
          "state": {
            "_dom_classes": [],
            "_model_module": "@jupyter-widgets/controls",
            "_model_module_version": "1.5.0",
            "_model_name": "HTMLModel",
            "_view_count": null,
            "_view_module": "@jupyter-widgets/controls",
            "_view_module_version": "1.5.0",
            "_view_name": "HTMLView",
            "description": "",
            "description_tooltip": null,
            "layout": "IPY_MODEL_395d831e65054dc8aa374fc1e640db26",
            "placeholder": "​",
            "style": "IPY_MODEL_6679896bfde743d6a1ca198d08c691f4",
            "value": "100%"
          }
        },
        "5cf96d302c7b4cc18c6f376be2c28914": {
          "model_module": "@jupyter-widgets/controls",
          "model_name": "FloatProgressModel",
          "model_module_version": "1.5.0",
          "state": {
            "_dom_classes": [],
            "_model_module": "@jupyter-widgets/controls",
            "_model_module_version": "1.5.0",
            "_model_name": "FloatProgressModel",
            "_view_count": null,
            "_view_module": "@jupyter-widgets/controls",
            "_view_module_version": "1.5.0",
            "_view_name": "ProgressView",
            "bar_style": "success",
            "description": "",
            "description_tooltip": null,
            "layout": "IPY_MODEL_0e48d58c73144c58aca2a35e1ffbf26c",
            "max": 200,
            "min": 0,
            "orientation": "horizontal",
            "style": "IPY_MODEL_b274d608a60a40fa942c32c3a0feaace",
            "value": 200
          }
        },
        "e5bea60194be482fb70b51006048d98e": {
          "model_module": "@jupyter-widgets/controls",
          "model_name": "HTMLModel",
          "model_module_version": "1.5.0",
          "state": {
            "_dom_classes": [],
            "_model_module": "@jupyter-widgets/controls",
            "_model_module_version": "1.5.0",
            "_model_name": "HTMLModel",
            "_view_count": null,
            "_view_module": "@jupyter-widgets/controls",
            "_view_module_version": "1.5.0",
            "_view_name": "HTMLView",
            "description": "",
            "description_tooltip": null,
            "layout": "IPY_MODEL_2d334648c7f7437db9fde7c5e0c73f12",
            "placeholder": "​",
            "style": "IPY_MODEL_34e9400f4b454900b9377b5b189fa2ff",
            "value": " 200/200 [00:09&lt;00:00, 25.61it/s]"
          }
        },
        "4ee0b30393454861ae2834013b41162d": {
          "model_module": "@jupyter-widgets/base",
          "model_name": "LayoutModel",
          "model_module_version": "1.2.0",
          "state": {
            "_model_module": "@jupyter-widgets/base",
            "_model_module_version": "1.2.0",
            "_model_name": "LayoutModel",
            "_view_count": null,
            "_view_module": "@jupyter-widgets/base",
            "_view_module_version": "1.2.0",
            "_view_name": "LayoutView",
            "align_content": null,
            "align_items": null,
            "align_self": null,
            "border": null,
            "bottom": null,
            "display": null,
            "flex": null,
            "flex_flow": null,
            "grid_area": null,
            "grid_auto_columns": null,
            "grid_auto_flow": null,
            "grid_auto_rows": null,
            "grid_column": null,
            "grid_gap": null,
            "grid_row": null,
            "grid_template_areas": null,
            "grid_template_columns": null,
            "grid_template_rows": null,
            "height": null,
            "justify_content": null,
            "justify_items": null,
            "left": null,
            "margin": null,
            "max_height": null,
            "max_width": null,
            "min_height": null,
            "min_width": null,
            "object_fit": null,
            "object_position": null,
            "order": null,
            "overflow": null,
            "overflow_x": null,
            "overflow_y": null,
            "padding": null,
            "right": null,
            "top": null,
            "visibility": null,
            "width": null
          }
        },
        "395d831e65054dc8aa374fc1e640db26": {
          "model_module": "@jupyter-widgets/base",
          "model_name": "LayoutModel",
          "model_module_version": "1.2.0",
          "state": {
            "_model_module": "@jupyter-widgets/base",
            "_model_module_version": "1.2.0",
            "_model_name": "LayoutModel",
            "_view_count": null,
            "_view_module": "@jupyter-widgets/base",
            "_view_module_version": "1.2.0",
            "_view_name": "LayoutView",
            "align_content": null,
            "align_items": null,
            "align_self": null,
            "border": null,
            "bottom": null,
            "display": null,
            "flex": null,
            "flex_flow": null,
            "grid_area": null,
            "grid_auto_columns": null,
            "grid_auto_flow": null,
            "grid_auto_rows": null,
            "grid_column": null,
            "grid_gap": null,
            "grid_row": null,
            "grid_template_areas": null,
            "grid_template_columns": null,
            "grid_template_rows": null,
            "height": null,
            "justify_content": null,
            "justify_items": null,
            "left": null,
            "margin": null,
            "max_height": null,
            "max_width": null,
            "min_height": null,
            "min_width": null,
            "object_fit": null,
            "object_position": null,
            "order": null,
            "overflow": null,
            "overflow_x": null,
            "overflow_y": null,
            "padding": null,
            "right": null,
            "top": null,
            "visibility": null,
            "width": null
          }
        },
        "6679896bfde743d6a1ca198d08c691f4": {
          "model_module": "@jupyter-widgets/controls",
          "model_name": "DescriptionStyleModel",
          "model_module_version": "1.5.0",
          "state": {
            "_model_module": "@jupyter-widgets/controls",
            "_model_module_version": "1.5.0",
            "_model_name": "DescriptionStyleModel",
            "_view_count": null,
            "_view_module": "@jupyter-widgets/base",
            "_view_module_version": "1.2.0",
            "_view_name": "StyleView",
            "description_width": ""
          }
        },
        "0e48d58c73144c58aca2a35e1ffbf26c": {
          "model_module": "@jupyter-widgets/base",
          "model_name": "LayoutModel",
          "model_module_version": "1.2.0",
          "state": {
            "_model_module": "@jupyter-widgets/base",
            "_model_module_version": "1.2.0",
            "_model_name": "LayoutModel",
            "_view_count": null,
            "_view_module": "@jupyter-widgets/base",
            "_view_module_version": "1.2.0",
            "_view_name": "LayoutView",
            "align_content": null,
            "align_items": null,
            "align_self": null,
            "border": null,
            "bottom": null,
            "display": null,
            "flex": null,
            "flex_flow": null,
            "grid_area": null,
            "grid_auto_columns": null,
            "grid_auto_flow": null,
            "grid_auto_rows": null,
            "grid_column": null,
            "grid_gap": null,
            "grid_row": null,
            "grid_template_areas": null,
            "grid_template_columns": null,
            "grid_template_rows": null,
            "height": null,
            "justify_content": null,
            "justify_items": null,
            "left": null,
            "margin": null,
            "max_height": null,
            "max_width": null,
            "min_height": null,
            "min_width": null,
            "object_fit": null,
            "object_position": null,
            "order": null,
            "overflow": null,
            "overflow_x": null,
            "overflow_y": null,
            "padding": null,
            "right": null,
            "top": null,
            "visibility": null,
            "width": null
          }
        },
        "b274d608a60a40fa942c32c3a0feaace": {
          "model_module": "@jupyter-widgets/controls",
          "model_name": "ProgressStyleModel",
          "model_module_version": "1.5.0",
          "state": {
            "_model_module": "@jupyter-widgets/controls",
            "_model_module_version": "1.5.0",
            "_model_name": "ProgressStyleModel",
            "_view_count": null,
            "_view_module": "@jupyter-widgets/base",
            "_view_module_version": "1.2.0",
            "_view_name": "StyleView",
            "bar_color": null,
            "description_width": ""
          }
        },
        "2d334648c7f7437db9fde7c5e0c73f12": {
          "model_module": "@jupyter-widgets/base",
          "model_name": "LayoutModel",
          "model_module_version": "1.2.0",
          "state": {
            "_model_module": "@jupyter-widgets/base",
            "_model_module_version": "1.2.0",
            "_model_name": "LayoutModel",
            "_view_count": null,
            "_view_module": "@jupyter-widgets/base",
            "_view_module_version": "1.2.0",
            "_view_name": "LayoutView",
            "align_content": null,
            "align_items": null,
            "align_self": null,
            "border": null,
            "bottom": null,
            "display": null,
            "flex": null,
            "flex_flow": null,
            "grid_area": null,
            "grid_auto_columns": null,
            "grid_auto_flow": null,
            "grid_auto_rows": null,
            "grid_column": null,
            "grid_gap": null,
            "grid_row": null,
            "grid_template_areas": null,
            "grid_template_columns": null,
            "grid_template_rows": null,
            "height": null,
            "justify_content": null,
            "justify_items": null,
            "left": null,
            "margin": null,
            "max_height": null,
            "max_width": null,
            "min_height": null,
            "min_width": null,
            "object_fit": null,
            "object_position": null,
            "order": null,
            "overflow": null,
            "overflow_x": null,
            "overflow_y": null,
            "padding": null,
            "right": null,
            "top": null,
            "visibility": null,
            "width": null
          }
        },
        "34e9400f4b454900b9377b5b189fa2ff": {
          "model_module": "@jupyter-widgets/controls",
          "model_name": "DescriptionStyleModel",
          "model_module_version": "1.5.0",
          "state": {
            "_model_module": "@jupyter-widgets/controls",
            "_model_module_version": "1.5.0",
            "_model_name": "DescriptionStyleModel",
            "_view_count": null,
            "_view_module": "@jupyter-widgets/base",
            "_view_module_version": "1.2.0",
            "_view_name": "StyleView",
            "description_width": ""
          }
        }
      }
    }
  },
  "cells": [
    {
      "cell_type": "markdown",
      "metadata": {
        "id": "kmIOkV65f5S0"
      },
      "source": [
        "### Import Packages\n"
      ]
    },
    {
      "cell_type": "code",
      "metadata": {
        "id": "X1f7bWu9lJtX",
        "colab": {
          "base_uri": "https://localhost:8080/"
        },
        "outputId": "152625bd-7dc5-4616-903f-06e2e3bbd762"
      },
      "source": [
        "import os\n",
        "import csv\n",
        "import numpy as np\n",
        "from tqdm.notebook import tqdm\n",
        "\n",
        "import matplotlib.pyplot as plt\n",
        "\n",
        "import torch\n",
        "import torchvision\n",
        "import torch.nn as nn\n",
        "import torch.nn.functional as F\n",
        "import torch.optim as optim\n",
        "from torch.utils.data import Dataset, DataLoader\n",
        "\n",
        "print(torch.__version__)"
      ],
      "execution_count": null,
      "outputs": [
        {
          "output_type": "stream",
          "name": "stdout",
          "text": [
            "1.12.1+cu113\n"
          ]
        }
      ]
    },
    {
      "cell_type": "markdown",
      "metadata": {
        "id": "TTj1RldNHgSQ"
      },
      "source": [
        "### MNIST dataset is provided in default"
      ]
    },
    {
      "cell_type": "code",
      "metadata": {
        "id": "pcMuF_m9Ev8W"
      },
      "source": [
        "train_path = './sample_data/mnist_train_small.csv'\n",
        "test_path = './sample_data/mnist_test.csv'\n",
        "img_size = 28"
      ],
      "execution_count": null,
      "outputs": []
    },
    {
      "cell_type": "markdown",
      "metadata": {
        "id": "PYiku-SxHnA6"
      },
      "source": [
        "### Choose your device - use GPU or not?"
      ]
    },
    {
      "cell_type": "code",
      "metadata": {
        "id": "k44xmCOHHmF4",
        "colab": {
          "base_uri": "https://localhost:8080/"
        },
        "outputId": "d1f0f0cb-7b8e-4df6-fe84-d5803ef147a8"
      },
      "source": [
        "# device = 'cpu'\n",
        "device = 'cuda'\n",
        "print('Current Device : {}'.format(device))"
      ],
      "execution_count": null,
      "outputs": [
        {
          "output_type": "stream",
          "name": "stdout",
          "text": [
            "Current Device : cuda\n"
          ]
        }
      ]
    },
    {
      "cell_type": "markdown",
      "metadata": {
        "id": "1lukzx9CHuNv"
      },
      "source": [
        "### Read the MNIST dataset\n",
        "- total 1+ 28x28 dimension. 1 For Label, 28**2 for image\n"
      ]
    },
    {
      "cell_type": "code",
      "metadata": {
        "id": "KACiPSPiFOyF"
      },
      "source": [
        "def mnist_reader(file_path, img_size=img_size):\n",
        "    total_img = list()\n",
        "    total_label = list()\n",
        "    with open(file_path) as csvfile:\n",
        "        mnist_reader = csv.reader(csvfile)\n",
        "        for row in tqdm(mnist_reader):\n",
        "            img = np.array(row[1:], dtype=np.uint16).reshape(img_size, img_size)\n",
        "            img = img / 255\n",
        "            label = int(row[0])\n",
        "\n",
        "            total_img.append(img)\n",
        "            total_label.append(label)\n",
        "\n",
        "    total_img = np.asarray(total_img)\n",
        "    total_label = np.asarray(total_label)\n",
        "    \n",
        "    return total_img, total_label"
      ],
      "execution_count": null,
      "outputs": []
    },
    {
      "cell_type": "code",
      "metadata": {
        "id": "sghlSXb_Gd9-",
        "colab": {
          "base_uri": "https://localhost:8080/",
          "height": 81,
          "referenced_widgets": [
            "f671a163490e4d3cbb6da1bf63e4a762",
            "2bff845b17be4616bb78acf50fde7eaa",
            "80c818a8f05f4255acc48ae1cd5b79f8",
            "574edeadbf4e4428b5eddcad06561b9d",
            "2636e5db7fb8431c91f01dac547959da",
            "24026213362c4d4095334f841ad56645",
            "c846602586c640f09cb2b561deebf99c",
            "0ca5ac27a058487e964f18b877c37835",
            "f6e2f221015548b7be6820b154abc5e7",
            "d8cfeabca23d4ad59a998bb7bd8701f1",
            "bdcd0e86fddf4554aaed6943b0a1372a",
            "f1f6a7228edc4223abfa97ced5fe97da",
            "6b62a0df90ee4c5cb6a22cf0fd28df5b",
            "b97f903397a749a6abf7557afe544128",
            "8c744a41cb6748f4b0d7bdcc5e80aecf",
            "7fd3638c7d3749b79057446936065062",
            "e4837b2bf1b245a89ec42cb3e8d6a4c8",
            "1a14460221b34248a23009d4d67ae44a",
            "812e39ff0fff48fdb9a7f76b4877ea38",
            "c4822457921841969694ca72ddcc4ac9",
            "9fb65389d77148fe83f3af6c8dced42f",
            "c9a49db68d7749268f55f7df1ee0511b"
          ]
        },
        "outputId": "95cd9471-450d-44f8-9bfb-41f4c2df3a28"
      },
      "source": [
        "train_img, train_label = mnist_reader(train_path)\n",
        "test_img, test_label = mnist_reader(test_path)\n",
        "\n",
        "# Let's try to reduce the number of data we have.\n",
        "train_img = train_img[::25]\n",
        "train_label = train_label[::25]\n",
        "test_img = test_img[::25]\n",
        "test_label = test_label[::25]"
      ],
      "execution_count": null,
      "outputs": [
        {
          "output_type": "display_data",
          "data": {
            "text/plain": [
              "0it [00:00, ?it/s]"
            ],
            "application/vnd.jupyter.widget-view+json": {
              "version_major": 2,
              "version_minor": 0,
              "model_id": "f671a163490e4d3cbb6da1bf63e4a762"
            }
          },
          "metadata": {}
        },
        {
          "output_type": "display_data",
          "data": {
            "text/plain": [
              "0it [00:00, ?it/s]"
            ],
            "application/vnd.jupyter.widget-view+json": {
              "version_major": 2,
              "version_minor": 0,
              "model_id": "f1f6a7228edc4223abfa97ced5fe97da"
            }
          },
          "metadata": {}
        }
      ]
    },
    {
      "cell_type": "markdown",
      "metadata": {
        "id": "XwsvttO0IJRL"
      },
      "source": [
        "### Define the Dataset"
      ]
    },
    {
      "cell_type": "code",
      "metadata": {
        "id": "naa0-u1dGc6H"
      },
      "source": [
        "class MNIST_Dataset(Dataset):\n",
        "    def __init__(self, target_img, target_label):\n",
        "        self.target_img = target_img\n",
        "        self.target_label = target_label\n",
        "        self.num_data = target_img.shape[0]\n",
        "\n",
        "    def __len__(self):\n",
        "        return self.num_data\n",
        "\n",
        "    def __getitem__(self, idx):\n",
        "        sample = dict()\n",
        "        sample['img'] = self.target_img[idx]\n",
        "        sample['label'] = self.target_label[idx]\n",
        "\n",
        "        return sample"
      ],
      "execution_count": null,
      "outputs": []
    },
    {
      "cell_type": "markdown",
      "metadata": {
        "id": "j3S8BdL5IMcb"
      },
      "source": [
        "### Define the DataLoader"
      ]
    },
    {
      "cell_type": "code",
      "metadata": {
        "id": "Qu2Vn-qbIeTa"
      },
      "source": [
        "batch_size = 256\n",
        "\n",
        "train_dataset = MNIST_Dataset(train_img, train_label)\n",
        "test_dataset = MNIST_Dataset(test_img, test_label)\n",
        "\n",
        "train_dataloader = DataLoader(train_dataset, batch_size=batch_size, shuffle=True)\n",
        "test_dataloader = DataLoader(test_dataset, batch_size=batch_size, shuffle=False)"
      ],
      "execution_count": null,
      "outputs": []
    },
    {
      "cell_type": "markdown",
      "metadata": {
        "id": "sT_N_IqnIQgQ"
      },
      "source": [
        "### Try to sample out one data point from dataloader"
      ]
    },
    {
      "cell_type": "code",
      "metadata": {
        "id": "RAiU23NUKFl7",
        "colab": {
          "base_uri": "https://localhost:8080/"
        },
        "outputId": "24a5f399-9bc0-49bd-b755-f124f1291614"
      },
      "source": [
        "sample = next(iter(test_dataloader))\n",
        "print(sample['img'].shape)\n",
        "print(sample['label'].shape)"
      ],
      "execution_count": null,
      "outputs": [
        {
          "output_type": "stream",
          "name": "stdout",
          "text": [
            "torch.Size([256, 28, 28])\n",
            "torch.Size([256])\n"
          ]
        }
      ]
    },
    {
      "cell_type": "code",
      "metadata": {
        "id": "XnDU90xVTpqC",
        "colab": {
          "base_uri": "https://localhost:8080/",
          "height": 281
        },
        "outputId": "862ff9dd-365f-4fd9-d76f-547625942f51"
      },
      "source": [
        "plot_idx = 0\n",
        "plt.imshow(sample['img'][plot_idx])\n",
        "plt.title('LABEL : {}'.format(sample['label'][plot_idx]))\n",
        "plt.show()"
      ],
      "execution_count": null,
      "outputs": [
        {
          "output_type": "display_data",
          "data": {
            "text/plain": [
              "<Figure size 432x288 with 1 Axes>"
            ],
            "image/png": "[encoded data removed]"
          },
          "metadata": {
            "needs_background": "light"
          }
        }
      ]
    },
    {
      "cell_type": "markdown",
      "metadata": {
        "id": "LEjuX7lWIYlb"
      },
      "source": [
        "### Define the Multiple Layer Perceptrons"
      ]
    },
    {
      "cell_type": "code",
      "metadata": {
        "id": "Cx-fxCW5JD_w"
      },
      "source": [
        "class MLPs(nn.Module):\n",
        "    def __init__(self, dim_hidden_1, dim_hidden_2, dim_input=img_size**2, dim_output=10):\n",
        "        super(MLPs, self).__init__()\n",
        "        \n",
        "        self.dim_hidden_1 = dim_hidden_1\n",
        "        self.dim_hidden_2 = dim_hidden_2\n",
        "        self.dim_input = dim_input\n",
        "        self.dim_output = dim_output\n",
        "\n",
        "        self.layer_1 = nn.Linear(dim_input, dim_hidden_1)\n",
        "        self.layer_2 = nn.Linear(dim_hidden_1, dim_hidden_2)\n",
        "        self.layer_3 = nn.Linear(dim_hidden_2, dim_output)\n",
        "\n",
        "        self.activation = nn.ReLU()\n",
        "        # self.dropout = nn.Dropout(0.5)\n",
        "\n",
        "    def forward(self, img):\n",
        "        batch_size = img.shape[0]\n",
        "        input = img.view(batch_size, -1)\n",
        "\n",
        "        # Try to use Dropout after the activation\n",
        "        hidden_1 = self.activation(self.layer_1(input))\n",
        "        hidden_2 = self.activation(self.layer_2(hidden_1))\n",
        "        out = self.layer_3(hidden_2)\n",
        "\n",
        "        return out"
      ],
      "execution_count": null,
      "outputs": []
    },
    {
      "cell_type": "markdown",
      "metadata": {
        "id": "r4hjFl4-IsqO"
      },
      "source": [
        "### Define the Model"
      ]
    },
    {
      "cell_type": "code",
      "metadata": {
        "id": "ZWtw-y-MKuv1",
        "colab": {
          "base_uri": "https://localhost:8080/"
        },
        "outputId": "003005e9-d154-414d-d518-ab33508687ab"
      },
      "source": [
        "model = MLPs(dim_hidden_1=512, dim_hidden_2=256)\n",
        "model = model.to(device)\n",
        "\n",
        "optimizer = optim.Adam(model.parameters(), lr=1e-4)\n",
        "print(model)"
      ],
      "execution_count": null,
      "outputs": [
        {
          "output_type": "stream",
          "name": "stdout",
          "text": [
            "MLPs(\n",
            "  (layer_1): Linear(in_features=784, out_features=512, bias=True)\n",
            "  (layer_2): Linear(in_features=512, out_features=256, bias=True)\n",
            "  (layer_3): Linear(in_features=256, out_features=10, bias=True)\n",
            "  (activation): ReLU()\n",
            ")\n"
          ]
        }
      ]
    },
    {
      "cell_type": "markdown",
      "metadata": {
        "id": "DUSpLgVXIwqG"
      },
      "source": [
        "### Define functions for train/test"
      ]
    },
    {
      "cell_type": "code",
      "metadata": {
        "id": "Q9pXkpAMK42y"
      },
      "source": [
        "def train(model, optimizer, sample):\n",
        "    model.train()\n",
        "\n",
        "    criterion = nn.CrossEntropyLoss()\n",
        "\n",
        "    optimizer.zero_grad()\n",
        "\n",
        "    img = sample['img'].float().to(device)\n",
        "    label = sample['label'].long().to(device) \n",
        "    \n",
        "    pred = model(img)\n",
        "\n",
        "    num_correct = sum(torch.argmax(pred, dim=1) == label)\n",
        "    \n",
        "    pred_loss = criterion(pred, label)\n",
        "    \n",
        "    pred_loss.backward()\n",
        "       \n",
        "    optimizer.step()\n",
        "\n",
        "    return pred_loss.item(), num_correct.item()"
      ],
      "execution_count": null,
      "outputs": []
    },
    {
      "cell_type": "code",
      "metadata": {
        "id": "MhcKwq8WOUGu"
      },
      "source": [
        "def test(model, sample):\n",
        "    model.eval()\n",
        "\n",
        "    criterion = nn.CrossEntropyLoss()\n",
        "\n",
        "    with torch.no_grad():\n",
        "        img = sample['img'].float().to(device)\n",
        "        label = sample['label'].long().to(device) \n",
        "\n",
        "        pred = model(img)\n",
        "        pred_loss = criterion(pred, label)\n",
        "\n",
        "        num_correct = sum(torch.argmax(pred, dim=1) == label)\n",
        "\n",
        "    return pred_loss.item(), num_correct.item()"
      ],
      "execution_count": null,
      "outputs": []
    },
    {
      "cell_type": "markdown",
      "metadata": {
        "id": "T23Toz8vI7Gu"
      },
      "source": [
        "### Run Training"
      ]
    },
    {
      "cell_type": "code",
      "metadata": {
        "id": "-kTrpt4YMRS6",
        "colab": {
          "base_uri": "https://localhost:8080/",
          "height": 1000,
          "referenced_widgets": [
            "19873672b6f0474d9f6f639ad477e519",
            "90ce54bfec1a4fc8b0facd00ef2eb8fa",
            "5cf96d302c7b4cc18c6f376be2c28914",
            "e5bea60194be482fb70b51006048d98e",
            "4ee0b30393454861ae2834013b41162d",
            "395d831e65054dc8aa374fc1e640db26",
            "6679896bfde743d6a1ca198d08c691f4",
            "0e48d58c73144c58aca2a35e1ffbf26c",
            "b274d608a60a40fa942c32c3a0feaace",
            "2d334648c7f7437db9fde7c5e0c73f12",
            "34e9400f4b454900b9377b5b189fa2ff"
          ]
        },
        "outputId": "0fc7af2b-4dc7-47df-a7a2-c1f9145fc5cf"
      },
      "source": [
        "max_epoch = 200\n",
        "\n",
        "for epoch in tqdm(range(max_epoch)):        \n",
        "    ###Train Phase\n",
        "    \n",
        "    # Initialize Loss and Accuracy\n",
        "    train_loss = 0.0\n",
        "    train_accu = 0.0\n",
        "\n",
        "    # Iterate over the train_dataloader\n",
        "    for idx, sample in enumerate(train_dataloader):\n",
        "        curr_loss, num_correct = train(model, optimizer, sample)\n",
        "        train_loss += curr_loss / len(train_dataloader)\n",
        "        train_accu += num_correct / len(train_dataset)\n",
        "\n",
        "    torch.save(model.state_dict(), 'recent.pth')\n",
        "    \n",
        "    ### Test Phase\n",
        "    # Initialize Loss and Accuracy\n",
        "    test_loss = 0.0\n",
        "    test_accu = 0.0\n",
        "\n",
        "    # Iterate over the test_dataloader\n",
        "    for idx, sample in enumerate(test_dataloader):\n",
        "        curr_loss, num_correct = test(model, sample)\n",
        "        test_loss += curr_loss / len(test_dataloader)\n",
        "        test_accu += num_correct / len(test_dataset)\n",
        "\n",
        "    print('[epoch {}] train accu :{:.2f} , test accu :{:.2f}.'.format(epoch+1, train_accu, test_accu))"
      ],
      "execution_count": null,
      "outputs": [
        {
          "output_type": "display_data",
          "data": {
            "text/plain": [
              "  0%|          | 0/200 [00:00<?, ?it/s]"
            ],
            "application/vnd.jupyter.widget-view+json": {
              "version_major": 2,
              "version_minor": 0,
              "model_id": "19873672b6f0474d9f6f639ad477e519"
            }
          },
          "metadata": {}
        },
        {
          "output_type": "stream",
          "name": "stdout",
          "text": [
            "[epoch 1] train accu :0.34 , test accu :0.38.\n",
            "[epoch 2] train accu :0.46 , test accu :0.45.\n",
            "[epoch 3] train accu :0.55 , test accu :0.53.\n",
            "[epoch 4] train accu :0.60 , test accu :0.58.\n",
            "[epoch 5] train accu :0.64 , test accu :0.64.\n",
            "[epoch 6] train accu :0.66 , test accu :0.64.\n",
            "[epoch 7] train accu :0.67 , test accu :0.64.\n",
            "[epoch 8] train accu :0.68 , test accu :0.64.\n",
            "[epoch 9] train accu :0.69 , test accu :0.65.\n",
            "[epoch 10] train accu :0.70 , test accu :0.65.\n",
            "[epoch 11] train accu :0.70 , test accu :0.68.\n",
            "[epoch 12] train accu :0.72 , test accu :0.72.\n",
            "[epoch 13] train accu :0.74 , test accu :0.72.\n",
            "[epoch 14] train accu :0.76 , test accu :0.74.\n",
            "[epoch 15] train accu :0.77 , test accu :0.75.\n",
            "[epoch 16] train accu :0.78 , test accu :0.76.\n",
            "[epoch 17] train accu :0.79 , test accu :0.78.\n",
            "[epoch 18] train accu :0.80 , test accu :0.78.\n",
            "[epoch 19] train accu :0.81 , test accu :0.78.\n",
            "[epoch 20] train accu :0.82 , test accu :0.77.\n",
            "[epoch 21] train accu :0.83 , test accu :0.79.\n",
            "[epoch 22] train accu :0.83 , test accu :0.80.\n",
            "[epoch 23] train accu :0.84 , test accu :0.79.\n",
            "[epoch 24] train accu :0.84 , test accu :0.79.\n",
            "[epoch 25] train accu :0.85 , test accu :0.80.\n",
            "[epoch 26] train accu :0.85 , test accu :0.80.\n",
            "[epoch 27] train accu :0.84 , test accu :0.80.\n",
            "[epoch 28] train accu :0.84 , test accu :0.80.\n",
            "[epoch 29] train accu :0.85 , test accu :0.81.\n",
            "[epoch 30] train accu :0.86 , test accu :0.82.\n",
            "[epoch 31] train accu :0.86 , test accu :0.81.\n",
            "[epoch 32] train accu :0.87 , test accu :0.82.\n",
            "[epoch 33] train accu :0.87 , test accu :0.82.\n",
            "[epoch 34] train accu :0.87 , test accu :0.83.\n",
            "[epoch 35] train accu :0.87 , test accu :0.83.\n",
            "[epoch 36] train accu :0.87 , test accu :0.83.\n",
            "[epoch 37] train accu :0.88 , test accu :0.83.\n",
            "[epoch 38] train accu :0.88 , test accu :0.83.\n",
            "[epoch 39] train accu :0.89 , test accu :0.83.\n",
            "[epoch 40] train accu :0.88 , test accu :0.83.\n",
            "[epoch 41] train accu :0.89 , test accu :0.83.\n",
            "[epoch 42] train accu :0.89 , test accu :0.84.\n",
            "[epoch 43] train accu :0.89 , test accu :0.84.\n",
            "[epoch 44] train accu :0.89 , test accu :0.84.\n",
            "[epoch 45] train accu :0.90 , test accu :0.83.\n",
            "[epoch 46] train accu :0.90 , test accu :0.84.\n",
            "[epoch 47] train accu :0.91 , test accu :0.84.\n",
            "[epoch 48] train accu :0.91 , test accu :0.85.\n",
            "[epoch 49] train accu :0.90 , test accu :0.85.\n",
            "[epoch 50] train accu :0.91 , test accu :0.86.\n",
            "[epoch 51] train accu :0.91 , test accu :0.85.\n",
            "[epoch 52] train accu :0.91 , test accu :0.85.\n",
            "[epoch 53] train accu :0.92 , test accu :0.86.\n",
            "[epoch 54] train accu :0.92 , test accu :0.85.\n",
            "[epoch 55] train accu :0.92 , test accu :0.86.\n",
            "[epoch 56] train accu :0.92 , test accu :0.87.\n",
            "[epoch 57] train accu :0.93 , test accu :0.87.\n",
            "[epoch 58] train accu :0.93 , test accu :0.87.\n",
            "[epoch 59] train accu :0.93 , test accu :0.86.\n",
            "[epoch 60] train accu :0.93 , test accu :0.86.\n",
            "[epoch 61] train accu :0.93 , test accu :0.86.\n",
            "[epoch 62] train accu :0.93 , test accu :0.86.\n",
            "[epoch 63] train accu :0.94 , test accu :0.86.\n",
            "[epoch 64] train accu :0.94 , test accu :0.87.\n",
            "[epoch 65] train accu :0.94 , test accu :0.87.\n",
            "[epoch 66] train accu :0.93 , test accu :0.87.\n",
            "[epoch 67] train accu :0.93 , test accu :0.87.\n",
            "[epoch 68] train accu :0.94 , test accu :0.87.\n",
            "[epoch 69] train accu :0.94 , test accu :0.87.\n",
            "[epoch 70] train accu :0.94 , test accu :0.87.\n",
            "[epoch 71] train accu :0.94 , test accu :0.87.\n",
            "[epoch 72] train accu :0.94 , test accu :0.87.\n",
            "[epoch 73] train accu :0.95 , test accu :0.86.\n",
            "[epoch 74] train accu :0.95 , test accu :0.88.\n",
            "[epoch 75] train accu :0.95 , test accu :0.87.\n",
            "[epoch 76] train accu :0.95 , test accu :0.87.\n",
            "[epoch 77] train accu :0.95 , test accu :0.88.\n",
            "[epoch 78] train accu :0.95 , test accu :0.87.\n",
            "[epoch 79] train accu :0.95 , test accu :0.86.\n",
            "[epoch 80] train accu :0.95 , test accu :0.86.\n",
            "[epoch 81] train accu :0.95 , test accu :0.86.\n",
            "[epoch 82] train accu :0.96 , test accu :0.86.\n",
            "[epoch 83] train accu :0.96 , test accu :0.87.\n",
            "[epoch 84] train accu :0.96 , test accu :0.88.\n",
            "[epoch 85] train accu :0.96 , test accu :0.87.\n",
            "[epoch 86] train accu :0.96 , test accu :0.87.\n",
            "[epoch 87] train accu :0.96 , test accu :0.87.\n",
            "[epoch 88] train accu :0.96 , test accu :0.87.\n",
            "[epoch 89] train accu :0.96 , test accu :0.87.\n",
            "[epoch 90] train accu :0.96 , test accu :0.88.\n",
            "[epoch 91] train accu :0.96 , test accu :0.88.\n",
            "[epoch 92] train accu :0.96 , test accu :0.88.\n",
            "[epoch 93] train accu :0.97 , test accu :0.88.\n",
            "[epoch 94] train accu :0.97 , test accu :0.88.\n",
            "[epoch 95] train accu :0.97 , test accu :0.88.\n",
            "[epoch 96] train accu :0.97 , test accu :0.88.\n",
            "[epoch 97] train accu :0.97 , test accu :0.88.\n",
            "[epoch 98] train accu :0.97 , test accu :0.88.\n",
            "[epoch 99] train accu :0.97 , test accu :0.88.\n",
            "[epoch 100] train accu :0.97 , test accu :0.88.\n",
            "[epoch 101] train accu :0.97 , test accu :0.89.\n",
            "[epoch 102] train accu :0.97 , test accu :0.88.\n",
            "[epoch 103] train accu :0.98 , test accu :0.88.\n",
            "[epoch 104] train accu :0.98 , test accu :0.88.\n",
            "[epoch 105] train accu :0.98 , test accu :0.88.\n",
            "[epoch 106] train accu :0.98 , test accu :0.88.\n",
            "[epoch 107] train accu :0.98 , test accu :0.88.\n",
            "[epoch 108] train accu :0.98 , test accu :0.88.\n",
            "[epoch 109] train accu :0.98 , test accu :0.88.\n",
            "[epoch 110] train accu :0.98 , test accu :0.88.\n",
            "[epoch 111] train accu :0.98 , test accu :0.88.\n",
            "[epoch 112] train accu :0.98 , test accu :0.88.\n",
            "[epoch 113] train accu :0.98 , test accu :0.88.\n",
            "[epoch 114] train accu :0.98 , test accu :0.88.\n",
            "[epoch 115] train accu :0.98 , test accu :0.88.\n",
            "[epoch 116] train accu :0.98 , test accu :0.88.\n",
            "[epoch 117] train accu :0.98 , test accu :0.88.\n",
            "[epoch 118] train accu :0.98 , test accu :0.88.\n",
            "[epoch 119] train accu :0.99 , test accu :0.88.\n",
            "[epoch 120] train accu :0.98 , test accu :0.88.\n",
            "[epoch 121] train accu :0.98 , test accu :0.88.\n",
            "[epoch 122] train accu :0.99 , test accu :0.88.\n",
            "[epoch 123] train accu :0.98 , test accu :0.88.\n",
            "[epoch 124] train accu :0.99 , test accu :0.88.\n",
            "[epoch 125] train accu :0.99 , test accu :0.88.\n",
            "[epoch 126] train accu :0.99 , test accu :0.88.\n",
            "[epoch 127] train accu :0.98 , test accu :0.88.\n",
            "[epoch 128] train accu :0.99 , test accu :0.88.\n",
            "[epoch 129] train accu :0.99 , test accu :0.87.\n",
            "[epoch 130] train accu :0.99 , test accu :0.87.\n",
            "[epoch 131] train accu :0.99 , test accu :0.88.\n",
            "[epoch 132] train accu :0.99 , test accu :0.87.\n",
            "[epoch 133] train accu :0.99 , test accu :0.87.\n",
            "[epoch 134] train accu :0.99 , test accu :0.87.\n",
            "[epoch 135] train accu :0.99 , test accu :0.88.\n",
            "[epoch 136] train accu :0.99 , test accu :0.87.\n",
            "[epoch 137] train accu :0.99 , test accu :0.87.\n",
            "[epoch 138] train accu :0.99 , test accu :0.88.\n",
            "[epoch 139] train accu :0.99 , test accu :0.88.\n",
            "[epoch 140] train accu :0.99 , test accu :0.88.\n",
            "[epoch 141] train accu :0.99 , test accu :0.87.\n",
            "[epoch 142] train accu :0.99 , test accu :0.87.\n",
            "[epoch 143] train accu :0.99 , test accu :0.86.\n",
            "[epoch 144] train accu :0.99 , test accu :0.86.\n",
            "[epoch 145] train accu :0.99 , test accu :0.87.\n",
            "[epoch 146] train accu :0.99 , test accu :0.87.\n",
            "[epoch 147] train accu :0.99 , test accu :0.87.\n",
            "[epoch 148] train accu :0.99 , test accu :0.87.\n",
            "[epoch 149] train accu :0.99 , test accu :0.87.\n",
            "[epoch 150] train accu :0.99 , test accu :0.87.\n",
            "[epoch 151] train accu :0.99 , test accu :0.89.\n",
            "[epoch 152] train accu :0.99 , test accu :0.89.\n",
            "[epoch 153] train accu :0.99 , test accu :0.88.\n",
            "[epoch 154] train accu :0.99 , test accu :0.87.\n",
            "[epoch 155] train accu :0.99 , test accu :0.87.\n",
            "[epoch 156] train accu :0.99 , test accu :0.87.\n",
            "[epoch 157] train accu :0.99 , test accu :0.87.\n",
            "[epoch 158] train accu :0.99 , test accu :0.87.\n",
            "[epoch 159] train accu :0.99 , test accu :0.88.\n",
            "[epoch 160] train accu :1.00 , test accu :0.88.\n",
            "[epoch 161] train accu :0.99 , test accu :0.88.\n",
            "[epoch 162] train accu :1.00 , test accu :0.88.\n",
            "[epoch 163] train accu :1.00 , test accu :0.88.\n",
            "[epoch 164] train accu :0.99 , test accu :0.87.\n",
            "[epoch 165] train accu :1.00 , test accu :0.87.\n",
            "[epoch 166] train accu :1.00 , test accu :0.87.\n",
            "[epoch 167] train accu :1.00 , test accu :0.87.\n",
            "[epoch 168] train accu :1.00 , test accu :0.87.\n",
            "[epoch 169] train accu :0.99 , test accu :0.87.\n",
            "[epoch 170] train accu :1.00 , test accu :0.88.\n",
            "[epoch 171] train accu :1.00 , test accu :0.88.\n",
            "[epoch 172] train accu :1.00 , test accu :0.88.\n",
            "[epoch 173] train accu :1.00 , test accu :0.88.\n",
            "[epoch 174] train accu :1.00 , test accu :0.87.\n",
            "[epoch 175] train accu :1.00 , test accu :0.87.\n",
            "[epoch 176] train accu :1.00 , test accu :0.87.\n",
            "[epoch 177] train accu :1.00 , test accu :0.87.\n",
            "[epoch 178] train accu :1.00 , test accu :0.87.\n",
            "[epoch 179] train accu :1.00 , test accu :0.87.\n",
            "[epoch 180] train accu :1.00 , test accu :0.87.\n",
            "[epoch 181] train accu :1.00 , test accu :0.87.\n",
            "[epoch 182] train accu :0.99 , test accu :0.87.\n",
            "[epoch 183] train accu :0.99 , test accu :0.87.\n",
            "[epoch 184] train accu :1.00 , test accu :0.87.\n",
            "[epoch 185] train accu :1.00 , test accu :0.87.\n",
            "[epoch 186] train accu :1.00 , test accu :0.87.\n",
            "[epoch 187] train accu :1.00 , test accu :0.87.\n",
            "[epoch 188] train accu :1.00 , test accu :0.87.\n",
            "[epoch 189] train accu :1.00 , test accu :0.87.\n",
            "[epoch 190] train accu :1.00 , test accu :0.87.\n",
            "[epoch 191] train accu :1.00 , test accu :0.87.\n",
            "[epoch 192] train accu :1.00 , test accu :0.87.\n",
            "[epoch 193] train accu :1.00 , test accu :0.87.\n",
            "[epoch 194] train accu :1.00 , test accu :0.87.\n",
            "[epoch 195] train accu :1.00 , test accu :0.87.\n",
            "[epoch 196] train accu :1.00 , test accu :0.87.\n",
            "[epoch 197] train accu :1.00 , test accu :0.87.\n",
            "[epoch 198] train accu :1.00 , test accu :0.87.\n",
            "[epoch 199] train accu :1.00 , test accu :0.87.\n",
            "[epoch 200] train accu :1.00 , test accu :0.87.\n"
          ]
        }
      ]
    }
  ]
}