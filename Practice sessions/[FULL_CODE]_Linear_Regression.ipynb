{
  "nbformat": 4,
  "nbformat_minor": 0,
  "metadata": {
    "colab": {
      "provenance": []
    },
    "kernelspec": {
      "name": "python3",
      "display_name": "Python 3"
    },
    "widgets": {
      "application/vnd.jupyter.widget-state+json": {
        "93be007b40214fd297a55259e39aac5f": {
          "model_module": "@jupyter-widgets/controls",
          "model_name": "HBoxModel",
          "model_module_version": "1.5.0",
          "state": {
            "_view_name": "HBoxView",
            "_dom_classes": [],
            "_model_name": "HBoxModel",
            "_view_module": "@jupyter-widgets/controls",
            "_model_module_version": "1.5.0",
            "_view_count": null,
            "_view_module_version": "1.5.0",
            "box_style": "",
            "layout": "IPY_MODEL_edaf9decefe94449ae90ef2e230959e9",
            "_model_module": "@jupyter-widgets/controls",
            "children": [
              "IPY_MODEL_11858caf62c842a58ed6aa6510793c34",
              "IPY_MODEL_3dba4c9d162e4ea9b2ed1799d4cb4602"
            ]
          }
        },
        "edaf9decefe94449ae90ef2e230959e9": {
          "model_module": "@jupyter-widgets/base",
          "model_name": "LayoutModel",
          "model_module_version": "1.2.0",
          "state": {
            "_view_name": "LayoutView",
            "grid_template_rows": null,
            "right": null,
            "justify_content": null,
            "_view_module": "@jupyter-widgets/base",
            "overflow": null,
            "_model_module_version": "1.2.0",
            "_view_count": null,
            "flex_flow": null,
            "width": null,
            "min_width": null,
            "border": null,
            "align_items": null,
            "bottom": null,
            "_model_module": "@jupyter-widgets/base",
            "top": null,
            "grid_column": null,
            "overflow_y": null,
            "overflow_x": null,
            "grid_auto_flow": null,
            "grid_area": null,
            "grid_template_columns": null,
            "flex": null,
            "_model_name": "LayoutModel",
            "justify_items": null,
            "grid_row": null,
            "max_height": null,
            "align_content": null,
            "visibility": null,
            "align_self": null,
            "height": null,
            "min_height": null,
            "padding": null,
            "grid_auto_rows": null,
            "grid_gap": null,
            "max_width": null,
            "order": null,
            "_view_module_version": "1.2.0",
            "grid_template_areas": null,
            "object_position": null,
            "object_fit": null,
            "grid_auto_columns": null,
            "margin": null,
            "display": null,
            "left": null
          }
        },
        "11858caf62c842a58ed6aa6510793c34": {
          "model_module": "@jupyter-widgets/controls",
          "model_name": "FloatProgressModel",
          "model_module_version": "1.5.0",
          "state": {
            "_view_name": "ProgressView",
            "style": "IPY_MODEL_8aeb616d578c4e4dbcbc31c0f7275512",
            "_dom_classes": [],
            "description": "100%",
            "_model_name": "FloatProgressModel",
            "bar_style": "success",
            "max": 1000,
            "_view_module": "@jupyter-widgets/controls",
            "_model_module_version": "1.5.0",
            "value": 1000,
            "_view_count": null,
            "_view_module_version": "1.5.0",
            "orientation": "horizontal",
            "min": 0,
            "description_tooltip": null,
            "_model_module": "@jupyter-widgets/controls",
            "layout": "IPY_MODEL_541b1496b54f416f9f33a831f2e09320"
          }
        },
        "3dba4c9d162e4ea9b2ed1799d4cb4602": {
          "model_module": "@jupyter-widgets/controls",
          "model_name": "HTMLModel",
          "model_module_version": "1.5.0",
          "state": {
            "_view_name": "HTMLView",
            "style": "IPY_MODEL_38049a21eabc4831b2e47237a28d5a90",
            "_dom_classes": [],
            "description": "",
            "_model_name": "HTMLModel",
            "placeholder": "​",
            "_view_module": "@jupyter-widgets/controls",
            "_model_module_version": "1.5.0",
            "value": " 1000/1000 [00:07&lt;00:00, 130.28it/s]",
            "_view_count": null,
            "_view_module_version": "1.5.0",
            "description_tooltip": null,
            "_model_module": "@jupyter-widgets/controls",
            "layout": "IPY_MODEL_1bbcfcce2f0d4774b451fb504d7b1dc9"
          }
        },
        "8aeb616d578c4e4dbcbc31c0f7275512": {
          "model_module": "@jupyter-widgets/controls",
          "model_name": "ProgressStyleModel",
          "model_module_version": "1.5.0",
          "state": {
            "_view_name": "StyleView",
            "_model_name": "ProgressStyleModel",
            "description_width": "initial",
            "_view_module": "@jupyter-widgets/base",
            "_model_module_version": "1.5.0",
            "_view_count": null,
            "_view_module_version": "1.2.0",
            "bar_color": null,
            "_model_module": "@jupyter-widgets/controls"
          }
        },
        "541b1496b54f416f9f33a831f2e09320": {
          "model_module": "@jupyter-widgets/base",
          "model_name": "LayoutModel",
          "model_module_version": "1.2.0",
          "state": {
            "_view_name": "LayoutView",
            "grid_template_rows": null,
            "right": null,
            "justify_content": null,
            "_view_module": "@jupyter-widgets/base",
            "overflow": null,
            "_model_module_version": "1.2.0",
            "_view_count": null,
            "flex_flow": null,
            "width": null,
            "min_width": null,
            "border": null,
            "align_items": null,
            "bottom": null,
            "_model_module": "@jupyter-widgets/base",
            "top": null,
            "grid_column": null,
            "overflow_y": null,
            "overflow_x": null,
            "grid_auto_flow": null,
            "grid_area": null,
            "grid_template_columns": null,
            "flex": null,
            "_model_name": "LayoutModel",
            "justify_items": null,
            "grid_row": null,
            "max_height": null,
            "align_content": null,
            "visibility": null,
            "align_self": null,
            "height": null,
            "min_height": null,
            "padding": null,
            "grid_auto_rows": null,
            "grid_gap": null,
            "max_width": null,
            "order": null,
            "_view_module_version": "1.2.0",
            "grid_template_areas": null,
            "object_position": null,
            "object_fit": null,
            "grid_auto_columns": null,
            "margin": null,
            "display": null,
            "left": null
          }
        },
        "38049a21eabc4831b2e47237a28d5a90": {
          "model_module": "@jupyter-widgets/controls",
          "model_name": "DescriptionStyleModel",
          "model_module_version": "1.5.0",
          "state": {
            "_view_name": "StyleView",
            "_model_name": "DescriptionStyleModel",
            "description_width": "",
            "_view_module": "@jupyter-widgets/base",
            "_model_module_version": "1.5.0",
            "_view_count": null,
            "_view_module_version": "1.2.0",
            "_model_module": "@jupyter-widgets/controls"
          }
        },
        "1bbcfcce2f0d4774b451fb504d7b1dc9": {
          "model_module": "@jupyter-widgets/base",
          "model_name": "LayoutModel",
          "model_module_version": "1.2.0",
          "state": {
            "_view_name": "LayoutView",
            "grid_template_rows": null,
            "right": null,
            "justify_content": null,
            "_view_module": "@jupyter-widgets/base",
            "overflow": null,
            "_model_module_version": "1.2.0",
            "_view_count": null,
            "flex_flow": null,
            "width": null,
            "min_width": null,
            "border": null,
            "align_items": null,
            "bottom": null,
            "_model_module": "@jupyter-widgets/base",
            "top": null,
            "grid_column": null,
            "overflow_y": null,
            "overflow_x": null,
            "grid_auto_flow": null,
            "grid_area": null,
            "grid_template_columns": null,
            "flex": null,
            "_model_name": "LayoutModel",
            "justify_items": null,
            "grid_row": null,
            "max_height": null,
            "align_content": null,
            "visibility": null,
            "align_self": null,
            "height": null,
            "min_height": null,
            "padding": null,
            "grid_auto_rows": null,
            "grid_gap": null,
            "max_width": null,
            "order": null,
            "_view_module_version": "1.2.0",
            "grid_template_areas": null,
            "object_position": null,
            "object_fit": null,
            "grid_auto_columns": null,
            "margin": null,
            "display": null,
            "left": null
          }
        }
      }
    }
  },
  "cells": [
    {
      "cell_type": "markdown",
      "metadata": {
        "id": "EAnVFOzm8e54"
      },
      "source": [
        "# Import Packages"
      ]
    },
    {
      "cell_type": "code",
      "metadata": {
        "id": "JFj1uat-xARX"
      },
      "source": [
        "import os\n",
        "import pickle\n",
        "\n",
        "# To see the progress\n",
        "from tqdm.notebook import tqdm\n",
        "\n",
        "import numpy as np\n",
        "\n",
        "# For visualization\n",
        "import matplotlib.pyplot as plt\n",
        "\n",
        "# Things related to the pytorch\n",
        "import torch                                        # main pytorch package\n",
        "import torch.nn as nn                               # pytorch module for neural network\n",
        "from torch.utils.data import Dataset, DataLoader    # pytorch utils for dataset"
      ],
      "execution_count": null,
      "outputs": []
    },
    {
      "cell_type": "markdown",
      "metadata": {
        "id": "m3snXumO88G7"
      },
      "source": [
        "# Make the dataset! add noise to the linear function\n",
        "- gt_w, gt_b : ground truth weight and bias for linear regression\n",
        "- x : random points\n",
        "- y : gt_w * x + gt_b + (gaussian) noise"
      ]
    },
    {
      "cell_type": "code",
      "metadata": {
        "id": "VcRUliGFxeH6"
      },
      "source": [
        "### make the linear dataset. Define the gt_w and gt_b as you want\n",
        "gt_w = 4.0\n",
        "gt_b = -2.0\n",
        "\n",
        "### define the number of data, and value of noise to add to wx+b.\n",
        "num_data = 1000\n",
        "noise_value = 2\n",
        "\n",
        "### Sample some random X between range -1~1\n",
        "x_range = np.array([-1, 1])\n",
        "x = np.linspace(x_range[0], x_range[1], num_data)#2 * np.random.rand(num_data) - 1\n",
        "\n",
        "### Define some noise to add to wx+b\n",
        "noise = noise_value * np.random.randn(num_data)\n",
        "y = gt_w * x + gt_b + noise"
      ],
      "execution_count": null,
      "outputs": []
    },
    {
      "cell_type": "code",
      "metadata": {
        "id": "lNg1zAcT-E_m",
        "colab": {
          "base_uri": "https://localhost:8080/",
          "height": 472
        },
        "outputId": "7ae3fdcf-01a0-404c-ae57-50d7c3244529"
      },
      "source": [
        "### Plot the dataset\n",
        "plt.figure(figsize=(12, 7))\n",
        "plt.plot(x, y, '.')\n",
        "\n",
        "### Plot the ground truth linear regressor\n",
        "plt.plot(x_range, x_range*gt_w+gt_b, linewidth=4)\n",
        "\n",
        "### Title and extras\n",
        "plt.title('Linear Dataset', fontsize=20)\n",
        "plt.xlabel('X', fontsize=20)\n",
        "plt.ylabel('Y', fontsize=20)\n",
        "plt.show()"
      ],
      "execution_count": null,
      "outputs": [
        {
          "output_type": "display_data",
          "data": {
            "image/png": "[encoded data removed]",
            "text/plain": [
              "<Figure size 864x504 with 1 Axes>"
            ]
          },
          "metadata": {
            "needs_background": "light"
          }
        }
      ]
    },
    {
      "cell_type": "markdown",
      "metadata": {
        "id": "Q0cfpMI6-LfL"
      },
      "source": [
        "# Define the Pytorch Dataset with x y points\n",
        "- Define your own class, which inherits from \"Dataset\" class of pytorch\n",
        "- Define constructor of the class with init\n",
        "- Define the length of the dataset with len\n",
        "- Define the function when bringing out the idx-th dataset\n",
        "    * Return the dictionary containing the input and output of single datapoint\n"
      ]
    },
    {
      "cell_type": "code",
      "metadata": {
        "id": "ijn8tboRy9jD"
      },
      "source": [
        "class XY_Dataset(Dataset):\n",
        "    def __init__(self, x, y):\n",
        "        '''\n",
        "        x : input points\n",
        "        y : output points\n",
        "        '''\n",
        "        self.x = x\n",
        "        self.y = y\n",
        "        self.num_data = x.shape[0]\n",
        "\n",
        "    def __len__(self):\n",
        "        return self.num_data\n",
        "\n",
        "    def __getitem__(self, idx):\n",
        "        sample = dict()\n",
        "        sample['x'] = self.x[idx]\n",
        "        sample['y'] = self.y[idx]\n",
        "\n",
        "        return sample"
      ],
      "execution_count": null,
      "outputs": []
    },
    {
      "cell_type": "markdown",
      "metadata": {
        "id": "a6Jn9ao2_CKn"
      },
      "source": [
        "# Define the dataset, and dataloader\n",
        "- DataLoader makes you to randomly sample the dataset with a batch size you want."
      ]
    },
    {
      "cell_type": "code",
      "metadata": {
        "id": "CnuQAIS90B-Z",
        "colab": {
          "base_uri": "https://localhost:8080/"
        },
        "outputId": "ad17c4ba-3318-42ef-e8f3-3cfb50edfe85"
      },
      "source": [
        "### Define the batch size you want\n",
        "batch_size = 64\n",
        "\n",
        "### Create the instance of dataset, and dataloader\n",
        "dataset = XY_Dataset(x, y)\n",
        "dataloader = DataLoader(dataset, batch_size, shuffle=True)\n",
        "\n",
        "### Try sampling out one random data point.\n",
        "sample = next(iter(dataloader))\n",
        "print(sample['x'].shape)\n",
        "print(sample['y'].shape)"
      ],
      "execution_count": null,
      "outputs": [
        {
          "output_type": "stream",
          "text": [
            "torch.Size([64])\n",
            "torch.Size([64])\n"
          ],
          "name": "stdout"
        }
      ]
    },
    {
      "cell_type": "markdown",
      "metadata": {
        "id": "lRQdUsk6_jmR"
      },
      "source": [
        "# Initialize the weight and bias."
      ]
    },
    {
      "cell_type": "code",
      "metadata": {
        "id": "lVwGIXk90uGt",
        "colab": {
          "base_uri": "https://localhost:8080/"
        },
        "outputId": "ff04fbd6-cc13-4cb9-98f5-a013ab749927"
      },
      "source": [
        "### Needs requires_grad=True, if you want to make as a parameter to train.\n",
        "pred_w = torch.randn(1, requires_grad=True)\n",
        "pred_b = torch.randn(1, requires_grad=True)\n",
        "print('Initialized w: {}, b: {}'.format(pred_w.item(), pred_b.item()))"
      ],
      "execution_count": null,
      "outputs": [
        {
          "output_type": "stream",
          "text": [
            "Initialized w: 0.9841861724853516, b: -0.3442767560482025\n"
          ],
          "name": "stdout"
        }
      ]
    },
    {
      "cell_type": "markdown",
      "metadata": {
        "id": "HOfw2aud_0n-"
      },
      "source": [
        "# Define the ,,train'' function. "
      ]
    },
    {
      "cell_type": "code",
      "metadata": {
        "id": "v2Sogfqk2rSh"
      },
      "source": [
        "def train(pred_w, pred_b, sample, learning_rate):\n",
        "    '''\n",
        "    pred_w : weight to train.\n",
        "    pred_b : bias to train.\n",
        "    sample : sample from dataloader. dictionary containing 'x' and 'y'.\n",
        "    learning_rate : the learning rate you want. \n",
        "    pred_loss : predicted loss from this iteration\n",
        "    '''\n",
        "    \n",
        "    # get prediction\n",
        "    pred_y = pred_w * sample['x'] + pred_b\n",
        "\n",
        "    # calculate the pred_loss\n",
        "    criteria = nn.MSELoss()\n",
        "    pred_loss = criteria(pred_y, sample['y'])\n",
        "    # pred_loss = torch.norm(pred_y - sample['y']) / len(sample['x'])\n",
        "    \n",
        "    # make pytorch compute the gradient\n",
        "    pred_loss.backward()\n",
        "\n",
        "    # need ``no_grad'' to keep the computed gradient. otherwise, it will generate NoneType\n",
        "    with torch.no_grad():\n",
        "        pred_w -= learning_rate * pred_w.grad\n",
        "        pred_b -= learning_rate * pred_b.grad\n",
        "\n",
        "    # initizlize the gradient to zero\n",
        "    pred_w.grad.zero_()\n",
        "    pred_b.grad.zero_()   \n",
        "\n",
        "    return pred_loss"
      ],
      "execution_count": null,
      "outputs": []
    },
    {
      "cell_type": "markdown",
      "metadata": {
        "id": "hxR6mMM7BQev"
      },
      "source": [
        "# Iterate over the dataset! With your ,,train'' function"
      ]
    },
    {
      "cell_type": "code",
      "metadata": {
        "id": "1-X2D2EA2m-E",
        "colab": {
          "base_uri": "https://localhost:8080/",
          "height": 448,
          "referenced_widgets": [
            "93be007b40214fd297a55259e39aac5f",
            "edaf9decefe94449ae90ef2e230959e9",
            "11858caf62c842a58ed6aa6510793c34",
            "3dba4c9d162e4ea9b2ed1799d4cb4602",
            "8aeb616d578c4e4dbcbc31c0f7275512",
            "541b1496b54f416f9f33a831f2e09320",
            "38049a21eabc4831b2e47237a28d5a90",
            "1bbcfcce2f0d4774b451fb504d7b1dc9"
          ]
        },
        "outputId": "4aa45cb4-f124-4aa1-8eb6-08fb8dc91cfd"
      },
      "source": [
        "# define the maximum epoch\n",
        "max_epoch = 1000\n",
        "\n",
        "# define a list to save the loss\n",
        "loss_saver = list()\n",
        "\n",
        "# define how often you will print the result\n",
        "print_stride = 50\n",
        "\n",
        "# iterate over the dataset for (max_epoch) times\n",
        "for epoch in tqdm(range(max_epoch)):\n",
        "    total_loss = 0.0\n",
        "    for idx, sample in enumerate(dataloader):\n",
        "        pred_loss = train(pred_w, pred_b, sample, learning_rate=0.01)\n",
        "        total_loss += pred_loss.item()/len(dataloader)\n",
        "\n",
        "    loss_saver.append(total_loss)\n",
        "    if epoch % print_stride == 0:\n",
        "        print('Epoch : {}, Loss : {}, pred_w : {}, pred_b : {}'.format(epoch, total_loss, pred_w.item(), pred_b.item()))\n",
        "\n",
        "print()\n",
        "print('Final Prediction : pred_w = {}, pred_b = {}'.format(pred_w.item(), pred_b.item()))"
      ],
      "execution_count": null,
      "outputs": [
        {
          "output_type": "display_data",
          "data": {
            "application/vnd.jupyter.widget-view+json": {
              "model_id": "93be007b40214fd297a55259e39aac5f",
              "version_minor": 0,
              "version_major": 2
            },
            "text/plain": [
              "HBox(children=(FloatProgress(value=0.0, max=1000.0), HTML(value='')))"
            ]
          },
          "metadata": {
            "tags": []
          }
        },
        {
          "output_type": "stream",
          "text": [
            "Epoch : 0, Loss : 8.395399328659774, pred_w : 1.292277455329895, pred_b : -0.7782865166664124\n",
            "Epoch : 50, Loss : 3.66862551896096, pred_w : 3.987197160720825, pred_b : -1.9539036750793457\n",
            "Epoch : 100, Loss : 3.6865822428231425, pred_w : 3.997896671295166, pred_b : -1.9578102827072144\n",
            "Epoch : 150, Loss : 3.674054680081812, pred_w : 4.0021891593933105, pred_b : -1.951858639717102\n",
            "Epoch : 200, Loss : 3.7009284236990596, pred_w : 3.9938173294067383, pred_b : -1.9556790590286255\n",
            "Epoch : 250, Loss : 3.726586006224482, pred_w : 4.002452850341797, pred_b : -1.9580464363098145\n",
            "Epoch : 300, Loss : 3.735116348988971, pred_w : 3.99509334564209, pred_b : -1.9497579336166382\n",
            "Epoch : 350, Loss : 3.7087835302345677, pred_w : 3.997483253479004, pred_b : -1.9500961303710938\n",
            "Epoch : 400, Loss : 3.69760213343147, pred_w : 3.99599289894104, pred_b : -1.9481905698776245\n",
            "Epoch : 450, Loss : 3.7106482549782953, pred_w : 3.997673511505127, pred_b : -1.9545021057128906\n",
            "Epoch : 500, Loss : 3.7012175724573333, pred_w : 3.9981415271759033, pred_b : -1.9613358974456787\n",
            "Epoch : 550, Loss : 3.689602433834435, pred_w : 4.002757549285889, pred_b : -1.9489996433258057\n",
            "Epoch : 600, Loss : 3.6899294742730078, pred_w : 3.9937665462493896, pred_b : -1.950332522392273\n",
            "Epoch : 650, Loss : 3.688233739360073, pred_w : 4.004146575927734, pred_b : -1.9424728155136108\n",
            "Epoch : 700, Loss : 3.710348545646993, pred_w : 4.001308917999268, pred_b : -1.9524375200271606\n",
            "Epoch : 750, Loss : 3.713638737436276, pred_w : 4.000971794128418, pred_b : -1.954032063484192\n",
            "Epoch : 800, Loss : 3.693040421892508, pred_w : 3.9988415241241455, pred_b : -1.9495372772216797\n",
            "Epoch : 850, Loss : 3.6742539675424406, pred_w : 3.998807907104492, pred_b : -1.948154091835022\n",
            "Epoch : 900, Loss : 3.7362367614073424, pred_w : 4.000575065612793, pred_b : -1.955735206604004\n",
            "Epoch : 950, Loss : 3.706687775223369, pred_w : 3.99729061126709, pred_b : -1.945618987083435\n",
            "\n",
            "\n",
            "Final Prediction : pred_w = 3.999575614929199, pred_b = -1.9534854888916016\n"
          ],
          "name": "stdout"
        }
      ]
    },
    {
      "cell_type": "markdown",
      "metadata": {
        "id": "x_Ch5xY3B_0w"
      },
      "source": [
        "# Plot the result : training loss and resulted linear regressor"
      ]
    },
    {
      "cell_type": "code",
      "metadata": {
        "id": "gJeS6J9W6j3h",
        "colab": {
          "base_uri": "https://localhost:8080/",
          "height": 472
        },
        "outputId": "9b28bdb7-420a-4500-dcbf-7b50b0691c7c"
      },
      "source": [
        "loss_saver = np.array(loss_saver)\n",
        "plt.figure(figsize=(12, 7))\n",
        "plt.plot(np.arange(len(loss_saver)), loss_saver, '.-')\n",
        "plt.title('Training Loss', fontsize=20)\n",
        "plt.xlabel('X', fontsize=20)\n",
        "plt.ylabel('Y', fontsize=20)\n",
        "plt.show()"
      ],
      "execution_count": null,
      "outputs": [
        {
          "output_type": "display_data",
          "data": {
            "image/png": "[encoded data removed]",
            "text/plain": [
              "<Figure size 864x504 with 1 Axes>"
            ]
          },
          "metadata": {
            "tags": [],
            "needs_background": "light"
          }
        }
      ]
    },
    {
      "cell_type": "code",
      "metadata": {
        "id": "UQEEZhkZ72RL",
        "colab": {
          "base_uri": "https://localhost:8080/",
          "height": 472
        },
        "outputId": "101d33ac-79f7-4ce3-aa55-61e6c7ee3dee"
      },
      "source": [
        "plt.figure(figsize=(12, 7))\n",
        "\n",
        "### Plot the dataset\n",
        "plt.plot(x, y, '.')\n",
        "\n",
        "### Plot the ground truth + predicted linear regressor\n",
        "plt.plot(x_range, x_range*gt_w + gt_b, linewidth=4, label='Ground Truth')\n",
        "plt.plot(x_range, x_range*pred_w.item() + pred_b.item(), linewidth=4, label='Prediction')\n",
        "\n",
        "### Title and extras\n",
        "plt.title('Linear Dataset', fontsize=20)\n",
        "plt.xlabel('X', fontsize=20)\n",
        "plt.ylabel('Y', fontsize=20)\n",
        "plt.legend()\n",
        "plt.show()"
      ],
      "execution_count": null,
      "outputs": [
        {
          "output_type": "display_data",
          "data": {
            "image/png": "[encoded data removed]",
            "text/plain": [
              "<Figure size 864x504 with 1 Axes>"
            ]
          },
          "metadata": {
            "tags": [],
            "needs_background": "light"
          }
        }
      ]
    }
  ]
}