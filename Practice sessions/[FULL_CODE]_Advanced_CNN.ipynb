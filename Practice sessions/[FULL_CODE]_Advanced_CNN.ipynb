{
  "nbformat": 4,
  "nbformat_minor": 0,
  "metadata": {
    "colab": {
      "provenance": [],
      "collapsed_sections": [
        "DUSpLgVXIwqG"
      ]
    },
    "kernelspec": {
      "name": "python3",
      "display_name": "Python 3"
    },
    "accelerator": "GPU",
    "widgets": {
      "application/vnd.jupyter.widget-state+json": {
        "25b69cee69b24e93bfdcc8a891659212": {
          "model_module": "@jupyter-widgets/controls",
          "model_name": "HBoxModel",
          "model_module_version": "1.5.0",
          "state": {
            "_dom_classes": [],
            "_model_module": "@jupyter-widgets/controls",
            "_model_module_version": "1.5.0",
            "_model_name": "HBoxModel",
            "_view_count": null,
            "_view_module": "@jupyter-widgets/controls",
            "_view_module_version": "1.5.0",
            "_view_name": "HBoxView",
            "box_style": "",
            "children": [
              "IPY_MODEL_26ff3331ed304f47ba747ede3393e19f",
              "IPY_MODEL_31841e5a80e042e19a1df09487e7afce",
              "IPY_MODEL_b47b7d2329a0402d9582774a35117253"
            ],
            "layout": "IPY_MODEL_4aee6b3d2d7c4b7b918a765498095fef"
          }
        },
        "26ff3331ed304f47ba747ede3393e19f": {
          "model_module": "@jupyter-widgets/controls",
          "model_name": "HTMLModel",
          "model_module_version": "1.5.0",
          "state": {
            "_dom_classes": [],
            "_model_module": "@jupyter-widgets/controls",
            "_model_module_version": "1.5.0",
            "_model_name": "HTMLModel",
            "_view_count": null,
            "_view_module": "@jupyter-widgets/controls",
            "_view_module_version": "1.5.0",
            "_view_name": "HTMLView",
            "description": "",
            "description_tooltip": null,
            "layout": "IPY_MODEL_e875f9e9551a4d7e9898ef64540526e2",
            "placeholder": "​",
            "style": "IPY_MODEL_a820033d0b094da9a4e50672f39786a9",
            "value": " 70%"
          }
        },
        "31841e5a80e042e19a1df09487e7afce": {
          "model_module": "@jupyter-widgets/controls",
          "model_name": "FloatProgressModel",
          "model_module_version": "1.5.0",
          "state": {
            "_dom_classes": [],
            "_model_module": "@jupyter-widgets/controls",
            "_model_module_version": "1.5.0",
            "_model_name": "FloatProgressModel",
            "_view_count": null,
            "_view_module": "@jupyter-widgets/controls",
            "_view_module_version": "1.5.0",
            "_view_name": "ProgressView",
            "bar_style": "",
            "description": "",
            "description_tooltip": null,
            "layout": "IPY_MODEL_de5fb639c6724c7a8c1d6e2d497b90e4",
            "max": 200,
            "min": 0,
            "orientation": "horizontal",
            "style": "IPY_MODEL_5b558033327c42cab0d4770bfc3517d1",
            "value": 139
          }
        },
        "b47b7d2329a0402d9582774a35117253": {
          "model_module": "@jupyter-widgets/controls",
          "model_name": "HTMLModel",
          "model_module_version": "1.5.0",
          "state": {
            "_dom_classes": [],
            "_model_module": "@jupyter-widgets/controls",
            "_model_module_version": "1.5.0",
            "_model_name": "HTMLModel",
            "_view_count": null,
            "_view_module": "@jupyter-widgets/controls",
            "_view_module_version": "1.5.0",
            "_view_name": "HTMLView",
            "description": "",
            "description_tooltip": null,
            "layout": "IPY_MODEL_8246323f487c44f18465ea4fa8418c5f",
            "placeholder": "​",
            "style": "IPY_MODEL_400a33703d654a73acd8013a1e16859d",
            "value": " 139/200 [3:24:24&lt;1:28:45, 87.31s/it]"
          }
        },
        "4aee6b3d2d7c4b7b918a765498095fef": {
          "model_module": "@jupyter-widgets/base",
          "model_name": "LayoutModel",
          "model_module_version": "1.2.0",
          "state": {
            "_model_module": "@jupyter-widgets/base",
            "_model_module_version": "1.2.0",
            "_model_name": "LayoutModel",
            "_view_count": null,
            "_view_module": "@jupyter-widgets/base",
            "_view_module_version": "1.2.0",
            "_view_name": "LayoutView",
            "align_content": null,
            "align_items": null,
            "align_self": null,
            "border": null,
            "bottom": null,
            "display": null,
            "flex": null,
            "flex_flow": null,
            "grid_area": null,
            "grid_auto_columns": null,
            "grid_auto_flow": null,
            "grid_auto_rows": null,
            "grid_column": null,
            "grid_gap": null,
            "grid_row": null,
            "grid_template_areas": null,
            "grid_template_columns": null,
            "grid_template_rows": null,
            "height": null,
            "justify_content": null,
            "justify_items": null,
            "left": null,
            "margin": null,
            "max_height": null,
            "max_width": null,
            "min_height": null,
            "min_width": null,
            "object_fit": null,
            "object_position": null,
            "order": null,
            "overflow": null,
            "overflow_x": null,
            "overflow_y": null,
            "padding": null,
            "right": null,
            "top": null,
            "visibility": null,
            "width": null
          }
        },
        "e875f9e9551a4d7e9898ef64540526e2": {
          "model_module": "@jupyter-widgets/base",
          "model_name": "LayoutModel",
          "model_module_version": "1.2.0",
          "state": {
            "_model_module": "@jupyter-widgets/base",
            "_model_module_version": "1.2.0",
            "_model_name": "LayoutModel",
            "_view_count": null,
            "_view_module": "@jupyter-widgets/base",
            "_view_module_version": "1.2.0",
            "_view_name": "LayoutView",
            "align_content": null,
            "align_items": null,
            "align_self": null,
            "border": null,
            "bottom": null,
            "display": null,
            "flex": null,
            "flex_flow": null,
            "grid_area": null,
            "grid_auto_columns": null,
            "grid_auto_flow": null,
            "grid_auto_rows": null,
            "grid_column": null,
            "grid_gap": null,
            "grid_row": null,
            "grid_template_areas": null,
            "grid_template_columns": null,
            "grid_template_rows": null,
            "height": null,
            "justify_content": null,
            "justify_items": null,
            "left": null,
            "margin": null,
            "max_height": null,
            "max_width": null,
            "min_height": null,
            "min_width": null,
            "object_fit": null,
            "object_position": null,
            "order": null,
            "overflow": null,
            "overflow_x": null,
            "overflow_y": null,
            "padding": null,
            "right": null,
            "top": null,
            "visibility": null,
            "width": null
          }
        },
        "a820033d0b094da9a4e50672f39786a9": {
          "model_module": "@jupyter-widgets/controls",
          "model_name": "DescriptionStyleModel",
          "model_module_version": "1.5.0",
          "state": {
            "_model_module": "@jupyter-widgets/controls",
            "_model_module_version": "1.5.0",
            "_model_name": "DescriptionStyleModel",
            "_view_count": null,
            "_view_module": "@jupyter-widgets/base",
            "_view_module_version": "1.2.0",
            "_view_name": "StyleView",
            "description_width": ""
          }
        },
        "de5fb639c6724c7a8c1d6e2d497b90e4": {
          "model_module": "@jupyter-widgets/base",
          "model_name": "LayoutModel",
          "model_module_version": "1.2.0",
          "state": {
            "_model_module": "@jupyter-widgets/base",
            "_model_module_version": "1.2.0",
            "_model_name": "LayoutModel",
            "_view_count": null,
            "_view_module": "@jupyter-widgets/base",
            "_view_module_version": "1.2.0",
            "_view_name": "LayoutView",
            "align_content": null,
            "align_items": null,
            "align_self": null,
            "border": null,
            "bottom": null,
            "display": null,
            "flex": null,
            "flex_flow": null,
            "grid_area": null,
            "grid_auto_columns": null,
            "grid_auto_flow": null,
            "grid_auto_rows": null,
            "grid_column": null,
            "grid_gap": null,
            "grid_row": null,
            "grid_template_areas": null,
            "grid_template_columns": null,
            "grid_template_rows": null,
            "height": null,
            "justify_content": null,
            "justify_items": null,
            "left": null,
            "margin": null,
            "max_height": null,
            "max_width": null,
            "min_height": null,
            "min_width": null,
            "object_fit": null,
            "object_position": null,
            "order": null,
            "overflow": null,
            "overflow_x": null,
            "overflow_y": null,
            "padding": null,
            "right": null,
            "top": null,
            "visibility": null,
            "width": null
          }
        },
        "5b558033327c42cab0d4770bfc3517d1": {
          "model_module": "@jupyter-widgets/controls",
          "model_name": "ProgressStyleModel",
          "model_module_version": "1.5.0",
          "state": {
            "_model_module": "@jupyter-widgets/controls",
            "_model_module_version": "1.5.0",
            "_model_name": "ProgressStyleModel",
            "_view_count": null,
            "_view_module": "@jupyter-widgets/base",
            "_view_module_version": "1.2.0",
            "_view_name": "StyleView",
            "bar_color": null,
            "description_width": ""
          }
        },
        "8246323f487c44f18465ea4fa8418c5f": {
          "model_module": "@jupyter-widgets/base",
          "model_name": "LayoutModel",
          "model_module_version": "1.2.0",
          "state": {
            "_model_module": "@jupyter-widgets/base",
            "_model_module_version": "1.2.0",
            "_model_name": "LayoutModel",
            "_view_count": null,
            "_view_module": "@jupyter-widgets/base",
            "_view_module_version": "1.2.0",
            "_view_name": "LayoutView",
            "align_content": null,
            "align_items": null,
            "align_self": null,
            "border": null,
            "bottom": null,
            "display": null,
            "flex": null,
            "flex_flow": null,
            "grid_area": null,
            "grid_auto_columns": null,
            "grid_auto_flow": null,
            "grid_auto_rows": null,
            "grid_column": null,
            "grid_gap": null,
            "grid_row": null,
            "grid_template_areas": null,
            "grid_template_columns": null,
            "grid_template_rows": null,
            "height": null,
            "justify_content": null,
            "justify_items": null,
            "left": null,
            "margin": null,
            "max_height": null,
            "max_width": null,
            "min_height": null,
            "min_width": null,
            "object_fit": null,
            "object_position": null,
            "order": null,
            "overflow": null,
            "overflow_x": null,
            "overflow_y": null,
            "padding": null,
            "right": null,
            "top": null,
            "visibility": null,
            "width": null
          }
        },
        "400a33703d654a73acd8013a1e16859d": {
          "model_module": "@jupyter-widgets/controls",
          "model_name": "DescriptionStyleModel",
          "model_module_version": "1.5.0",
          "state": {
            "_model_module": "@jupyter-widgets/controls",
            "_model_module_version": "1.5.0",
            "_model_name": "DescriptionStyleModel",
            "_view_count": null,
            "_view_module": "@jupyter-widgets/base",
            "_view_module_version": "1.2.0",
            "_view_name": "StyleView",
            "description_width": ""
          }
        }
      }
    }
  },
  "cells": [
    {
      "cell_type": "markdown",
      "metadata": {
        "id": "kmIOkV65f5S0"
      },
      "source": [
        "### Import Packages\n"
      ]
    },
    {
      "cell_type": "code",
      "metadata": {
        "id": "X1f7bWu9lJtX",
        "colab": {
          "base_uri": "https://localhost:8080/"
        },
        "outputId": "f2db573a-ae8d-450c-8ced-9b5f633395eb"
      },
      "source": [
        "import os\n",
        "import csv\n",
        "import numpy as np\n",
        "from tqdm.notebook import tqdm\n",
        "import random\n",
        "import matplotlib.pyplot as plt\n",
        "\n",
        "import torch\n",
        "import torchvision\n",
        "import torch.nn as nn\n",
        "import torch.nn.functional as F\n",
        "import torch.optim as optim\n",
        "from torch.utils.data import Dataset, DataLoader\n",
        "\n",
        "print(torch.__version__)"
      ],
      "execution_count": null,
      "outputs": [
        {
          "output_type": "stream",
          "name": "stdout",
          "text": [
            "1.12.1+cu113\n"
          ]
        }
      ]
    },
    {
      "cell_type": "code",
      "source": [
        "seed = 0\n",
        "random.seed(seed)\n",
        "np.random.seed(seed)\n",
        "torch.manual_seed(seed)\n",
        "torch.cuda.manual_seed_all(seed)\n",
        "torch.backends.cudnn.deterministic = True"
      ],
      "metadata": {
        "id": "PCB8klXxOZMF"
      },
      "execution_count": null,
      "outputs": []
    },
    {
      "cell_type": "markdown",
      "metadata": {
        "id": "TTj1RldNHgSQ"
      },
      "source": [
        "### Let's load the Flowers102 dataset\n"
      ]
    },
    {
      "cell_type": "code",
      "metadata": {
        "id": "pcMuF_m9Ev8W"
      },
      "source": [
        "data_path = './Flowers'\n",
        "batch_size = 256\n",
        "\n",
        "my_transform = torchvision.transforms.Compose([\n",
        "    torchvision.transforms.ToTensor(),\n",
        "    torchvision.transforms.Resize(224),\n",
        "    torchvision.transforms.CenterCrop((224, 224)),\n",
        "    torchvision.transforms.Normalize(mean=[0.485, 0.456, 0.406], std=[0.229, 0.224, 0.225]),\n",
        "    ]\n",
        "    )\n",
        "\n",
        "train_dataset = torchvision.datasets.Flowers102(data_path, 'train', transform= my_transform, download=True)\n",
        "test_dataset = torchvision.datasets.Flowers102(data_path, 'test', transform= my_transform, download=True)\n",
        "train_dataloader = DataLoader(train_dataset, batch_size= batch_size, shuffle=True)\n",
        "test_dataloader = DataLoader(test_dataset, batch_size=batch_size, shuffle=False)"
      ],
      "execution_count": null,
      "outputs": []
    },
    {
      "cell_type": "markdown",
      "metadata": {
        "id": "PYiku-SxHnA6"
      },
      "source": [
        "### Choose your device - use GPU or not?"
      ]
    },
    {
      "cell_type": "code",
      "metadata": {
        "id": "k44xmCOHHmF4",
        "colab": {
          "base_uri": "https://localhost:8080/"
        },
        "outputId": "b010fb81-ce3d-462e-acea-fd73d01ab954"
      },
      "source": [
        "# device = 'cpu'\n",
        "device = 'cuda' if torch.cuda.is_available() else 'cpu'\n",
        "print('Current Device : {}'.format(device))"
      ],
      "execution_count": null,
      "outputs": [
        {
          "output_type": "stream",
          "name": "stdout",
          "text": [
            "Current Device : cuda\n"
          ]
        }
      ]
    },
    {
      "cell_type": "markdown",
      "metadata": {
        "id": "sT_N_IqnIQgQ"
      },
      "source": [
        "### Try to sample out one data point from dataloader"
      ]
    },
    {
      "cell_type": "code",
      "metadata": {
        "id": "RAiU23NUKFl7",
        "colab": {
          "base_uri": "https://localhost:8080/"
        },
        "outputId": "7ec4727c-cf4b-41fb-95d9-d1ce45945e52"
      },
      "source": [
        "sample = next(iter(train_dataloader))\n",
        "# sample = test_dataset[1]\n",
        "print(sample[0].shape)\n",
        "print(sample[1])"
      ],
      "execution_count": null,
      "outputs": [
        {
          "output_type": "stream",
          "name": "stdout",
          "text": [
            "torch.Size([256, 3, 224, 224])\n",
            "tensor([ 72,  85,   1,  53,  79,  53,  19,  91,  91,  20,   7,  72,  84,  41,\n",
            "         24,  34,  22,  38,  25,  74,  48,  40,  32,  76,  56,  91,  80,  51,\n",
            "          6,  49,   0,  28,  58,  46,   1,  23,  51,  59,  10,  11,  37,  36,\n",
            "         54,  69,  16,  87,  28,  10,  90,  89,  85,  71,   3,  17,  75,  91,\n",
            "         40,  49,  22,  33,  29,  24,  20,  79,  41,   0,  27,  51,  72, 100,\n",
            "         85,  39,  52,  14,  77,   3,  87,  22,  61,  98,  99,  22,  58,  71,\n",
            "         66,  54,  43,  42,  53,  93,  49,  81,  53,  92,  60,  66,  46,  15,\n",
            "         29,  74,  72,  35,  84,  87,  67,  94,  24,  28,  80,  60,  91,   5,\n",
            "        100,  84,   9,   3,  61,  78,  87,  10, 100,  22,  83,   1,   8,  82,\n",
            "         68,  94,  80,  74,  46,   6,  44,   4,  61,  47,  24,  26,  43,   4,\n",
            "         13,  27,  94,  23,  89,  27,   8,  52,  53,   1,  79, 100,  80,  19,\n",
            "         96,  15,  38,  95,  17,  92,  80,  35,  17,  83,  26,  45,  32,  86,\n",
            "         64,  69,  69,  72,  21,   7,  34,  28,  50,   6,  63,  16,  36,  61,\n",
            "         71,  33,  12,  66,  24,  17,  12,   7,  61,  88,  60,  19,  76,   7,\n",
            "         43,  64,  96,  20,  30,  58,  93,  14,  42,  21,   4,  82,  26,  61,\n",
            "         53,  59,  37,  23,  65,  31,  45,  46,  34,   8,  93,   0,  63,  18,\n",
            "         94,  11,  94,  54,  60,  23,  97,  62,  82,  69,  99,  62,  53,  24,\n",
            "         29,  36,  39,  55,  64, 101,  57,  37,  11,  98, 101,   2,  57,   8,\n",
            "         73,  91,  96,  12])\n"
          ]
        }
      ]
    },
    {
      "cell_type": "code",
      "metadata": {
        "id": "XnDU90xVTpqC",
        "colab": {
          "base_uri": "https://localhost:8080/",
          "height": 300
        },
        "outputId": "71226ac7-7718-4a78-d750-718942cef0c4"
      },
      "source": [
        "fig, ax = plt.subplots(1, 10, figsize=(15, 4))\n",
        "for plot_idx in range(10):\n",
        "    ax[plot_idx].imshow(sample[0][plot_idx].permute(1, 2, 0))\n",
        "    ax[plot_idx].set_title('LABEL : {}'.format(sample[1][plot_idx]))\n",
        "    ax[plot_idx].set_xticks([])\n",
        "    ax[plot_idx].set_yticks([])\n",
        "plt.show()"
      ],
      "execution_count": null,
      "outputs": [
        {
          "output_type": "stream",
          "name": "stderr",
          "text": [
            "WARNING:matplotlib.image:Clipping input data to the valid range for imshow with RGB data ([0..1] for floats or [0..255] for integers).\n",
            "WARNING:matplotlib.image:Clipping input data to the valid range for imshow with RGB data ([0..1] for floats or [0..255] for integers).\n",
            "WARNING:matplotlib.image:Clipping input data to the valid range for imshow with RGB data ([0..1] for floats or [0..255] for integers).\n",
            "WARNING:matplotlib.image:Clipping input data to the valid range for imshow with RGB data ([0..1] for floats or [0..255] for integers).\n",
            "WARNING:matplotlib.image:Clipping input data to the valid range for imshow with RGB data ([0..1] for floats or [0..255] for integers).\n",
            "WARNING:matplotlib.image:Clipping input data to the valid range for imshow with RGB data ([0..1] for floats or [0..255] for integers).\n",
            "WARNING:matplotlib.image:Clipping input data to the valid range for imshow with RGB data ([0..1] for floats or [0..255] for integers).\n",
            "WARNING:matplotlib.image:Clipping input data to the valid range for imshow with RGB data ([0..1] for floats or [0..255] for integers).\n",
            "WARNING:matplotlib.image:Clipping input data to the valid range for imshow with RGB data ([0..1] for floats or [0..255] for integers).\n",
            "WARNING:matplotlib.image:Clipping input data to the valid range for imshow with RGB data ([0..1] for floats or [0..255] for integers).\n"
          ]
        },
        {
          "output_type": "display_data",
          "data": {
            "text/plain": [
              "<Figure size 1080x288 with 10 Axes>"
            ],
            "image/png": "[encoded data removed]"
          },
          "metadata": {}
        }
      ]
    },
    {
      "cell_type": "markdown",
      "metadata": {
        "id": "LEjuX7lWIYlb"
      },
      "source": [
        "### Define the ResNet Based Model"
      ]
    },
    {
      "cell_type": "code",
      "metadata": {
        "id": "Cx-fxCW5JD_w"
      },
      "source": [
        "class ResNets(nn.Module):\n",
        "    def __init__(self, dim_output=102):\n",
        "        super(ResNets, self).__init__()\n",
        "        self.resnet = torchvision.models.resnet50(weights=torchvision.models.ResNet50_Weights.DEFAULT)\n",
        "\n",
        "        for p in self.resnet.parameters():\n",
        "            p.requires_grad = False\n",
        "\n",
        "        for p in list(self.resnet.layer4.parameters()):\n",
        "            p.requires_grad = True\n",
        "\n",
        "        self.resnet.fc = nn.Linear(2048, dim_output)\n",
        "        \n",
        "    def forward(self, img):\n",
        "        return self.resnet(img)\n",
        "\n",
        "\n",
        "# class new_model(nn.Module):\n",
        "#     def __init__(self, output_layer):\n",
        "#         super().__init__()\n",
        "#         self.output_layer = output_layer\n",
        "#         self.pretrained = models.resnet18(pretrained=True)\n",
        "#         self.children_list = []\n",
        "#         for n,c in self.pretrained.named_children():\n",
        "#             self.children_list.append(c)\n",
        "#             if n == self.output_layer:\n",
        "#                 break\n",
        "\n",
        "#         self.net = nn.Sequential(*self.children_list)\n",
        "#         self.pretrained = None\n",
        "        \n",
        "#     def forward(self,x):\n",
        "#         x = self.net(x)\n",
        "#         return x"
      ],
      "execution_count": null,
      "outputs": []
    },
    {
      "cell_type": "markdown",
      "metadata": {
        "id": "r4hjFl4-IsqO"
      },
      "source": [
        "### Define the Model"
      ]
    },
    {
      "cell_type": "code",
      "metadata": {
        "id": "ZWtw-y-MKuv1",
        "colab": {
          "base_uri": "https://localhost:8080/"
        },
        "outputId": "746b154c-0bc9-4283-eea2-3ab8d8f20609"
      },
      "source": [
        "model = ResNets()\n",
        "model = model.to(device)\n",
        "\n",
        "optimizer = optim.Adam(model.parameters(), lr=1e-4, weight_decay=1e-5)\n",
        "\n",
        "print(model)"
      ],
      "execution_count": null,
      "outputs": [
        {
          "output_type": "stream",
          "name": "stdout",
          "text": [
            "ResNets(\n",
            "  (resnet): ResNet(\n",
            "    (conv1): Conv2d(3, 64, kernel_size=(7, 7), stride=(2, 2), padding=(3, 3), bias=False)\n",
            "    (bn1): BatchNorm2d(64, eps=1e-05, momentum=0.1, affine=True, track_running_stats=True)\n",
            "    (relu): ReLU(inplace=True)\n",
            "    (maxpool): MaxPool2d(kernel_size=3, stride=2, padding=1, dilation=1, ceil_mode=False)\n",
            "    (layer1): Sequential(\n",
            "      (0): Bottleneck(\n",
            "        (conv1): Conv2d(64, 64, kernel_size=(1, 1), stride=(1, 1), bias=False)\n",
            "        (bn1): BatchNorm2d(64, eps=1e-05, momentum=0.1, affine=True, track_running_stats=True)\n",
            "        (conv2): Conv2d(64, 64, kernel_size=(3, 3), stride=(1, 1), padding=(1, 1), bias=False)\n",
            "        (bn2): BatchNorm2d(64, eps=1e-05, momentum=0.1, affine=True, track_running_stats=True)\n",
            "        (conv3): Conv2d(64, 256, kernel_size=(1, 1), stride=(1, 1), bias=False)\n",
            "        (bn3): BatchNorm2d(256, eps=1e-05, momentum=0.1, affine=True, track_running_stats=True)\n",
            "        (relu): ReLU(inplace=True)\n",
            "        (downsample): Sequential(\n",
            "          (0): Conv2d(64, 256, kernel_size=(1, 1), stride=(1, 1), bias=False)\n",
            "          (1): BatchNorm2d(256, eps=1e-05, momentum=0.1, affine=True, track_running_stats=True)\n",
            "        )\n",
            "      )\n",
            "      (1): Bottleneck(\n",
            "        (conv1): Conv2d(256, 64, kernel_size=(1, 1), stride=(1, 1), bias=False)\n",
            "        (bn1): BatchNorm2d(64, eps=1e-05, momentum=0.1, affine=True, track_running_stats=True)\n",
            "        (conv2): Conv2d(64, 64, kernel_size=(3, 3), stride=(1, 1), padding=(1, 1), bias=False)\n",
            "        (bn2): BatchNorm2d(64, eps=1e-05, momentum=0.1, affine=True, track_running_stats=True)\n",
            "        (conv3): Conv2d(64, 256, kernel_size=(1, 1), stride=(1, 1), bias=False)\n",
            "        (bn3): BatchNorm2d(256, eps=1e-05, momentum=0.1, affine=True, track_running_stats=True)\n",
            "        (relu): ReLU(inplace=True)\n",
            "      )\n",
            "      (2): Bottleneck(\n",
            "        (conv1): Conv2d(256, 64, kernel_size=(1, 1), stride=(1, 1), bias=False)\n",
            "        (bn1): BatchNorm2d(64, eps=1e-05, momentum=0.1, affine=True, track_running_stats=True)\n",
            "        (conv2): Conv2d(64, 64, kernel_size=(3, 3), stride=(1, 1), padding=(1, 1), bias=False)\n",
            "        (bn2): BatchNorm2d(64, eps=1e-05, momentum=0.1, affine=True, track_running_stats=True)\n",
            "        (conv3): Conv2d(64, 256, kernel_size=(1, 1), stride=(1, 1), bias=False)\n",
            "        (bn3): BatchNorm2d(256, eps=1e-05, momentum=0.1, affine=True, track_running_stats=True)\n",
            "        (relu): ReLU(inplace=True)\n",
            "      )\n",
            "    )\n",
            "    (layer2): Sequential(\n",
            "      (0): Bottleneck(\n",
            "        (conv1): Conv2d(256, 128, kernel_size=(1, 1), stride=(1, 1), bias=False)\n",
            "        (bn1): BatchNorm2d(128, eps=1e-05, momentum=0.1, affine=True, track_running_stats=True)\n",
            "        (conv2): Conv2d(128, 128, kernel_size=(3, 3), stride=(2, 2), padding=(1, 1), bias=False)\n",
            "        (bn2): BatchNorm2d(128, eps=1e-05, momentum=0.1, affine=True, track_running_stats=True)\n",
            "        (conv3): Conv2d(128, 512, kernel_size=(1, 1), stride=(1, 1), bias=False)\n",
            "        (bn3): BatchNorm2d(512, eps=1e-05, momentum=0.1, affine=True, track_running_stats=True)\n",
            "        (relu): ReLU(inplace=True)\n",
            "        (downsample): Sequential(\n",
            "          (0): Conv2d(256, 512, kernel_size=(1, 1), stride=(2, 2), bias=False)\n",
            "          (1): BatchNorm2d(512, eps=1e-05, momentum=0.1, affine=True, track_running_stats=True)\n",
            "        )\n",
            "      )\n",
            "      (1): Bottleneck(\n",
            "        (conv1): Conv2d(512, 128, kernel_size=(1, 1), stride=(1, 1), bias=False)\n",
            "        (bn1): BatchNorm2d(128, eps=1e-05, momentum=0.1, affine=True, track_running_stats=True)\n",
            "        (conv2): Conv2d(128, 128, kernel_size=(3, 3), stride=(1, 1), padding=(1, 1), bias=False)\n",
            "        (bn2): BatchNorm2d(128, eps=1e-05, momentum=0.1, affine=True, track_running_stats=True)\n",
            "        (conv3): Conv2d(128, 512, kernel_size=(1, 1), stride=(1, 1), bias=False)\n",
            "        (bn3): BatchNorm2d(512, eps=1e-05, momentum=0.1, affine=True, track_running_stats=True)\n",
            "        (relu): ReLU(inplace=True)\n",
            "      )\n",
            "      (2): Bottleneck(\n",
            "        (conv1): Conv2d(512, 128, kernel_size=(1, 1), stride=(1, 1), bias=False)\n",
            "        (bn1): BatchNorm2d(128, eps=1e-05, momentum=0.1, affine=True, track_running_stats=True)\n",
            "        (conv2): Conv2d(128, 128, kernel_size=(3, 3), stride=(1, 1), padding=(1, 1), bias=False)\n",
            "        (bn2): BatchNorm2d(128, eps=1e-05, momentum=0.1, affine=True, track_running_stats=True)\n",
            "        (conv3): Conv2d(128, 512, kernel_size=(1, 1), stride=(1, 1), bias=False)\n",
            "        (bn3): BatchNorm2d(512, eps=1e-05, momentum=0.1, affine=True, track_running_stats=True)\n",
            "        (relu): ReLU(inplace=True)\n",
            "      )\n",
            "      (3): Bottleneck(\n",
            "        (conv1): Conv2d(512, 128, kernel_size=(1, 1), stride=(1, 1), bias=False)\n",
            "        (bn1): BatchNorm2d(128, eps=1e-05, momentum=0.1, affine=True, track_running_stats=True)\n",
            "        (conv2): Conv2d(128, 128, kernel_size=(3, 3), stride=(1, 1), padding=(1, 1), bias=False)\n",
            "        (bn2): BatchNorm2d(128, eps=1e-05, momentum=0.1, affine=True, track_running_stats=True)\n",
            "        (conv3): Conv2d(128, 512, kernel_size=(1, 1), stride=(1, 1), bias=False)\n",
            "        (bn3): BatchNorm2d(512, eps=1e-05, momentum=0.1, affine=True, track_running_stats=True)\n",
            "        (relu): ReLU(inplace=True)\n",
            "      )\n",
            "    )\n",
            "    (layer3): Sequential(\n",
            "      (0): Bottleneck(\n",
            "        (conv1): Conv2d(512, 256, kernel_size=(1, 1), stride=(1, 1), bias=False)\n",
            "        (bn1): BatchNorm2d(256, eps=1e-05, momentum=0.1, affine=True, track_running_stats=True)\n",
            "        (conv2): Conv2d(256, 256, kernel_size=(3, 3), stride=(2, 2), padding=(1, 1), bias=False)\n",
            "        (bn2): BatchNorm2d(256, eps=1e-05, momentum=0.1, affine=True, track_running_stats=True)\n",
            "        (conv3): Conv2d(256, 1024, kernel_size=(1, 1), stride=(1, 1), bias=False)\n",
            "        (bn3): BatchNorm2d(1024, eps=1e-05, momentum=0.1, affine=True, track_running_stats=True)\n",
            "        (relu): ReLU(inplace=True)\n",
            "        (downsample): Sequential(\n",
            "          (0): Conv2d(512, 1024, kernel_size=(1, 1), stride=(2, 2), bias=False)\n",
            "          (1): BatchNorm2d(1024, eps=1e-05, momentum=0.1, affine=True, track_running_stats=True)\n",
            "        )\n",
            "      )\n",
            "      (1): Bottleneck(\n",
            "        (conv1): Conv2d(1024, 256, kernel_size=(1, 1), stride=(1, 1), bias=False)\n",
            "        (bn1): BatchNorm2d(256, eps=1e-05, momentum=0.1, affine=True, track_running_stats=True)\n",
            "        (conv2): Conv2d(256, 256, kernel_size=(3, 3), stride=(1, 1), padding=(1, 1), bias=False)\n",
            "        (bn2): BatchNorm2d(256, eps=1e-05, momentum=0.1, affine=True, track_running_stats=True)\n",
            "        (conv3): Conv2d(256, 1024, kernel_size=(1, 1), stride=(1, 1), bias=False)\n",
            "        (bn3): BatchNorm2d(1024, eps=1e-05, momentum=0.1, affine=True, track_running_stats=True)\n",
            "        (relu): ReLU(inplace=True)\n",
            "      )\n",
            "      (2): Bottleneck(\n",
            "        (conv1): Conv2d(1024, 256, kernel_size=(1, 1), stride=(1, 1), bias=False)\n",
            "        (bn1): BatchNorm2d(256, eps=1e-05, momentum=0.1, affine=True, track_running_stats=True)\n",
            "        (conv2): Conv2d(256, 256, kernel_size=(3, 3), stride=(1, 1), padding=(1, 1), bias=False)\n",
            "        (bn2): BatchNorm2d(256, eps=1e-05, momentum=0.1, affine=True, track_running_stats=True)\n",
            "        (conv3): Conv2d(256, 1024, kernel_size=(1, 1), stride=(1, 1), bias=False)\n",
            "        (bn3): BatchNorm2d(1024, eps=1e-05, momentum=0.1, affine=True, track_running_stats=True)\n",
            "        (relu): ReLU(inplace=True)\n",
            "      )\n",
            "      (3): Bottleneck(\n",
            "        (conv1): Conv2d(1024, 256, kernel_size=(1, 1), stride=(1, 1), bias=False)\n",
            "        (bn1): BatchNorm2d(256, eps=1e-05, momentum=0.1, affine=True, track_running_stats=True)\n",
            "        (conv2): Conv2d(256, 256, kernel_size=(3, 3), stride=(1, 1), padding=(1, 1), bias=False)\n",
            "        (bn2): BatchNorm2d(256, eps=1e-05, momentum=0.1, affine=True, track_running_stats=True)\n",
            "        (conv3): Conv2d(256, 1024, kernel_size=(1, 1), stride=(1, 1), bias=False)\n",
            "        (bn3): BatchNorm2d(1024, eps=1e-05, momentum=0.1, affine=True, track_running_stats=True)\n",
            "        (relu): ReLU(inplace=True)\n",
            "      )\n",
            "      (4): Bottleneck(\n",
            "        (conv1): Conv2d(1024, 256, kernel_size=(1, 1), stride=(1, 1), bias=False)\n",
            "        (bn1): BatchNorm2d(256, eps=1e-05, momentum=0.1, affine=True, track_running_stats=True)\n",
            "        (conv2): Conv2d(256, 256, kernel_size=(3, 3), stride=(1, 1), padding=(1, 1), bias=False)\n",
            "        (bn2): BatchNorm2d(256, eps=1e-05, momentum=0.1, affine=True, track_running_stats=True)\n",
            "        (conv3): Conv2d(256, 1024, kernel_size=(1, 1), stride=(1, 1), bias=False)\n",
            "        (bn3): BatchNorm2d(1024, eps=1e-05, momentum=0.1, affine=True, track_running_stats=True)\n",
            "        (relu): ReLU(inplace=True)\n",
            "      )\n",
            "      (5): Bottleneck(\n",
            "        (conv1): Conv2d(1024, 256, kernel_size=(1, 1), stride=(1, 1), bias=False)\n",
            "        (bn1): BatchNorm2d(256, eps=1e-05, momentum=0.1, affine=True, track_running_stats=True)\n",
            "        (conv2): Conv2d(256, 256, kernel_size=(3, 3), stride=(1, 1), padding=(1, 1), bias=False)\n",
            "        (bn2): BatchNorm2d(256, eps=1e-05, momentum=0.1, affine=True, track_running_stats=True)\n",
            "        (conv3): Conv2d(256, 1024, kernel_size=(1, 1), stride=(1, 1), bias=False)\n",
            "        (bn3): BatchNorm2d(1024, eps=1e-05, momentum=0.1, affine=True, track_running_stats=True)\n",
            "        (relu): ReLU(inplace=True)\n",
            "      )\n",
            "    )\n",
            "    (layer4): Sequential(\n",
            "      (0): Bottleneck(\n",
            "        (conv1): Conv2d(1024, 512, kernel_size=(1, 1), stride=(1, 1), bias=False)\n",
            "        (bn1): BatchNorm2d(512, eps=1e-05, momentum=0.1, affine=True, track_running_stats=True)\n",
            "        (conv2): Conv2d(512, 512, kernel_size=(3, 3), stride=(2, 2), padding=(1, 1), bias=False)\n",
            "        (bn2): BatchNorm2d(512, eps=1e-05, momentum=0.1, affine=True, track_running_stats=True)\n",
            "        (conv3): Conv2d(512, 2048, kernel_size=(1, 1), stride=(1, 1), bias=False)\n",
            "        (bn3): BatchNorm2d(2048, eps=1e-05, momentum=0.1, affine=True, track_running_stats=True)\n",
            "        (relu): ReLU(inplace=True)\n",
            "        (downsample): Sequential(\n",
            "          (0): Conv2d(1024, 2048, kernel_size=(1, 1), stride=(2, 2), bias=False)\n",
            "          (1): BatchNorm2d(2048, eps=1e-05, momentum=0.1, affine=True, track_running_stats=True)\n",
            "        )\n",
            "      )\n",
            "      (1): Bottleneck(\n",
            "        (conv1): Conv2d(2048, 512, kernel_size=(1, 1), stride=(1, 1), bias=False)\n",
            "        (bn1): BatchNorm2d(512, eps=1e-05, momentum=0.1, affine=True, track_running_stats=True)\n",
            "        (conv2): Conv2d(512, 512, kernel_size=(3, 3), stride=(1, 1), padding=(1, 1), bias=False)\n",
            "        (bn2): BatchNorm2d(512, eps=1e-05, momentum=0.1, affine=True, track_running_stats=True)\n",
            "        (conv3): Conv2d(512, 2048, kernel_size=(1, 1), stride=(1, 1), bias=False)\n",
            "        (bn3): BatchNorm2d(2048, eps=1e-05, momentum=0.1, affine=True, track_running_stats=True)\n",
            "        (relu): ReLU(inplace=True)\n",
            "      )\n",
            "      (2): Bottleneck(\n",
            "        (conv1): Conv2d(2048, 512, kernel_size=(1, 1), stride=(1, 1), bias=False)\n",
            "        (bn1): BatchNorm2d(512, eps=1e-05, momentum=0.1, affine=True, track_running_stats=True)\n",
            "        (conv2): Conv2d(512, 512, kernel_size=(3, 3), stride=(1, 1), padding=(1, 1), bias=False)\n",
            "        (bn2): BatchNorm2d(512, eps=1e-05, momentum=0.1, affine=True, track_running_stats=True)\n",
            "        (conv3): Conv2d(512, 2048, kernel_size=(1, 1), stride=(1, 1), bias=False)\n",
            "        (bn3): BatchNorm2d(2048, eps=1e-05, momentum=0.1, affine=True, track_running_stats=True)\n",
            "        (relu): ReLU(inplace=True)\n",
            "      )\n",
            "    )\n",
            "    (avgpool): AdaptiveAvgPool2d(output_size=(1, 1))\n",
            "    (fc): Linear(in_features=2048, out_features=102, bias=True)\n",
            "  )\n",
            ")\n"
          ]
        }
      ]
    },
    {
      "cell_type": "markdown",
      "metadata": {
        "id": "DUSpLgVXIwqG"
      },
      "source": [
        "### Define functions for train/test"
      ]
    },
    {
      "cell_type": "code",
      "metadata": {
        "id": "Q9pXkpAMK42y"
      },
      "source": [
        "def train(model, optimizer, sample):\n",
        "    model.train()\n",
        "\n",
        "    criterion = nn.CrossEntropyLoss()\n",
        "\n",
        "    optimizer.zero_grad()\n",
        "\n",
        "    img = sample[0].float().to(device)\n",
        "    label = sample[1].long().to(device) \n",
        "    \n",
        "    pred = model(img)\n",
        "\n",
        "    num_correct = sum(torch.argmax(pred, dim=1) == label)\n",
        "    \n",
        "    pred_loss = criterion(pred, label)\n",
        "    \n",
        "    # Try to add the regularization loss!\n",
        "\n",
        "    pred_loss.backward()\n",
        "       \n",
        "    optimizer.step()\n",
        "\n",
        "    return pred_loss.item(), num_correct.item()"
      ],
      "execution_count": null,
      "outputs": []
    },
    {
      "cell_type": "code",
      "metadata": {
        "id": "MhcKwq8WOUGu"
      },
      "source": [
        "def test(model, sample):\n",
        "    model.eval()\n",
        "\n",
        "    criterion = nn.CrossEntropyLoss()\n",
        "\n",
        "    with torch.no_grad():\n",
        "        img = sample[0].float().to(device)\n",
        "        label = sample[1].long().to(device) \n",
        "\n",
        "        pred = model(img)\n",
        "        pred_loss = criterion(pred, label)\n",
        "\n",
        "        num_correct = sum(torch.argmax(pred, dim=1) == label)\n",
        "\n",
        "    return pred_loss.item(), num_correct.item()"
      ],
      "execution_count": null,
      "outputs": []
    },
    {
      "cell_type": "markdown",
      "metadata": {
        "id": "T23Toz8vI7Gu"
      },
      "source": [
        "### Run Training"
      ]
    },
    {
      "cell_type": "code",
      "metadata": {
        "id": "-kTrpt4YMRS6",
        "colab": {
          "base_uri": "https://localhost:8080/",
          "height": 1000,
          "referenced_widgets": [
            "25b69cee69b24e93bfdcc8a891659212",
            "26ff3331ed304f47ba747ede3393e19f",
            "31841e5a80e042e19a1df09487e7afce",
            "b47b7d2329a0402d9582774a35117253",
            "4aee6b3d2d7c4b7b918a765498095fef",
            "e875f9e9551a4d7e9898ef64540526e2",
            "a820033d0b094da9a4e50672f39786a9",
            "de5fb639c6724c7a8c1d6e2d497b90e4",
            "5b558033327c42cab0d4770bfc3517d1",
            "8246323f487c44f18465ea4fa8418c5f",
            "400a33703d654a73acd8013a1e16859d"
          ]
        },
        "outputId": "c5382463-8c4e-411a-92c8-b5e0f6b5cc68"
      },
      "source": [
        "max_epoch = 200\n",
        "tmp_path = './checkpoint.pth'\n",
        "\n",
        "for epoch in tqdm(range(max_epoch)):        \n",
        "    ###Train Phase\n",
        "    \n",
        "    # Initialize Loss and Accuracy\n",
        "    train_loss = 0.0\n",
        "    train_accu = 0.0\n",
        "\n",
        "    # Iterate over the train_dataloader\n",
        "    for idx, sample in enumerate(train_dataloader):\n",
        "        curr_loss, num_correct = train(model, optimizer, sample)\n",
        "        train_loss += curr_loss / len(train_dataloader)\n",
        "        train_accu += num_correct / len(train_dataset)\n",
        "\n",
        "    torch.save(model.state_dict(), 'recent.pth')\n",
        "    \n",
        "    ### Test Phase\n",
        "    # Initialize Loss and Accuracy\n",
        "    test_loss = 0.0\n",
        "    test_accu = 0.0\n",
        "\n",
        "    # Iterate over the test_dataloader\n",
        "    for idx, sample in enumerate(test_dataloader):\n",
        "        curr_loss, num_correct = test(model, sample)\n",
        "        test_loss += curr_loss / len(test_dataloader)\n",
        "        test_accu += num_correct / len(test_dataset)\n",
        "\n",
        "\n",
        "    print('[epoch {}] Loss train: {:.02f} test:{:.02f} / Accu train: {:.02f} test:{:.02f}'.format(epoch+1, train_loss, test_loss, train_accu, test_accu))"
      ],
      "execution_count": null,
      "outputs": [
        {
          "data": {
            "application/vnd.jupyter.widget-view+json": {
              "model_id": "25b69cee69b24e93bfdcc8a891659212",
              "version_major": 2,
              "version_minor": 0
            },
            "text/plain": [
              "  0%|          | 0/200 [00:00<?, ?it/s]"
            ]
          },
          "metadata": {},
          "output_type": "display_data"
        },
        {
          "output_type": "stream",
          "name": "stdout",
          "text": [
            "[epoch 1] Loss train: 4.62 test:4.60 / Accu train: 0.01 test:0.01\n",
            "[epoch 2] Loss train: 4.43 test:4.51 / Accu train: 0.21 test:0.05\n",
            "[epoch 3] Loss train: 4.22 test:4.38 / Accu train: 0.54 test:0.17\n",
            "[epoch 4] Loss train: 3.97 test:4.20 / Accu train: 0.77 test:0.26\n",
            "[epoch 5] Loss train: 3.69 test:3.98 / Accu train: 0.89 test:0.35\n",
            "[epoch 6] Loss train: 3.37 test:3.69 / Accu train: 0.95 test:0.40\n",
            "[epoch 7] Loss train: 3.02 test:3.36 / Accu train: 0.97 test:0.44\n",
            "[epoch 8] Loss train: 2.66 test:3.06 / Accu train: 0.97 test:0.50\n",
            "[epoch 9] Loss train: 2.32 test:2.74 / Accu train: 0.98 test:0.55\n",
            "[epoch 10] Loss train: 1.99 test:2.50 / Accu train: 0.99 test:0.60\n",
            "[epoch 11] Loss train: 1.66 test:2.25 / Accu train: 0.99 test:0.66\n",
            "[epoch 12] Loss train: 1.36 test:2.06 / Accu train: 1.00 test:0.71\n",
            "[epoch 13] Loss train: 1.07 test:1.83 / Accu train: 1.00 test:0.74\n",
            "[epoch 14] Loss train: 0.84 test:1.73 / Accu train: 1.00 test:0.77\n",
            "[epoch 15] Loss train: 0.61 test:1.55 / Accu train: 1.00 test:0.79\n",
            "[epoch 16] Loss train: 0.44 test:1.45 / Accu train: 1.00 test:0.81\n",
            "[epoch 17] Loss train: 0.32 test:1.36 / Accu train: 1.00 test:0.82\n",
            "[epoch 18] Loss train: 0.23 test:1.24 / Accu train: 1.00 test:0.83\n",
            "[epoch 19] Loss train: 0.17 test:1.18 / Accu train: 1.00 test:0.83\n",
            "[epoch 20] Loss train: 0.13 test:1.12 / Accu train: 1.00 test:0.83\n",
            "[epoch 21] Loss train: 0.09 test:1.07 / Accu train: 1.00 test:0.84\n",
            "[epoch 22] Loss train: 0.07 test:1.02 / Accu train: 1.00 test:0.84\n",
            "[epoch 23] Loss train: 0.06 test:0.99 / Accu train: 1.00 test:0.84\n",
            "[epoch 24] Loss train: 0.05 test:0.97 / Accu train: 1.00 test:0.84\n",
            "[epoch 25] Loss train: 0.04 test:0.96 / Accu train: 1.00 test:0.84\n",
            "[epoch 26] Loss train: 0.04 test:0.95 / Accu train: 1.00 test:0.84\n",
            "[epoch 27] Loss train: 0.03 test:0.93 / Accu train: 1.00 test:0.85\n",
            "[epoch 28] Loss train: 0.03 test:0.92 / Accu train: 1.00 test:0.85\n",
            "[epoch 29] Loss train: 0.03 test:0.91 / Accu train: 1.00 test:0.85\n",
            "[epoch 30] Loss train: 0.02 test:0.90 / Accu train: 1.00 test:0.85\n",
            "[epoch 31] Loss train: 0.02 test:0.89 / Accu train: 1.00 test:0.85\n",
            "[epoch 32] Loss train: 0.02 test:0.88 / Accu train: 1.00 test:0.85\n",
            "[epoch 33] Loss train: 0.02 test:0.88 / Accu train: 1.00 test:0.85\n",
            "[epoch 34] Loss train: 0.02 test:0.88 / Accu train: 1.00 test:0.85\n",
            "[epoch 35] Loss train: 0.02 test:0.87 / Accu train: 1.00 test:0.85\n",
            "[epoch 36] Loss train: 0.02 test:0.86 / Accu train: 1.00 test:0.85\n",
            "[epoch 37] Loss train: 0.02 test:0.85 / Accu train: 1.00 test:0.85\n",
            "[epoch 38] Loss train: 0.01 test:0.85 / Accu train: 1.00 test:0.85\n",
            "[epoch 39] Loss train: 0.01 test:0.84 / Accu train: 1.00 test:0.85\n",
            "[epoch 40] Loss train: 0.01 test:0.84 / Accu train: 1.00 test:0.85\n",
            "[epoch 41] Loss train: 0.01 test:0.83 / Accu train: 1.00 test:0.85\n",
            "[epoch 42] Loss train: 0.01 test:0.83 / Accu train: 1.00 test:0.85\n",
            "[epoch 43] Loss train: 0.01 test:0.82 / Accu train: 1.00 test:0.85\n",
            "[epoch 44] Loss train: 0.01 test:0.82 / Accu train: 1.00 test:0.85\n",
            "[epoch 45] Loss train: 0.01 test:0.81 / Accu train: 1.00 test:0.85\n",
            "[epoch 46] Loss train: 0.01 test:0.81 / Accu train: 1.00 test:0.85\n",
            "[epoch 47] Loss train: 0.01 test:0.81 / Accu train: 1.00 test:0.85\n",
            "[epoch 48] Loss train: 0.01 test:0.80 / Accu train: 1.00 test:0.85\n",
            "[epoch 49] Loss train: 0.01 test:0.80 / Accu train: 1.00 test:0.85\n",
            "[epoch 50] Loss train: 0.01 test:0.79 / Accu train: 1.00 test:0.85\n",
            "[epoch 51] Loss train: 0.01 test:0.79 / Accu train: 1.00 test:0.85\n",
            "[epoch 52] Loss train: 0.01 test:0.79 / Accu train: 1.00 test:0.85\n",
            "[epoch 53] Loss train: 0.01 test:0.78 / Accu train: 1.00 test:0.85\n",
            "[epoch 54] Loss train: 0.01 test:0.78 / Accu train: 1.00 test:0.85\n",
            "[epoch 55] Loss train: 0.01 test:0.77 / Accu train: 1.00 test:0.85\n",
            "[epoch 56] Loss train: 0.01 test:0.77 / Accu train: 1.00 test:0.85\n",
            "[epoch 57] Loss train: 0.01 test:0.77 / Accu train: 1.00 test:0.86\n",
            "[epoch 58] Loss train: 0.01 test:0.76 / Accu train: 1.00 test:0.86\n",
            "[epoch 59] Loss train: 0.01 test:0.76 / Accu train: 1.00 test:0.86\n",
            "[epoch 60] Loss train: 0.01 test:0.76 / Accu train: 1.00 test:0.86\n",
            "[epoch 61] Loss train: 0.01 test:0.76 / Accu train: 1.00 test:0.86\n",
            "[epoch 62] Loss train: 0.01 test:0.75 / Accu train: 1.00 test:0.86\n",
            "[epoch 63] Loss train: 0.01 test:0.75 / Accu train: 1.00 test:0.86\n",
            "[epoch 64] Loss train: 0.01 test:0.75 / Accu train: 1.00 test:0.86\n",
            "[epoch 65] Loss train: 0.01 test:0.75 / Accu train: 1.00 test:0.86\n",
            "[epoch 66] Loss train: 0.01 test:0.74 / Accu train: 1.00 test:0.86\n",
            "[epoch 67] Loss train: 0.01 test:0.74 / Accu train: 1.00 test:0.86\n",
            "[epoch 68] Loss train: 0.00 test:0.74 / Accu train: 1.00 test:0.86\n",
            "[epoch 69] Loss train: 0.00 test:0.74 / Accu train: 1.00 test:0.86\n",
            "[epoch 70] Loss train: 0.00 test:0.73 / Accu train: 1.00 test:0.86\n",
            "[epoch 71] Loss train: 0.00 test:0.73 / Accu train: 1.00 test:0.86\n",
            "[epoch 72] Loss train: 0.00 test:0.73 / Accu train: 1.00 test:0.86\n",
            "[epoch 73] Loss train: 0.00 test:0.73 / Accu train: 1.00 test:0.86\n",
            "[epoch 74] Loss train: 0.00 test:0.72 / Accu train: 1.00 test:0.86\n",
            "[epoch 75] Loss train: 0.00 test:0.72 / Accu train: 1.00 test:0.86\n",
            "[epoch 76] Loss train: 0.00 test:0.72 / Accu train: 1.00 test:0.86\n",
            "[epoch 77] Loss train: 0.00 test:0.72 / Accu train: 1.00 test:0.86\n",
            "[epoch 78] Loss train: 0.00 test:0.72 / Accu train: 1.00 test:0.86\n",
            "[epoch 79] Loss train: 0.00 test:0.72 / Accu train: 1.00 test:0.86\n",
            "[epoch 80] Loss train: 0.00 test:0.71 / Accu train: 1.00 test:0.86\n",
            "[epoch 81] Loss train: 0.00 test:0.71 / Accu train: 1.00 test:0.86\n",
            "[epoch 82] Loss train: 0.00 test:0.71 / Accu train: 1.00 test:0.86\n",
            "[epoch 83] Loss train: 0.00 test:0.71 / Accu train: 1.00 test:0.86\n",
            "[epoch 84] Loss train: 0.00 test:0.71 / Accu train: 1.00 test:0.86\n",
            "[epoch 85] Loss train: 0.00 test:0.71 / Accu train: 1.00 test:0.86\n",
            "[epoch 86] Loss train: 0.00 test:0.70 / Accu train: 1.00 test:0.86\n",
            "[epoch 87] Loss train: 0.00 test:0.70 / Accu train: 1.00 test:0.86\n",
            "[epoch 88] Loss train: 0.00 test:0.70 / Accu train: 1.00 test:0.86\n",
            "[epoch 89] Loss train: 0.00 test:0.70 / Accu train: 1.00 test:0.86\n",
            "[epoch 90] Loss train: 0.00 test:0.70 / Accu train: 1.00 test:0.86\n",
            "[epoch 91] Loss train: 0.00 test:0.69 / Accu train: 1.00 test:0.86\n",
            "[epoch 92] Loss train: 0.00 test:0.69 / Accu train: 1.00 test:0.86\n",
            "[epoch 93] Loss train: 0.00 test:0.69 / Accu train: 1.00 test:0.86\n",
            "[epoch 94] Loss train: 0.00 test:0.69 / Accu train: 1.00 test:0.86\n",
            "[epoch 95] Loss train: 0.00 test:0.69 / Accu train: 1.00 test:0.86\n",
            "[epoch 96] Loss train: 0.00 test:0.69 / Accu train: 1.00 test:0.86\n",
            "[epoch 97] Loss train: 0.00 test:0.69 / Accu train: 1.00 test:0.86\n",
            "[epoch 98] Loss train: 0.00 test:0.69 / Accu train: 1.00 test:0.86\n",
            "[epoch 99] Loss train: 0.00 test:0.68 / Accu train: 1.00 test:0.86\n",
            "[epoch 100] Loss train: 0.00 test:0.68 / Accu train: 1.00 test:0.86\n",
            "[epoch 101] Loss train: 0.00 test:0.68 / Accu train: 1.00 test:0.86\n",
            "[epoch 102] Loss train: 0.00 test:0.68 / Accu train: 1.00 test:0.86\n",
            "[epoch 103] Loss train: 0.00 test:0.68 / Accu train: 1.00 test:0.86\n",
            "[epoch 104] Loss train: 0.00 test:0.68 / Accu train: 1.00 test:0.86\n",
            "[epoch 105] Loss train: 0.00 test:0.68 / Accu train: 1.00 test:0.86\n",
            "[epoch 106] Loss train: 0.00 test:0.67 / Accu train: 1.00 test:0.86\n",
            "[epoch 107] Loss train: 0.00 test:0.67 / Accu train: 1.00 test:0.86\n",
            "[epoch 108] Loss train: 0.00 test:0.67 / Accu train: 1.00 test:0.86\n",
            "[epoch 109] Loss train: 0.00 test:0.67 / Accu train: 1.00 test:0.86\n",
            "[epoch 110] Loss train: 0.00 test:0.67 / Accu train: 1.00 test:0.86\n",
            "[epoch 111] Loss train: 0.00 test:0.67 / Accu train: 1.00 test:0.86\n",
            "[epoch 112] Loss train: 0.00 test:0.67 / Accu train: 1.00 test:0.86\n",
            "[epoch 113] Loss train: 0.00 test:0.67 / Accu train: 1.00 test:0.86\n",
            "[epoch 114] Loss train: 0.00 test:0.67 / Accu train: 1.00 test:0.86\n",
            "[epoch 115] Loss train: 0.00 test:0.67 / Accu train: 1.00 test:0.86\n",
            "[epoch 116] Loss train: 0.00 test:0.66 / Accu train: 1.00 test:0.86\n",
            "[epoch 117] Loss train: 0.00 test:0.66 / Accu train: 1.00 test:0.86\n",
            "[epoch 118] Loss train: 0.00 test:0.66 / Accu train: 1.00 test:0.86\n",
            "[epoch 119] Loss train: 0.00 test:0.66 / Accu train: 1.00 test:0.86\n",
            "[epoch 120] Loss train: 0.00 test:0.66 / Accu train: 1.00 test:0.86\n",
            "[epoch 121] Loss train: 0.00 test:0.66 / Accu train: 1.00 test:0.86\n",
            "[epoch 122] Loss train: 0.00 test:0.66 / Accu train: 1.00 test:0.86\n",
            "[epoch 123] Loss train: 0.00 test:0.66 / Accu train: 1.00 test:0.86\n",
            "[epoch 124] Loss train: 0.00 test:0.66 / Accu train: 1.00 test:0.86\n",
            "[epoch 125] Loss train: 0.00 test:0.65 / Accu train: 1.00 test:0.86\n",
            "[epoch 126] Loss train: 0.00 test:0.65 / Accu train: 1.00 test:0.86\n",
            "[epoch 127] Loss train: 0.00 test:0.65 / Accu train: 1.00 test:0.86\n",
            "[epoch 128] Loss train: 0.00 test:0.65 / Accu train: 1.00 test:0.86\n",
            "[epoch 129] Loss train: 0.00 test:0.65 / Accu train: 1.00 test:0.86\n",
            "[epoch 130] Loss train: 0.00 test:0.65 / Accu train: 1.00 test:0.86\n",
            "[epoch 131] Loss train: 0.00 test:0.65 / Accu train: 1.00 test:0.86\n",
            "[epoch 132] Loss train: 0.00 test:0.65 / Accu train: 1.00 test:0.86\n",
            "[epoch 133] Loss train: 0.00 test:0.65 / Accu train: 1.00 test:0.86\n",
            "[epoch 134] Loss train: 0.00 test:0.65 / Accu train: 1.00 test:0.86\n",
            "[epoch 135] Loss train: 0.00 test:0.65 / Accu train: 1.00 test:0.86\n",
            "[epoch 136] Loss train: 0.00 test:0.65 / Accu train: 1.00 test:0.86\n",
            "[epoch 137] Loss train: 0.00 test:0.65 / Accu train: 1.00 test:0.86\n",
            "[epoch 138] Loss train: 0.00 test:0.64 / Accu train: 1.00 test:0.86\n",
            "[epoch 139] Loss train: 0.00 test:0.64 / Accu train: 1.00 test:0.86\n"
          ]
        }
      ]
    },
    {
      "cell_type": "code",
      "metadata": {
        "id": "dOeYopHTkhvJ"
      },
      "source": [],
      "execution_count": null,
      "outputs": []
    }
  ]
}